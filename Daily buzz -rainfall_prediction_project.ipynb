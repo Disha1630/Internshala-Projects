{
 "cells": [
  {
   "cell_type": "code",
   "execution_count": 22,
   "id": "b195594c",
   "metadata": {},
   "outputs": [],
   "source": [
    "# Importing Essential libraries\n",
    "import pandas as pd\n",
    "import seaborn as sns"
   ]
  },
  {
   "cell_type": "code",
   "execution_count": 23,
   "id": "d020dfe6",
   "metadata": {},
   "outputs": [],
   "source": [
    "df=pd.read_excel(\"sydney_rain prediction.xlsx\")"
   ]
  },
  {
   "cell_type": "code",
   "execution_count": 24,
   "id": "3d0ec642",
   "metadata": {},
   "outputs": [
    {
     "data": {
      "text/html": [
       "<div>\n",
       "<style scoped>\n",
       "    .dataframe tbody tr th:only-of-type {\n",
       "        vertical-align: middle;\n",
       "    }\n",
       "\n",
       "    .dataframe tbody tr th {\n",
       "        vertical-align: top;\n",
       "    }\n",
       "\n",
       "    .dataframe thead th {\n",
       "        text-align: right;\n",
       "    }\n",
       "</style>\n",
       "<table border=\"1\" class=\"dataframe\">\n",
       "  <thead>\n",
       "    <tr style=\"text-align: right;\">\n",
       "      <th></th>\n",
       "      <th>Date</th>\n",
       "      <th>Location</th>\n",
       "      <th>MinTemp</th>\n",
       "      <th>MaxTemp</th>\n",
       "      <th>Rainfall</th>\n",
       "      <th>Evaporation</th>\n",
       "      <th>Sunshine</th>\n",
       "      <th>Humidity9am</th>\n",
       "      <th>Humidity3pm</th>\n",
       "      <th>Pressure9am</th>\n",
       "      <th>Pressure3pm</th>\n",
       "      <th>Cloud9am</th>\n",
       "      <th>Cloud3pm</th>\n",
       "      <th>Temp9am</th>\n",
       "      <th>Temp3pm</th>\n",
       "      <th>RainToday</th>\n",
       "      <th>RainTomorrow</th>\n",
       "    </tr>\n",
       "  </thead>\n",
       "  <tbody>\n",
       "    <tr>\n",
       "      <th>0</th>\n",
       "      <td>2008-02-01</td>\n",
       "      <td>Sydney</td>\n",
       "      <td>19.5</td>\n",
       "      <td>22.4</td>\n",
       "      <td>15.6</td>\n",
       "      <td>6.2</td>\n",
       "      <td>0.0</td>\n",
       "      <td>92.0</td>\n",
       "      <td>84.0</td>\n",
       "      <td>1017.6</td>\n",
       "      <td>1017.4</td>\n",
       "      <td>8.0</td>\n",
       "      <td>8.0</td>\n",
       "      <td>20.7</td>\n",
       "      <td>20.9</td>\n",
       "      <td>Yes</td>\n",
       "      <td>Yes</td>\n",
       "    </tr>\n",
       "    <tr>\n",
       "      <th>1</th>\n",
       "      <td>2008-02-02</td>\n",
       "      <td>Sydney</td>\n",
       "      <td>19.5</td>\n",
       "      <td>25.6</td>\n",
       "      <td>6.0</td>\n",
       "      <td>3.4</td>\n",
       "      <td>2.7</td>\n",
       "      <td>83.0</td>\n",
       "      <td>73.0</td>\n",
       "      <td>1017.9</td>\n",
       "      <td>1016.4</td>\n",
       "      <td>7.0</td>\n",
       "      <td>7.0</td>\n",
       "      <td>22.4</td>\n",
       "      <td>24.8</td>\n",
       "      <td>Yes</td>\n",
       "      <td>Yes</td>\n",
       "    </tr>\n",
       "    <tr>\n",
       "      <th>2</th>\n",
       "      <td>2008-02-03</td>\n",
       "      <td>Sydney</td>\n",
       "      <td>21.6</td>\n",
       "      <td>24.5</td>\n",
       "      <td>6.6</td>\n",
       "      <td>2.4</td>\n",
       "      <td>0.1</td>\n",
       "      <td>88.0</td>\n",
       "      <td>86.0</td>\n",
       "      <td>1016.7</td>\n",
       "      <td>1015.6</td>\n",
       "      <td>7.0</td>\n",
       "      <td>8.0</td>\n",
       "      <td>23.5</td>\n",
       "      <td>23.0</td>\n",
       "      <td>Yes</td>\n",
       "      <td>Yes</td>\n",
       "    </tr>\n",
       "    <tr>\n",
       "      <th>3</th>\n",
       "      <td>2008-02-04</td>\n",
       "      <td>Sydney</td>\n",
       "      <td>20.2</td>\n",
       "      <td>22.8</td>\n",
       "      <td>18.8</td>\n",
       "      <td>2.2</td>\n",
       "      <td>0.0</td>\n",
       "      <td>83.0</td>\n",
       "      <td>90.0</td>\n",
       "      <td>1014.2</td>\n",
       "      <td>1011.8</td>\n",
       "      <td>8.0</td>\n",
       "      <td>8.0</td>\n",
       "      <td>21.4</td>\n",
       "      <td>20.9</td>\n",
       "      <td>Yes</td>\n",
       "      <td>Yes</td>\n",
       "    </tr>\n",
       "    <tr>\n",
       "      <th>4</th>\n",
       "      <td>2008-02-05</td>\n",
       "      <td>Sydney</td>\n",
       "      <td>19.7</td>\n",
       "      <td>25.7</td>\n",
       "      <td>77.4</td>\n",
       "      <td>NaN</td>\n",
       "      <td>0.0</td>\n",
       "      <td>88.0</td>\n",
       "      <td>74.0</td>\n",
       "      <td>1008.3</td>\n",
       "      <td>1004.8</td>\n",
       "      <td>8.0</td>\n",
       "      <td>8.0</td>\n",
       "      <td>22.5</td>\n",
       "      <td>25.5</td>\n",
       "      <td>Yes</td>\n",
       "      <td>Yes</td>\n",
       "    </tr>\n",
       "  </tbody>\n",
       "</table>\n",
       "</div>"
      ],
      "text/plain": [
       "        Date Location  MinTemp  MaxTemp  Rainfall  Evaporation  Sunshine  \\\n",
       "0 2008-02-01   Sydney     19.5     22.4      15.6          6.2       0.0   \n",
       "1 2008-02-02   Sydney     19.5     25.6       6.0          3.4       2.7   \n",
       "2 2008-02-03   Sydney     21.6     24.5       6.6          2.4       0.1   \n",
       "3 2008-02-04   Sydney     20.2     22.8      18.8          2.2       0.0   \n",
       "4 2008-02-05   Sydney     19.7     25.7      77.4          NaN       0.0   \n",
       "\n",
       "   Humidity9am  Humidity3pm  Pressure9am  Pressure3pm  Cloud9am  Cloud3pm  \\\n",
       "0         92.0         84.0       1017.6       1017.4       8.0       8.0   \n",
       "1         83.0         73.0       1017.9       1016.4       7.0       7.0   \n",
       "2         88.0         86.0       1016.7       1015.6       7.0       8.0   \n",
       "3         83.0         90.0       1014.2       1011.8       8.0       8.0   \n",
       "4         88.0         74.0       1008.3       1004.8       8.0       8.0   \n",
       "\n",
       "   Temp9am  Temp3pm RainToday RainTomorrow  \n",
       "0     20.7     20.9       Yes          Yes  \n",
       "1     22.4     24.8       Yes          Yes  \n",
       "2     23.5     23.0       Yes          Yes  \n",
       "3     21.4     20.9       Yes          Yes  \n",
       "4     22.5     25.5       Yes          Yes  "
      ]
     },
     "execution_count": 24,
     "metadata": {},
     "output_type": "execute_result"
    }
   ],
   "source": [
    "df.head()"
   ]
  },
  {
   "cell_type": "code",
   "execution_count": 25,
   "id": "0bbb290d",
   "metadata": {
    "scrolled": true
   },
   "outputs": [
    {
     "name": "stdout",
     "output_type": "stream",
     "text": [
      "<class 'pandas.core.frame.DataFrame'>\n",
      "RangeIndex: 3337 entries, 0 to 3336\n",
      "Data columns (total 17 columns):\n",
      " #   Column        Non-Null Count  Dtype         \n",
      "---  ------        --------------  -----         \n",
      " 0   Date          3337 non-null   datetime64[ns]\n",
      " 1   Location      3337 non-null   object        \n",
      " 2   MinTemp       3334 non-null   float64       \n",
      " 3   MaxTemp       3335 non-null   float64       \n",
      " 4   Rainfall      3331 non-null   float64       \n",
      " 5   Evaporation   3286 non-null   float64       \n",
      " 6   Sunshine      3321 non-null   float64       \n",
      " 7   Humidity9am   3323 non-null   float64       \n",
      " 8   Humidity3pm   3324 non-null   float64       \n",
      " 9   Pressure9am   3317 non-null   float64       \n",
      " 10  Pressure3pm   3318 non-null   float64       \n",
      " 11  Cloud9am      2771 non-null   float64       \n",
      " 12  Cloud3pm      2776 non-null   float64       \n",
      " 13  Temp9am       3333 non-null   float64       \n",
      " 14  Temp3pm       3333 non-null   float64       \n",
      " 15  RainToday     3331 non-null   object        \n",
      " 16  RainTomorrow  3337 non-null   object        \n",
      "dtypes: datetime64[ns](1), float64(13), object(3)\n",
      "memory usage: 443.3+ KB\n"
     ]
    }
   ],
   "source": [
    "df.info()"
   ]
  },
  {
   "cell_type": "code",
   "execution_count": 26,
   "id": "cb3d26a7",
   "metadata": {},
   "outputs": [
    {
     "data": {
      "text/plain": [
       "(3337, 17)"
      ]
     },
     "execution_count": 26,
     "metadata": {},
     "output_type": "execute_result"
    }
   ],
   "source": [
    "df.shape"
   ]
  },
  {
   "cell_type": "code",
   "execution_count": 27,
   "id": "eeef51cf",
   "metadata": {},
   "outputs": [
    {
     "data": {
      "text/plain": [
       "<seaborn.axisgrid.JointGrid at 0x1ce1805c050>"
      ]
     },
     "execution_count": 27,
     "metadata": {},
     "output_type": "execute_result"
    },
    {
     "data": {
      "image/png": "[encoded data removed]",
      "text/plain": [
       "<Figure size 600x600 with 3 Axes>"
      ]
     },
     "metadata": {},
     "output_type": "display_data"
    }
   ],
   "source": [
    "# Performing some visualizations to check relations and outliers.\n",
    "sns.jointplot(x=\"Rainfall\",y=\"RainTomorrow\",data=df)"
   ]
  },
  {
   "cell_type": "code",
   "execution_count": 28,
   "id": "dc6ef4c8",
   "metadata": {},
   "outputs": [
    {
     "data": {
      "text/plain": [
       "<Axes: xlabel='RainTomorrow', ylabel='count'>"
      ]
     },
     "execution_count": 28,
     "metadata": {},
     "output_type": "execute_result"
    },
    {
     "data": {
      "image/png": "[encoded data removed]",
      "text/plain": [
       "<Figure size 640x480 with 1 Axes>"
      ]
     },
     "metadata": {},
     "output_type": "display_data"
    }
   ],
   "source": [
    "sns.countplot(x='RainTomorrow', data=df)"
   ]
  },
  {
   "cell_type": "code",
   "execution_count": 29,
   "id": "0c1f69a9",
   "metadata": {},
   "outputs": [
    {
     "data": {
      "text/plain": [
       "<Axes: xlabel='Rainfall', ylabel='RainTomorrow'>"
      ]
     },
     "execution_count": 29,
     "metadata": {},
     "output_type": "execute_result"
    },
    {
     "data": {
      "image/png": "[encoded data removed]",
      "text/plain": [
       "<Figure size 640x480 with 1 Axes>"
      ]
     },
     "metadata": {},
     "output_type": "display_data"
    }
   ],
   "source": [
    "sns.scatterplot(x=\"Rainfall\",y=\"RainTomorrow\", data=df)"
   ]
  },
  {
   "cell_type": "code",
   "execution_count": 30,
   "id": "2acd0d72",
   "metadata": {},
   "outputs": [
    {
     "data": {
      "text/plain": [
       "<Axes: xlabel='Evaporation', ylabel='RainTomorrow'>"
      ]
     },
     "execution_count": 30,
     "metadata": {},
     "output_type": "execute_result"
    },
    {
     "data": {
      "image/png": "[encoded data removed]",
      "text/plain": [
       "<Figure size 640x480 with 1 Axes>"
      ]
     },
     "metadata": {},
     "output_type": "display_data"
    }
   ],
   "source": [
    "sns.scatterplot(x=\"Evaporation\",y=\"RainTomorrow\", data=df)"
   ]
  },
  {
   "cell_type": "code",
   "execution_count": 31,
   "id": "c52e0622",
   "metadata": {},
   "outputs": [
    {
     "data": {
      "text/plain": [
       "<Axes: xlabel='Sunshine', ylabel='RainTomorrow'>"
      ]
     },
     "execution_count": 31,
     "metadata": {},
     "output_type": "execute_result"
    },
    {
     "data": {
      "image/png": "[encoded data removed]",
      "text/plain": [
       "<Figure size 640x480 with 1 Axes>"
      ]
     },
     "metadata": {},
     "output_type": "display_data"
    }
   ],
   "source": [
    "sns.scatterplot(x=\"Sunshine\",y=\"RainTomorrow\", data=df)"
   ]
  },
  {
   "cell_type": "code",
   "execution_count": 32,
   "id": "7e061211",
   "metadata": {},
   "outputs": [
    {
     "data": {
      "text/plain": [
       "<Axes: xlabel='Humidity9am', ylabel='RainTomorrow'>"
      ]
     },
     "execution_count": 32,
     "metadata": {},
     "output_type": "execute_result"
    },
    {
     "data": {
      "image/png": "[encoded data removed]",
      "text/plain": [
       "<Figure size 640x480 with 1 Axes>"
      ]
     },
     "metadata": {},
     "output_type": "display_data"
    }
   ],
   "source": [
    "sns.scatterplot(x=\"Humidity9am\",y=\"RainTomorrow\", data=df)    "
   ]
  },
  {
   "cell_type": "code",
   "execution_count": 33,
   "id": "0ac193d5",
   "metadata": {
    "scrolled": false
   },
   "outputs": [
    {
     "data": {
      "text/plain": [
       "<Axes: xlabel='Humidity3pm', ylabel='RainTomorrow'>"
      ]
     },
     "execution_count": 33,
     "metadata": {},
     "output_type": "execute_result"
    },
    {
     "data": {
      "image/png": "[encoded data removed]",
      "text/plain": [
       "<Figure size 640x480 with 1 Axes>"
      ]
     },
     "metadata": {},
     "output_type": "display_data"
    }
   ],
   "source": [
    "sns.scatterplot(x=\"Humidity3pm\",y=\"RainTomorrow\", data=df)   "
   ]
  },
  {
   "cell_type": "code",
   "execution_count": 34,
   "id": "8690fdaf",
   "metadata": {},
   "outputs": [],
   "source": [
    "# Now filling the null values by the mean of that particular column.\n",
    "df.MinTemp=df.MinTemp.fillna(df.MinTemp.mean())"
   ]
  },
  {
   "cell_type": "code",
   "execution_count": 35,
   "id": "2eb39667",
   "metadata": {},
   "outputs": [],
   "source": [
    "df.MaxTemp=df.MaxTemp.fillna(df.MaxTemp.mean())\n",
    "df.Rainfall=df.Rainfall.fillna(df.Rainfall.mean())        \n",
    "df.Evaporation=df.Evaporation.fillna(df.Evaporation.mean())       \n",
    "df.Sunshine=df.Sunshine.fillna(df.Sunshine.mean())      \n",
    "df.Humidity9am=df.Humidity9am.fillna(df.Humidity9am.mean())      \n",
    "df.Humidity3pm =df.Humidity3pm.fillna(df.Humidity3pm.mean())       \n",
    "df.Pressure9am =df.Pressure9am.fillna(df.Pressure9am.mean())            \n",
    "df.Pressure3pm =df.Pressure3pm.fillna(df.Pressure3pm.mean())\n",
    "df.Temp3pm =df.Temp3pm.fillna(df.Temp3pm.mean())\n",
    "df.Cloud9am =df.Cloud9am.fillna(df.Cloud9am.mean())\n",
    "df.Cloud3pm =df.Cloud3pm.fillna(df.Cloud3pm.mean())\n",
    "df.Temp9am =df.Temp9am.fillna(df.Temp9am.mean())\n",
    "     "
   ]
  },
  {
   "cell_type": "code",
   "execution_count": 36,
   "id": "0a3fb965",
   "metadata": {},
   "outputs": [
    {
     "name": "stdout",
     "output_type": "stream",
     "text": [
      "<class 'pandas.core.frame.DataFrame'>\n",
      "RangeIndex: 3337 entries, 0 to 3336\n",
      "Data columns (total 17 columns):\n",
      " #   Column        Non-Null Count  Dtype         \n",
      "---  ------        --------------  -----         \n",
      " 0   Date          3337 non-null   datetime64[ns]\n",
      " 1   Location      3337 non-null   object        \n",
      " 2   MinTemp       3337 non-null   float64       \n",
      " 3   MaxTemp       3337 non-null   float64       \n",
      " 4   Rainfall      3337 non-null   float64       \n",
      " 5   Evaporation   3337 non-null   float64       \n",
      " 6   Sunshine      3337 non-null   float64       \n",
      " 7   Humidity9am   3337 non-null   float64       \n",
      " 8   Humidity3pm   3337 non-null   float64       \n",
      " 9   Pressure9am   3337 non-null   float64       \n",
      " 10  Pressure3pm   3337 non-null   float64       \n",
      " 11  Cloud9am      3337 non-null   float64       \n",
      " 12  Cloud3pm      3337 non-null   float64       \n",
      " 13  Temp9am       3337 non-null   float64       \n",
      " 14  Temp3pm       3337 non-null   float64       \n",
      " 15  RainToday     3331 non-null   object        \n",
      " 16  RainTomorrow  3337 non-null   object        \n",
      "dtypes: datetime64[ns](1), float64(13), object(3)\n",
      "memory usage: 443.3+ KB\n"
     ]
    }
   ],
   "source": [
    "df.info()"
   ]
  },
  {
   "cell_type": "code",
   "execution_count": 40,
   "id": "cc3a29c8",
   "metadata": {},
   "outputs": [],
   "source": [
    "import numpy as n"
   ]
  },
  {
   "cell_type": "code",
   "execution_count": 42,
   "id": "fbdc6501",
   "metadata": {},
   "outputs": [
    {
     "data": {
      "text/plain": [
       "52.29599999999982"
      ]
     },
     "execution_count": 42,
     "metadata": {},
     "output_type": "execute_result"
    }
   ],
   "source": [
    "np.percentile(df.Rainfall,[99])[0]"
   ]
  },
  {
   "cell_type": "code",
   "execution_count": 43,
   "id": "96d700c7",
   "metadata": {},
   "outputs": [],
   "source": [
    "uv=np.percentile(df.Rainfall,[99])[0]"
   ]
  },
  {
   "cell_type": "code",
   "execution_count": 46,
   "id": "ad4b874e",
   "metadata": {},
   "outputs": [
    {
     "data": {
      "text/html": [
       "<div>\n",
       "<style scoped>\n",
       "    .dataframe tbody tr th:only-of-type {\n",
       "        vertical-align: middle;\n",
       "    }\n",
       "\n",
       "    .dataframe tbody tr th {\n",
       "        vertical-align: top;\n",
       "    }\n",
       "\n",
       "    .dataframe thead th {\n",
       "        text-align: right;\n",
       "    }\n",
       "</style>\n",
       "<table border=\"1\" class=\"dataframe\">\n",
       "  <thead>\n",
       "    <tr style=\"text-align: right;\">\n",
       "      <th></th>\n",
       "      <th>Date</th>\n",
       "      <th>Location</th>\n",
       "      <th>MinTemp</th>\n",
       "      <th>MaxTemp</th>\n",
       "      <th>Rainfall</th>\n",
       "      <th>Evaporation</th>\n",
       "      <th>Sunshine</th>\n",
       "      <th>Humidity9am</th>\n",
       "      <th>Humidity3pm</th>\n",
       "      <th>Pressure9am</th>\n",
       "      <th>Pressure3pm</th>\n",
       "      <th>Cloud9am</th>\n",
       "      <th>Cloud3pm</th>\n",
       "      <th>Temp9am</th>\n",
       "      <th>Temp3pm</th>\n",
       "      <th>RainToday</th>\n",
       "      <th>RainTomorrow</th>\n",
       "    </tr>\n",
       "  </thead>\n",
       "  <tbody>\n",
       "    <tr>\n",
       "      <th>4</th>\n",
       "      <td>2008-02-05</td>\n",
       "      <td>Sydney</td>\n",
       "      <td>19.7</td>\n",
       "      <td>25.7</td>\n",
       "      <td>77.4</td>\n",
       "      <td>5.187432</td>\n",
       "      <td>0.000000</td>\n",
       "      <td>88.0</td>\n",
       "      <td>74.0</td>\n",
       "      <td>1008.3</td>\n",
       "      <td>1004.8</td>\n",
       "      <td>8.000000</td>\n",
       "      <td>8.00000</td>\n",
       "      <td>22.5</td>\n",
       "      <td>25.5</td>\n",
       "      <td>Yes</td>\n",
       "      <td>Yes</td>\n",
       "    </tr>\n",
       "    <tr>\n",
       "      <th>218</th>\n",
       "      <td>2008-09-06</td>\n",
       "      <td>Sydney</td>\n",
       "      <td>11.8</td>\n",
       "      <td>14.2</td>\n",
       "      <td>62.2</td>\n",
       "      <td>5.187432</td>\n",
       "      <td>0.000000</td>\n",
       "      <td>92.0</td>\n",
       "      <td>88.0</td>\n",
       "      <td>1014.8</td>\n",
       "      <td>1013.1</td>\n",
       "      <td>8.000000</td>\n",
       "      <td>8.00000</td>\n",
       "      <td>13.0</td>\n",
       "      <td>12.3</td>\n",
       "      <td>Yes</td>\n",
       "      <td>Yes</td>\n",
       "    </tr>\n",
       "    <tr>\n",
       "      <th>633</th>\n",
       "      <td>2009-10-26</td>\n",
       "      <td>Sydney</td>\n",
       "      <td>14.4</td>\n",
       "      <td>17.0</td>\n",
       "      <td>73.2</td>\n",
       "      <td>5.187432</td>\n",
       "      <td>0.000000</td>\n",
       "      <td>91.0</td>\n",
       "      <td>60.0</td>\n",
       "      <td>1023.7</td>\n",
       "      <td>1025.3</td>\n",
       "      <td>8.000000</td>\n",
       "      <td>8.00000</td>\n",
       "      <td>14.7</td>\n",
       "      <td>16.6</td>\n",
       "      <td>Yes</td>\n",
       "      <td>Yes</td>\n",
       "    </tr>\n",
       "    <tr>\n",
       "      <th>737</th>\n",
       "      <td>2010-02-07</td>\n",
       "      <td>Sydney</td>\n",
       "      <td>20.2</td>\n",
       "      <td>25.0</td>\n",
       "      <td>77.4</td>\n",
       "      <td>7.400000</td>\n",
       "      <td>0.200000</td>\n",
       "      <td>95.0</td>\n",
       "      <td>86.0</td>\n",
       "      <td>1021.6</td>\n",
       "      <td>1020.8</td>\n",
       "      <td>7.000000</td>\n",
       "      <td>8.00000</td>\n",
       "      <td>21.1</td>\n",
       "      <td>23.8</td>\n",
       "      <td>Yes</td>\n",
       "      <td>Yes</td>\n",
       "    </tr>\n",
       "    <tr>\n",
       "      <th>743</th>\n",
       "      <td>2010-02-13</td>\n",
       "      <td>Sydney</td>\n",
       "      <td>21.4</td>\n",
       "      <td>25.5</td>\n",
       "      <td>70.0</td>\n",
       "      <td>9.400000</td>\n",
       "      <td>0.300000</td>\n",
       "      <td>92.0</td>\n",
       "      <td>80.0</td>\n",
       "      <td>1011.9</td>\n",
       "      <td>1010.2</td>\n",
       "      <td>8.000000</td>\n",
       "      <td>8.00000</td>\n",
       "      <td>22.1</td>\n",
       "      <td>25.2</td>\n",
       "      <td>Yes</td>\n",
       "      <td>Yes</td>\n",
       "    </tr>\n",
       "    <tr>\n",
       "      <th>855</th>\n",
       "      <td>2010-06-05</td>\n",
       "      <td>Sydney</td>\n",
       "      <td>12.5</td>\n",
       "      <td>20.5</td>\n",
       "      <td>61.4</td>\n",
       "      <td>1.000000</td>\n",
       "      <td>4.400000</td>\n",
       "      <td>80.0</td>\n",
       "      <td>67.0</td>\n",
       "      <td>1014.2</td>\n",
       "      <td>1012.0</td>\n",
       "      <td>5.000000</td>\n",
       "      <td>7.00000</td>\n",
       "      <td>13.5</td>\n",
       "      <td>17.4</td>\n",
       "      <td>Yes</td>\n",
       "      <td>No</td>\n",
       "    </tr>\n",
       "    <tr>\n",
       "      <th>1140</th>\n",
       "      <td>2011-03-20</td>\n",
       "      <td>Sydney</td>\n",
       "      <td>18.8</td>\n",
       "      <td>23.5</td>\n",
       "      <td>99.4</td>\n",
       "      <td>5.187432</td>\n",
       "      <td>3.300000</td>\n",
       "      <td>92.0</td>\n",
       "      <td>81.0</td>\n",
       "      <td>1012.4</td>\n",
       "      <td>1010.1</td>\n",
       "      <td>4.181523</td>\n",
       "      <td>4.21866</td>\n",
       "      <td>19.4</td>\n",
       "      <td>22.2</td>\n",
       "      <td>Yes</td>\n",
       "      <td>Yes</td>\n",
       "    </tr>\n",
       "    <tr>\n",
       "      <th>1182</th>\n",
       "      <td>2011-05-31</td>\n",
       "      <td>Sydney</td>\n",
       "      <td>13.9</td>\n",
       "      <td>19.9</td>\n",
       "      <td>65.2</td>\n",
       "      <td>5.187432</td>\n",
       "      <td>0.700000</td>\n",
       "      <td>81.0</td>\n",
       "      <td>62.0</td>\n",
       "      <td>1019.5</td>\n",
       "      <td>1019.3</td>\n",
       "      <td>4.181523</td>\n",
       "      <td>4.21866</td>\n",
       "      <td>17.9</td>\n",
       "      <td>19.6</td>\n",
       "      <td>Yes</td>\n",
       "      <td>Yes</td>\n",
       "    </tr>\n",
       "    <tr>\n",
       "      <th>1232</th>\n",
       "      <td>2011-07-20</td>\n",
       "      <td>Sydney</td>\n",
       "      <td>8.7</td>\n",
       "      <td>18.5</td>\n",
       "      <td>76.8</td>\n",
       "      <td>5.187432</td>\n",
       "      <td>1.600000</td>\n",
       "      <td>91.0</td>\n",
       "      <td>83.0</td>\n",
       "      <td>1012.7</td>\n",
       "      <td>1013.5</td>\n",
       "      <td>4.181523</td>\n",
       "      <td>4.21866</td>\n",
       "      <td>14.3</td>\n",
       "      <td>15.0</td>\n",
       "      <td>Yes</td>\n",
       "      <td>Yes</td>\n",
       "    </tr>\n",
       "    <tr>\n",
       "      <th>1234</th>\n",
       "      <td>2011-07-22</td>\n",
       "      <td>Sydney</td>\n",
       "      <td>11.3</td>\n",
       "      <td>13.9</td>\n",
       "      <td>88.2</td>\n",
       "      <td>5.187432</td>\n",
       "      <td>0.000000</td>\n",
       "      <td>88.0</td>\n",
       "      <td>95.0</td>\n",
       "      <td>1018.3</td>\n",
       "      <td>1018.0</td>\n",
       "      <td>4.181523</td>\n",
       "      <td>4.21866</td>\n",
       "      <td>13.1</td>\n",
       "      <td>11.5</td>\n",
       "      <td>Yes</td>\n",
       "      <td>Yes</td>\n",
       "    </tr>\n",
       "    <tr>\n",
       "      <th>1235</th>\n",
       "      <td>2011-07-23</td>\n",
       "      <td>Sydney</td>\n",
       "      <td>8.7</td>\n",
       "      <td>15.6</td>\n",
       "      <td>57.4</td>\n",
       "      <td>5.600000</td>\n",
       "      <td>2.700000</td>\n",
       "      <td>89.0</td>\n",
       "      <td>67.0</td>\n",
       "      <td>1020.4</td>\n",
       "      <td>1019.1</td>\n",
       "      <td>4.181523</td>\n",
       "      <td>4.21866</td>\n",
       "      <td>9.1</td>\n",
       "      <td>14.5</td>\n",
       "      <td>Yes</td>\n",
       "      <td>Yes</td>\n",
       "    </tr>\n",
       "    <tr>\n",
       "      <th>1464</th>\n",
       "      <td>2012-03-08</td>\n",
       "      <td>Sydney</td>\n",
       "      <td>15.0</td>\n",
       "      <td>21.2</td>\n",
       "      <td>109.4</td>\n",
       "      <td>5.187432</td>\n",
       "      <td>2.300000</td>\n",
       "      <td>96.0</td>\n",
       "      <td>71.0</td>\n",
       "      <td>1005.4</td>\n",
       "      <td>1005.9</td>\n",
       "      <td>4.181523</td>\n",
       "      <td>4.21866</td>\n",
       "      <td>15.6</td>\n",
       "      <td>20.1</td>\n",
       "      <td>Yes</td>\n",
       "      <td>Yes</td>\n",
       "    </tr>\n",
       "    <tr>\n",
       "      <th>1506</th>\n",
       "      <td>2012-04-19</td>\n",
       "      <td>Sydney</td>\n",
       "      <td>17.5</td>\n",
       "      <td>23.8</td>\n",
       "      <td>56.0</td>\n",
       "      <td>5.187432</td>\n",
       "      <td>3.300000</td>\n",
       "      <td>92.0</td>\n",
       "      <td>82.0</td>\n",
       "      <td>1019.7</td>\n",
       "      <td>1016.2</td>\n",
       "      <td>4.181523</td>\n",
       "      <td>4.21866</td>\n",
       "      <td>19.5</td>\n",
       "      <td>21.5</td>\n",
       "      <td>Yes</td>\n",
       "      <td>No</td>\n",
       "    </tr>\n",
       "    <tr>\n",
       "      <th>1559</th>\n",
       "      <td>2012-06-11</td>\n",
       "      <td>Sydney</td>\n",
       "      <td>9.9</td>\n",
       "      <td>16.1</td>\n",
       "      <td>76.4</td>\n",
       "      <td>4.200000</td>\n",
       "      <td>0.000000</td>\n",
       "      <td>96.0</td>\n",
       "      <td>96.0</td>\n",
       "      <td>1022.5</td>\n",
       "      <td>1020.4</td>\n",
       "      <td>4.181523</td>\n",
       "      <td>4.21866</td>\n",
       "      <td>11.8</td>\n",
       "      <td>13.0</td>\n",
       "      <td>Yes</td>\n",
       "      <td>Yes</td>\n",
       "    </tr>\n",
       "    <tr>\n",
       "      <th>1760</th>\n",
       "      <td>2013-01-29</td>\n",
       "      <td>Sydney</td>\n",
       "      <td>19.3</td>\n",
       "      <td>26.2</td>\n",
       "      <td>95.2</td>\n",
       "      <td>5.187432</td>\n",
       "      <td>4.500000</td>\n",
       "      <td>93.0</td>\n",
       "      <td>71.0</td>\n",
       "      <td>1001.7</td>\n",
       "      <td>1004.9</td>\n",
       "      <td>8.000000</td>\n",
       "      <td>6.00000</td>\n",
       "      <td>21.5</td>\n",
       "      <td>24.0</td>\n",
       "      <td>Yes</td>\n",
       "      <td>No</td>\n",
       "    </tr>\n",
       "    <tr>\n",
       "      <th>1797</th>\n",
       "      <td>2013-04-04</td>\n",
       "      <td>Sydney</td>\n",
       "      <td>15.7</td>\n",
       "      <td>20.9</td>\n",
       "      <td>61.4</td>\n",
       "      <td>5.000000</td>\n",
       "      <td>0.400000</td>\n",
       "      <td>93.0</td>\n",
       "      <td>89.0</td>\n",
       "      <td>1028.2</td>\n",
       "      <td>1027.8</td>\n",
       "      <td>8.000000</td>\n",
       "      <td>8.00000</td>\n",
       "      <td>16.6</td>\n",
       "      <td>17.7</td>\n",
       "      <td>Yes</td>\n",
       "      <td>Yes</td>\n",
       "    </tr>\n",
       "    <tr>\n",
       "      <th>1877</th>\n",
       "      <td>2013-06-23</td>\n",
       "      <td>Sydney</td>\n",
       "      <td>7.6</td>\n",
       "      <td>13.9</td>\n",
       "      <td>56.2</td>\n",
       "      <td>0.400000</td>\n",
       "      <td>0.200000</td>\n",
       "      <td>93.0</td>\n",
       "      <td>90.0</td>\n",
       "      <td>1028.5</td>\n",
       "      <td>1026.7</td>\n",
       "      <td>7.000000</td>\n",
       "      <td>7.00000</td>\n",
       "      <td>11.0</td>\n",
       "      <td>11.9</td>\n",
       "      <td>Yes</td>\n",
       "      <td>Yes</td>\n",
       "    </tr>\n",
       "    <tr>\n",
       "      <th>1878</th>\n",
       "      <td>2013-06-24</td>\n",
       "      <td>Sydney</td>\n",
       "      <td>9.6</td>\n",
       "      <td>13.8</td>\n",
       "      <td>53.4</td>\n",
       "      <td>0.200000</td>\n",
       "      <td>0.100000</td>\n",
       "      <td>91.0</td>\n",
       "      <td>77.0</td>\n",
       "      <td>1021.7</td>\n",
       "      <td>1017.9</td>\n",
       "      <td>7.000000</td>\n",
       "      <td>7.00000</td>\n",
       "      <td>10.2</td>\n",
       "      <td>13.1</td>\n",
       "      <td>Yes</td>\n",
       "      <td>Yes</td>\n",
       "    </tr>\n",
       "    <tr>\n",
       "      <th>2355</th>\n",
       "      <td>2014-10-15</td>\n",
       "      <td>Sydney</td>\n",
       "      <td>10.6</td>\n",
       "      <td>16.0</td>\n",
       "      <td>70.8</td>\n",
       "      <td>5.187432</td>\n",
       "      <td>0.100000</td>\n",
       "      <td>79.0</td>\n",
       "      <td>52.0</td>\n",
       "      <td>1011.7</td>\n",
       "      <td>1013.4</td>\n",
       "      <td>8.000000</td>\n",
       "      <td>7.00000</td>\n",
       "      <td>11.6</td>\n",
       "      <td>15.1</td>\n",
       "      <td>Yes</td>\n",
       "      <td>No</td>\n",
       "    </tr>\n",
       "    <tr>\n",
       "      <th>2457</th>\n",
       "      <td>2015-01-28</td>\n",
       "      <td>Sydney</td>\n",
       "      <td>17.3</td>\n",
       "      <td>20.5</td>\n",
       "      <td>57.0</td>\n",
       "      <td>7.200000</td>\n",
       "      <td>2.300000</td>\n",
       "      <td>95.0</td>\n",
       "      <td>92.0</td>\n",
       "      <td>1013.3</td>\n",
       "      <td>1013.5</td>\n",
       "      <td>8.000000</td>\n",
       "      <td>7.00000</td>\n",
       "      <td>17.9</td>\n",
       "      <td>18.2</td>\n",
       "      <td>Yes</td>\n",
       "      <td>Yes</td>\n",
       "    </tr>\n",
       "    <tr>\n",
       "      <th>2540</th>\n",
       "      <td>2015-04-21</td>\n",
       "      <td>Sydney</td>\n",
       "      <td>14.5</td>\n",
       "      <td>17.7</td>\n",
       "      <td>119.4</td>\n",
       "      <td>5.187432</td>\n",
       "      <td>0.000000</td>\n",
       "      <td>87.0</td>\n",
       "      <td>96.0</td>\n",
       "      <td>1019.6</td>\n",
       "      <td>1016.8</td>\n",
       "      <td>8.000000</td>\n",
       "      <td>8.00000</td>\n",
       "      <td>14.9</td>\n",
       "      <td>14.6</td>\n",
       "      <td>Yes</td>\n",
       "      <td>Yes</td>\n",
       "    </tr>\n",
       "    <tr>\n",
       "      <th>2541</th>\n",
       "      <td>2015-04-22</td>\n",
       "      <td>Sydney</td>\n",
       "      <td>14.1</td>\n",
       "      <td>17.9</td>\n",
       "      <td>105.8</td>\n",
       "      <td>5.187432</td>\n",
       "      <td>0.600000</td>\n",
       "      <td>98.0</td>\n",
       "      <td>94.0</td>\n",
       "      <td>1013.4</td>\n",
       "      <td>1010.5</td>\n",
       "      <td>8.000000</td>\n",
       "      <td>7.00000</td>\n",
       "      <td>16.1</td>\n",
       "      <td>17.2</td>\n",
       "      <td>Yes</td>\n",
       "      <td>Yes</td>\n",
       "    </tr>\n",
       "    <tr>\n",
       "      <th>2599</th>\n",
       "      <td>2015-06-19</td>\n",
       "      <td>Sydney</td>\n",
       "      <td>9.6</td>\n",
       "      <td>14.5</td>\n",
       "      <td>67.0</td>\n",
       "      <td>5.187432</td>\n",
       "      <td>2.500000</td>\n",
       "      <td>98.0</td>\n",
       "      <td>88.0</td>\n",
       "      <td>1017.2</td>\n",
       "      <td>1017.5</td>\n",
       "      <td>7.000000</td>\n",
       "      <td>7.00000</td>\n",
       "      <td>9.9</td>\n",
       "      <td>12.5</td>\n",
       "      <td>Yes</td>\n",
       "      <td>Yes</td>\n",
       "    </tr>\n",
       "    <tr>\n",
       "      <th>2666</th>\n",
       "      <td>2015-08-25</td>\n",
       "      <td>Sydney</td>\n",
       "      <td>12.5</td>\n",
       "      <td>19.9</td>\n",
       "      <td>54.4</td>\n",
       "      <td>5.000000</td>\n",
       "      <td>4.400000</td>\n",
       "      <td>66.0</td>\n",
       "      <td>53.0</td>\n",
       "      <td>1013.4</td>\n",
       "      <td>1012.8</td>\n",
       "      <td>7.000000</td>\n",
       "      <td>7.00000</td>\n",
       "      <td>16.1</td>\n",
       "      <td>18.7</td>\n",
       "      <td>Yes</td>\n",
       "      <td>Yes</td>\n",
       "    </tr>\n",
       "    <tr>\n",
       "      <th>2875</th>\n",
       "      <td>2016-03-21</td>\n",
       "      <td>Sydney</td>\n",
       "      <td>15.4</td>\n",
       "      <td>21.2</td>\n",
       "      <td>61.2</td>\n",
       "      <td>5.800000</td>\n",
       "      <td>2.700000</td>\n",
       "      <td>91.0</td>\n",
       "      <td>65.0</td>\n",
       "      <td>1018.8</td>\n",
       "      <td>1016.5</td>\n",
       "      <td>8.000000</td>\n",
       "      <td>7.00000</td>\n",
       "      <td>15.6</td>\n",
       "      <td>20.7</td>\n",
       "      <td>Yes</td>\n",
       "      <td>Yes</td>\n",
       "    </tr>\n",
       "    <tr>\n",
       "      <th>2889</th>\n",
       "      <td>2016-04-04</td>\n",
       "      <td>Sydney</td>\n",
       "      <td>18.7</td>\n",
       "      <td>23.5</td>\n",
       "      <td>94.4</td>\n",
       "      <td>3.400000</td>\n",
       "      <td>0.800000</td>\n",
       "      <td>91.0</td>\n",
       "      <td>71.0</td>\n",
       "      <td>1023.2</td>\n",
       "      <td>1019.6</td>\n",
       "      <td>8.000000</td>\n",
       "      <td>7.00000</td>\n",
       "      <td>19.5</td>\n",
       "      <td>23.3</td>\n",
       "      <td>Yes</td>\n",
       "      <td>Yes</td>\n",
       "    </tr>\n",
       "    <tr>\n",
       "      <th>2950</th>\n",
       "      <td>2016-06-04</td>\n",
       "      <td>Sydney</td>\n",
       "      <td>13.3</td>\n",
       "      <td>21.1</td>\n",
       "      <td>64.4</td>\n",
       "      <td>5.187432</td>\n",
       "      <td>0.000000</td>\n",
       "      <td>91.0</td>\n",
       "      <td>82.0</td>\n",
       "      <td>1015.4</td>\n",
       "      <td>1009.5</td>\n",
       "      <td>8.000000</td>\n",
       "      <td>8.00000</td>\n",
       "      <td>17.0</td>\n",
       "      <td>18.8</td>\n",
       "      <td>Yes</td>\n",
       "      <td>Yes</td>\n",
       "    </tr>\n",
       "    <tr>\n",
       "      <th>2951</th>\n",
       "      <td>2016-06-05</td>\n",
       "      <td>Sydney</td>\n",
       "      <td>16.3</td>\n",
       "      <td>19.7</td>\n",
       "      <td>93.8</td>\n",
       "      <td>5.187432</td>\n",
       "      <td>0.000000</td>\n",
       "      <td>89.0</td>\n",
       "      <td>85.0</td>\n",
       "      <td>1002.5</td>\n",
       "      <td>995.9</td>\n",
       "      <td>8.000000</td>\n",
       "      <td>8.00000</td>\n",
       "      <td>18.8</td>\n",
       "      <td>19.7</td>\n",
       "      <td>Yes</td>\n",
       "      <td>Yes</td>\n",
       "    </tr>\n",
       "    <tr>\n",
       "      <th>2952</th>\n",
       "      <td>2016-06-06</td>\n",
       "      <td>Sydney</td>\n",
       "      <td>13.7</td>\n",
       "      <td>18.4</td>\n",
       "      <td>68.4</td>\n",
       "      <td>12.600000</td>\n",
       "      <td>2.200000</td>\n",
       "      <td>59.0</td>\n",
       "      <td>43.0</td>\n",
       "      <td>999.8</td>\n",
       "      <td>998.4</td>\n",
       "      <td>7.000000</td>\n",
       "      <td>7.00000</td>\n",
       "      <td>14.9</td>\n",
       "      <td>17.9</td>\n",
       "      <td>Yes</td>\n",
       "      <td>No</td>\n",
       "    </tr>\n",
       "    <tr>\n",
       "      <th>3011</th>\n",
       "      <td>2016-08-04</td>\n",
       "      <td>Sydney</td>\n",
       "      <td>10.8</td>\n",
       "      <td>18.1</td>\n",
       "      <td>61.0</td>\n",
       "      <td>9.400000</td>\n",
       "      <td>7.179374</td>\n",
       "      <td>90.0</td>\n",
       "      <td>60.0</td>\n",
       "      <td>1024.3</td>\n",
       "      <td>1025.1</td>\n",
       "      <td>6.000000</td>\n",
       "      <td>7.00000</td>\n",
       "      <td>11.6</td>\n",
       "      <td>15.5</td>\n",
       "      <td>Yes</td>\n",
       "      <td>Yes</td>\n",
       "    </tr>\n",
       "    <tr>\n",
       "      <th>3032</th>\n",
       "      <td>2016-08-25</td>\n",
       "      <td>Sydney</td>\n",
       "      <td>9.0</td>\n",
       "      <td>17.3</td>\n",
       "      <td>52.8</td>\n",
       "      <td>5.200000</td>\n",
       "      <td>6.700000</td>\n",
       "      <td>67.0</td>\n",
       "      <td>48.0</td>\n",
       "      <td>1010.2</td>\n",
       "      <td>1010.6</td>\n",
       "      <td>7.000000</td>\n",
       "      <td>3.00000</td>\n",
       "      <td>11.4</td>\n",
       "      <td>15.7</td>\n",
       "      <td>Yes</td>\n",
       "      <td>No</td>\n",
       "    </tr>\n",
       "    <tr>\n",
       "      <th>3199</th>\n",
       "      <td>2017-02-08</td>\n",
       "      <td>Sydney</td>\n",
       "      <td>20.7</td>\n",
       "      <td>27.0</td>\n",
       "      <td>85.0</td>\n",
       "      <td>3.400000</td>\n",
       "      <td>5.900000</td>\n",
       "      <td>79.0</td>\n",
       "      <td>85.0</td>\n",
       "      <td>1022.1</td>\n",
       "      <td>1021.8</td>\n",
       "      <td>7.000000</td>\n",
       "      <td>7.00000</td>\n",
       "      <td>24.6</td>\n",
       "      <td>23.1</td>\n",
       "      <td>Yes</td>\n",
       "      <td>Yes</td>\n",
       "    </tr>\n",
       "    <tr>\n",
       "      <th>3318</th>\n",
       "      <td>2017-06-07</td>\n",
       "      <td>Sydney</td>\n",
       "      <td>8.8</td>\n",
       "      <td>15.5</td>\n",
       "      <td>54.6</td>\n",
       "      <td>2.600000</td>\n",
       "      <td>0.000000</td>\n",
       "      <td>82.0</td>\n",
       "      <td>85.0</td>\n",
       "      <td>1020.2</td>\n",
       "      <td>1019.6</td>\n",
       "      <td>8.000000</td>\n",
       "      <td>8.00000</td>\n",
       "      <td>13.3</td>\n",
       "      <td>14.2</td>\n",
       "      <td>Yes</td>\n",
       "      <td>Yes</td>\n",
       "    </tr>\n",
       "    <tr>\n",
       "      <th>3319</th>\n",
       "      <td>2017-06-08</td>\n",
       "      <td>Sydney</td>\n",
       "      <td>12.4</td>\n",
       "      <td>18.1</td>\n",
       "      <td>61.0</td>\n",
       "      <td>1.800000</td>\n",
       "      <td>1.300000</td>\n",
       "      <td>91.0</td>\n",
       "      <td>84.0</td>\n",
       "      <td>1024.2</td>\n",
       "      <td>1023.4</td>\n",
       "      <td>5.000000</td>\n",
       "      <td>6.00000</td>\n",
       "      <td>13.3</td>\n",
       "      <td>16.9</td>\n",
       "      <td>Yes</td>\n",
       "      <td>Yes</td>\n",
       "    </tr>\n",
       "  </tbody>\n",
       "</table>\n",
       "</div>"
      ],
      "text/plain": [
       "           Date Location  MinTemp  MaxTemp  Rainfall  Evaporation  Sunshine  \\\n",
       "4    2008-02-05   Sydney     19.7     25.7      77.4     5.187432  0.000000   \n",
       "218  2008-09-06   Sydney     11.8     14.2      62.2     5.187432  0.000000   \n",
       "633  2009-10-26   Sydney     14.4     17.0      73.2     5.187432  0.000000   \n",
       "737  2010-02-07   Sydney     20.2     25.0      77.4     7.400000  0.200000   \n",
       "743  2010-02-13   Sydney     21.4     25.5      70.0     9.400000  0.300000   \n",
       "855  2010-06-05   Sydney     12.5     20.5      61.4     1.000000  4.400000   \n",
       "1140 2011-03-20   Sydney     18.8     23.5      99.4     5.187432  3.300000   \n",
       "1182 2011-05-31   Sydney     13.9     19.9      65.2     5.187432  0.700000   \n",
       "1232 2011-07-20   Sydney      8.7     18.5      76.8     5.187432  1.600000   \n",
       "1234 2011-07-22   Sydney     11.3     13.9      88.2     5.187432  0.000000   \n",
       "1235 2011-07-23   Sydney      8.7     15.6      57.4     5.600000  2.700000   \n",
       "1464 2012-03-08   Sydney     15.0     21.2     109.4     5.187432  2.300000   \n",
       "1506 2012-04-19   Sydney     17.5     23.8      56.0     5.187432  3.300000   \n",
       "1559 2012-06-11   Sydney      9.9     16.1      76.4     4.200000  0.000000   \n",
       "1760 2013-01-29   Sydney     19.3     26.2      95.2     5.187432  4.500000   \n",
       "1797 2013-04-04   Sydney     15.7     20.9      61.4     5.000000  0.400000   \n",
       "1877 2013-06-23   Sydney      7.6     13.9      56.2     0.400000  0.200000   \n",
       "1878 2013-06-24   Sydney      9.6     13.8      53.4     0.200000  0.100000   \n",
       "2355 2014-10-15   Sydney     10.6     16.0      70.8     5.187432  0.100000   \n",
       "2457 2015-01-28   Sydney     17.3     20.5      57.0     7.200000  2.300000   \n",
       "2540 2015-04-21   Sydney     14.5     17.7     119.4     5.187432  0.000000   \n",
       "2541 2015-04-22   Sydney     14.1     17.9     105.8     5.187432  0.600000   \n",
       "2599 2015-06-19   Sydney      9.6     14.5      67.0     5.187432  2.500000   \n",
       "2666 2015-08-25   Sydney     12.5     19.9      54.4     5.000000  4.400000   \n",
       "2875 2016-03-21   Sydney     15.4     21.2      61.2     5.800000  2.700000   \n",
       "2889 2016-04-04   Sydney     18.7     23.5      94.4     3.400000  0.800000   \n",
       "2950 2016-06-04   Sydney     13.3     21.1      64.4     5.187432  0.000000   \n",
       "2951 2016-06-05   Sydney     16.3     19.7      93.8     5.187432  0.000000   \n",
       "2952 2016-06-06   Sydney     13.7     18.4      68.4    12.600000  2.200000   \n",
       "3011 2016-08-04   Sydney     10.8     18.1      61.0     9.400000  7.179374   \n",
       "3032 2016-08-25   Sydney      9.0     17.3      52.8     5.200000  6.700000   \n",
       "3199 2017-02-08   Sydney     20.7     27.0      85.0     3.400000  5.900000   \n",
       "3318 2017-06-07   Sydney      8.8     15.5      54.6     2.600000  0.000000   \n",
       "3319 2017-06-08   Sydney     12.4     18.1      61.0     1.800000  1.300000   \n",
       "\n",
       "      Humidity9am  Humidity3pm  Pressure9am  Pressure3pm  Cloud9am  Cloud3pm  \\\n",
       "4            88.0         74.0       1008.3       1004.8  8.000000   8.00000   \n",
       "218          92.0         88.0       1014.8       1013.1  8.000000   8.00000   \n",
       "633          91.0         60.0       1023.7       1025.3  8.000000   8.00000   \n",
       "737          95.0         86.0       1021.6       1020.8  7.000000   8.00000   \n",
       "743          92.0         80.0       1011.9       1010.2  8.000000   8.00000   \n",
       "855          80.0         67.0       1014.2       1012.0  5.000000   7.00000   \n",
       "1140         92.0         81.0       1012.4       1010.1  4.181523   4.21866   \n",
       "1182         81.0         62.0       1019.5       1019.3  4.181523   4.21866   \n",
       "1232         91.0         83.0       1012.7       1013.5  4.181523   4.21866   \n",
       "1234         88.0         95.0       1018.3       1018.0  4.181523   4.21866   \n",
       "1235         89.0         67.0       1020.4       1019.1  4.181523   4.21866   \n",
       "1464         96.0         71.0       1005.4       1005.9  4.181523   4.21866   \n",
       "1506         92.0         82.0       1019.7       1016.2  4.181523   4.21866   \n",
       "1559         96.0         96.0       1022.5       1020.4  4.181523   4.21866   \n",
       "1760         93.0         71.0       1001.7       1004.9  8.000000   6.00000   \n",
       "1797         93.0         89.0       1028.2       1027.8  8.000000   8.00000   \n",
       "1877         93.0         90.0       1028.5       1026.7  7.000000   7.00000   \n",
       "1878         91.0         77.0       1021.7       1017.9  7.000000   7.00000   \n",
       "2355         79.0         52.0       1011.7       1013.4  8.000000   7.00000   \n",
       "2457         95.0         92.0       1013.3       1013.5  8.000000   7.00000   \n",
       "2540         87.0         96.0       1019.6       1016.8  8.000000   8.00000   \n",
       "2541         98.0         94.0       1013.4       1010.5  8.000000   7.00000   \n",
       "2599         98.0         88.0       1017.2       1017.5  7.000000   7.00000   \n",
       "2666         66.0         53.0       1013.4       1012.8  7.000000   7.00000   \n",
       "2875         91.0         65.0       1018.8       1016.5  8.000000   7.00000   \n",
       "2889         91.0         71.0       1023.2       1019.6  8.000000   7.00000   \n",
       "2950         91.0         82.0       1015.4       1009.5  8.000000   8.00000   \n",
       "2951         89.0         85.0       1002.5        995.9  8.000000   8.00000   \n",
       "2952         59.0         43.0        999.8        998.4  7.000000   7.00000   \n",
       "3011         90.0         60.0       1024.3       1025.1  6.000000   7.00000   \n",
       "3032         67.0         48.0       1010.2       1010.6  7.000000   3.00000   \n",
       "3199         79.0         85.0       1022.1       1021.8  7.000000   7.00000   \n",
       "3318         82.0         85.0       1020.2       1019.6  8.000000   8.00000   \n",
       "3319         91.0         84.0       1024.2       1023.4  5.000000   6.00000   \n",
       "\n",
       "      Temp9am  Temp3pm RainToday RainTomorrow  \n",
       "4        22.5     25.5       Yes          Yes  \n",
       "218      13.0     12.3       Yes          Yes  \n",
       "633      14.7     16.6       Yes          Yes  \n",
       "737      21.1     23.8       Yes          Yes  \n",
       "743      22.1     25.2       Yes          Yes  \n",
       "855      13.5     17.4       Yes           No  \n",
       "1140     19.4     22.2       Yes          Yes  \n",
       "1182     17.9     19.6       Yes          Yes  \n",
       "1232     14.3     15.0       Yes          Yes  \n",
       "1234     13.1     11.5       Yes          Yes  \n",
       "1235      9.1     14.5       Yes          Yes  \n",
       "1464     15.6     20.1       Yes          Yes  \n",
       "1506     19.5     21.5       Yes           No  \n",
       "1559     11.8     13.0       Yes          Yes  \n",
       "1760     21.5     24.0       Yes           No  \n",
       "1797     16.6     17.7       Yes          Yes  \n",
       "1877     11.0     11.9       Yes          Yes  \n",
       "1878     10.2     13.1       Yes          Yes  \n",
       "2355     11.6     15.1       Yes           No  \n",
       "2457     17.9     18.2       Yes          Yes  \n",
       "2540     14.9     14.6       Yes          Yes  \n",
       "2541     16.1     17.2       Yes          Yes  \n",
       "2599      9.9     12.5       Yes          Yes  \n",
       "2666     16.1     18.7       Yes          Yes  \n",
       "2875     15.6     20.7       Yes          Yes  \n",
       "2889     19.5     23.3       Yes          Yes  \n",
       "2950     17.0     18.8       Yes          Yes  \n",
       "2951     18.8     19.7       Yes          Yes  \n",
       "2952     14.9     17.9       Yes           No  \n",
       "3011     11.6     15.5       Yes          Yes  \n",
       "3032     11.4     15.7       Yes           No  \n",
       "3199     24.6     23.1       Yes          Yes  \n",
       "3318     13.3     14.2       Yes          Yes  \n",
       "3319     13.3     16.9       Yes          Yes  "
      ]
     },
     "execution_count": 46,
     "metadata": {},
     "output_type": "execute_result"
    }
   ],
   "source": [
    "df[(df.Rainfall>uv)]"
   ]
  },
  {
   "cell_type": "code",
   "execution_count": 51,
   "id": "59fd1dfd",
   "metadata": {},
   "outputs": [],
   "source": [
    "# As the location is same in everyrow we can delete that column\n",
    "del df[\"Location\"]"
   ]
  },
  {
   "cell_type": "code",
   "execution_count": 52,
   "id": "a3b519ae",
   "metadata": {},
   "outputs": [
    {
     "data": {
      "text/html": [
       "<div>\n",
       "<style scoped>\n",
       "    .dataframe tbody tr th:only-of-type {\n",
       "        vertical-align: middle;\n",
       "    }\n",
       "\n",
       "    .dataframe tbody tr th {\n",
       "        vertical-align: top;\n",
       "    }\n",
       "\n",
       "    .dataframe thead th {\n",
       "        text-align: right;\n",
       "    }\n",
       "</style>\n",
       "<table border=\"1\" class=\"dataframe\">\n",
       "  <thead>\n",
       "    <tr style=\"text-align: right;\">\n",
       "      <th></th>\n",
       "      <th>Date</th>\n",
       "      <th>MinTemp</th>\n",
       "      <th>MaxTemp</th>\n",
       "      <th>Rainfall</th>\n",
       "      <th>Evaporation</th>\n",
       "      <th>Sunshine</th>\n",
       "      <th>Humidity9am</th>\n",
       "      <th>Humidity3pm</th>\n",
       "      <th>Pressure9am</th>\n",
       "      <th>Pressure3pm</th>\n",
       "      <th>Cloud9am</th>\n",
       "      <th>Cloud3pm</th>\n",
       "      <th>Temp9am</th>\n",
       "      <th>Temp3pm</th>\n",
       "      <th>RainToday</th>\n",
       "      <th>RainTomorrow</th>\n",
       "    </tr>\n",
       "  </thead>\n",
       "  <tbody>\n",
       "    <tr>\n",
       "      <th>0</th>\n",
       "      <td>2008-02-01</td>\n",
       "      <td>19.5</td>\n",
       "      <td>22.4</td>\n",
       "      <td>15.6</td>\n",
       "      <td>6.200000</td>\n",
       "      <td>0.0</td>\n",
       "      <td>92.0</td>\n",
       "      <td>84.0</td>\n",
       "      <td>1017.6</td>\n",
       "      <td>1017.4</td>\n",
       "      <td>8.0</td>\n",
       "      <td>8.0</td>\n",
       "      <td>20.7</td>\n",
       "      <td>20.9</td>\n",
       "      <td>Yes</td>\n",
       "      <td>Yes</td>\n",
       "    </tr>\n",
       "    <tr>\n",
       "      <th>1</th>\n",
       "      <td>2008-02-02</td>\n",
       "      <td>19.5</td>\n",
       "      <td>25.6</td>\n",
       "      <td>6.0</td>\n",
       "      <td>3.400000</td>\n",
       "      <td>2.7</td>\n",
       "      <td>83.0</td>\n",
       "      <td>73.0</td>\n",
       "      <td>1017.9</td>\n",
       "      <td>1016.4</td>\n",
       "      <td>7.0</td>\n",
       "      <td>7.0</td>\n",
       "      <td>22.4</td>\n",
       "      <td>24.8</td>\n",
       "      <td>Yes</td>\n",
       "      <td>Yes</td>\n",
       "    </tr>\n",
       "    <tr>\n",
       "      <th>2</th>\n",
       "      <td>2008-02-03</td>\n",
       "      <td>21.6</td>\n",
       "      <td>24.5</td>\n",
       "      <td>6.6</td>\n",
       "      <td>2.400000</td>\n",
       "      <td>0.1</td>\n",
       "      <td>88.0</td>\n",
       "      <td>86.0</td>\n",
       "      <td>1016.7</td>\n",
       "      <td>1015.6</td>\n",
       "      <td>7.0</td>\n",
       "      <td>8.0</td>\n",
       "      <td>23.5</td>\n",
       "      <td>23.0</td>\n",
       "      <td>Yes</td>\n",
       "      <td>Yes</td>\n",
       "    </tr>\n",
       "    <tr>\n",
       "      <th>3</th>\n",
       "      <td>2008-02-04</td>\n",
       "      <td>20.2</td>\n",
       "      <td>22.8</td>\n",
       "      <td>18.8</td>\n",
       "      <td>2.200000</td>\n",
       "      <td>0.0</td>\n",
       "      <td>83.0</td>\n",
       "      <td>90.0</td>\n",
       "      <td>1014.2</td>\n",
       "      <td>1011.8</td>\n",
       "      <td>8.0</td>\n",
       "      <td>8.0</td>\n",
       "      <td>21.4</td>\n",
       "      <td>20.9</td>\n",
       "      <td>Yes</td>\n",
       "      <td>Yes</td>\n",
       "    </tr>\n",
       "    <tr>\n",
       "      <th>4</th>\n",
       "      <td>2008-02-05</td>\n",
       "      <td>19.7</td>\n",
       "      <td>25.7</td>\n",
       "      <td>77.4</td>\n",
       "      <td>5.187432</td>\n",
       "      <td>0.0</td>\n",
       "      <td>88.0</td>\n",
       "      <td>74.0</td>\n",
       "      <td>1008.3</td>\n",
       "      <td>1004.8</td>\n",
       "      <td>8.0</td>\n",
       "      <td>8.0</td>\n",
       "      <td>22.5</td>\n",
       "      <td>25.5</td>\n",
       "      <td>Yes</td>\n",
       "      <td>Yes</td>\n",
       "    </tr>\n",
       "  </tbody>\n",
       "</table>\n",
       "</div>"
      ],
      "text/plain": [
       "        Date  MinTemp  MaxTemp  Rainfall  Evaporation  Sunshine  Humidity9am  \\\n",
       "0 2008-02-01     19.5     22.4      15.6     6.200000       0.0         92.0   \n",
       "1 2008-02-02     19.5     25.6       6.0     3.400000       2.7         83.0   \n",
       "2 2008-02-03     21.6     24.5       6.6     2.400000       0.1         88.0   \n",
       "3 2008-02-04     20.2     22.8      18.8     2.200000       0.0         83.0   \n",
       "4 2008-02-05     19.7     25.7      77.4     5.187432       0.0         88.0   \n",
       "\n",
       "   Humidity3pm  Pressure9am  Pressure3pm  Cloud9am  Cloud3pm  Temp9am  \\\n",
       "0         84.0       1017.6       1017.4       8.0       8.0     20.7   \n",
       "1         73.0       1017.9       1016.4       7.0       7.0     22.4   \n",
       "2         86.0       1016.7       1015.6       7.0       8.0     23.5   \n",
       "3         90.0       1014.2       1011.8       8.0       8.0     21.4   \n",
       "4         74.0       1008.3       1004.8       8.0       8.0     22.5   \n",
       "\n",
       "   Temp3pm RainToday RainTomorrow  \n",
       "0     20.9       Yes          Yes  \n",
       "1     24.8       Yes          Yes  \n",
       "2     23.0       Yes          Yes  \n",
       "3     20.9       Yes          Yes  \n",
       "4     25.5       Yes          Yes  "
      ]
     },
     "execution_count": 52,
     "metadata": {},
     "output_type": "execute_result"
    }
   ],
   "source": [
    "df.head()"
   ]
  },
  {
   "cell_type": "code",
   "execution_count": 55,
   "id": "0693964b",
   "metadata": {},
   "outputs": [],
   "source": [
    "# Taking average of Humidity,Pressure, Temperature,cloud etc in new column\n",
    "df['avg_humidity'] = (df.Humidity9am+df.Humidity3pm)/2"
   ]
  },
  {
   "cell_type": "code",
   "execution_count": 56,
   "id": "5a0f1206",
   "metadata": {},
   "outputs": [],
   "source": [
    "df['avg_pressure'] = (df.Pressure9am+df.Pressure3pm)/2"
   ]
  },
  {
   "cell_type": "code",
   "execution_count": 57,
   "id": "9d17c22a",
   "metadata": {},
   "outputs": [],
   "source": [
    "df['avg_cloud'] = (df.Cloud9am+df.Cloud3pm)/2"
   ]
  },
  {
   "cell_type": "code",
   "execution_count": 58,
   "id": "64eb3e18",
   "metadata": {},
   "outputs": [],
   "source": [
    "df['avg_temp'] = (df.Temp9am+df.Temp3pm)/2"
   ]
  },
  {
   "cell_type": "code",
   "execution_count": 59,
   "id": "6b43e566",
   "metadata": {},
   "outputs": [
    {
     "data": {
      "text/html": [
       "<div>\n",
       "<style scoped>\n",
       "    .dataframe tbody tr th:only-of-type {\n",
       "        vertical-align: middle;\n",
       "    }\n",
       "\n",
       "    .dataframe tbody tr th {\n",
       "        vertical-align: top;\n",
       "    }\n",
       "\n",
       "    .dataframe thead th {\n",
       "        text-align: right;\n",
       "    }\n",
       "</style>\n",
       "<table border=\"1\" class=\"dataframe\">\n",
       "  <thead>\n",
       "    <tr style=\"text-align: right;\">\n",
       "      <th></th>\n",
       "      <th>Date</th>\n",
       "      <th>MinTemp</th>\n",
       "      <th>MaxTemp</th>\n",
       "      <th>Rainfall</th>\n",
       "      <th>Evaporation</th>\n",
       "      <th>Sunshine</th>\n",
       "      <th>Humidity9am</th>\n",
       "      <th>Humidity3pm</th>\n",
       "      <th>Pressure9am</th>\n",
       "      <th>Pressure3pm</th>\n",
       "      <th>Cloud9am</th>\n",
       "      <th>Cloud3pm</th>\n",
       "      <th>Temp9am</th>\n",
       "      <th>Temp3pm</th>\n",
       "      <th>RainToday</th>\n",
       "      <th>RainTomorrow</th>\n",
       "      <th>avg_humidity</th>\n",
       "      <th>avg_pressure</th>\n",
       "      <th>avg_cloud</th>\n",
       "      <th>avg_temp</th>\n",
       "    </tr>\n",
       "  </thead>\n",
       "  <tbody>\n",
       "    <tr>\n",
       "      <th>0</th>\n",
       "      <td>2008-02-01</td>\n",
       "      <td>19.5</td>\n",
       "      <td>22.4</td>\n",
       "      <td>15.6</td>\n",
       "      <td>6.200000</td>\n",
       "      <td>0.0</td>\n",
       "      <td>92.0</td>\n",
       "      <td>84.0</td>\n",
       "      <td>1017.6</td>\n",
       "      <td>1017.4</td>\n",
       "      <td>8.0</td>\n",
       "      <td>8.0</td>\n",
       "      <td>20.7</td>\n",
       "      <td>20.9</td>\n",
       "      <td>Yes</td>\n",
       "      <td>Yes</td>\n",
       "      <td>88.0</td>\n",
       "      <td>1017.50</td>\n",
       "      <td>8.0</td>\n",
       "      <td>20.80</td>\n",
       "    </tr>\n",
       "    <tr>\n",
       "      <th>1</th>\n",
       "      <td>2008-02-02</td>\n",
       "      <td>19.5</td>\n",
       "      <td>25.6</td>\n",
       "      <td>6.0</td>\n",
       "      <td>3.400000</td>\n",
       "      <td>2.7</td>\n",
       "      <td>83.0</td>\n",
       "      <td>73.0</td>\n",
       "      <td>1017.9</td>\n",
       "      <td>1016.4</td>\n",
       "      <td>7.0</td>\n",
       "      <td>7.0</td>\n",
       "      <td>22.4</td>\n",
       "      <td>24.8</td>\n",
       "      <td>Yes</td>\n",
       "      <td>Yes</td>\n",
       "      <td>78.0</td>\n",
       "      <td>1017.15</td>\n",
       "      <td>7.0</td>\n",
       "      <td>23.60</td>\n",
       "    </tr>\n",
       "    <tr>\n",
       "      <th>2</th>\n",
       "      <td>2008-02-03</td>\n",
       "      <td>21.6</td>\n",
       "      <td>24.5</td>\n",
       "      <td>6.6</td>\n",
       "      <td>2.400000</td>\n",
       "      <td>0.1</td>\n",
       "      <td>88.0</td>\n",
       "      <td>86.0</td>\n",
       "      <td>1016.7</td>\n",
       "      <td>1015.6</td>\n",
       "      <td>7.0</td>\n",
       "      <td>8.0</td>\n",
       "      <td>23.5</td>\n",
       "      <td>23.0</td>\n",
       "      <td>Yes</td>\n",
       "      <td>Yes</td>\n",
       "      <td>87.0</td>\n",
       "      <td>1016.15</td>\n",
       "      <td>7.5</td>\n",
       "      <td>23.25</td>\n",
       "    </tr>\n",
       "    <tr>\n",
       "      <th>3</th>\n",
       "      <td>2008-02-04</td>\n",
       "      <td>20.2</td>\n",
       "      <td>22.8</td>\n",
       "      <td>18.8</td>\n",
       "      <td>2.200000</td>\n",
       "      <td>0.0</td>\n",
       "      <td>83.0</td>\n",
       "      <td>90.0</td>\n",
       "      <td>1014.2</td>\n",
       "      <td>1011.8</td>\n",
       "      <td>8.0</td>\n",
       "      <td>8.0</td>\n",
       "      <td>21.4</td>\n",
       "      <td>20.9</td>\n",
       "      <td>Yes</td>\n",
       "      <td>Yes</td>\n",
       "      <td>86.5</td>\n",
       "      <td>1013.00</td>\n",
       "      <td>8.0</td>\n",
       "      <td>21.15</td>\n",
       "    </tr>\n",
       "    <tr>\n",
       "      <th>4</th>\n",
       "      <td>2008-02-05</td>\n",
       "      <td>19.7</td>\n",
       "      <td>25.7</td>\n",
       "      <td>77.4</td>\n",
       "      <td>5.187432</td>\n",
       "      <td>0.0</td>\n",
       "      <td>88.0</td>\n",
       "      <td>74.0</td>\n",
       "      <td>1008.3</td>\n",
       "      <td>1004.8</td>\n",
       "      <td>8.0</td>\n",
       "      <td>8.0</td>\n",
       "      <td>22.5</td>\n",
       "      <td>25.5</td>\n",
       "      <td>Yes</td>\n",
       "      <td>Yes</td>\n",
       "      <td>81.0</td>\n",
       "      <td>1006.55</td>\n",
       "      <td>8.0</td>\n",
       "      <td>24.00</td>\n",
       "    </tr>\n",
       "  </tbody>\n",
       "</table>\n",
       "</div>"
      ],
      "text/plain": [
       "        Date  MinTemp  MaxTemp  Rainfall  Evaporation  Sunshine  Humidity9am  \\\n",
       "0 2008-02-01     19.5     22.4      15.6     6.200000       0.0         92.0   \n",
       "1 2008-02-02     19.5     25.6       6.0     3.400000       2.7         83.0   \n",
       "2 2008-02-03     21.6     24.5       6.6     2.400000       0.1         88.0   \n",
       "3 2008-02-04     20.2     22.8      18.8     2.200000       0.0         83.0   \n",
       "4 2008-02-05     19.7     25.7      77.4     5.187432       0.0         88.0   \n",
       "\n",
       "   Humidity3pm  Pressure9am  Pressure3pm  Cloud9am  Cloud3pm  Temp9am  \\\n",
       "0         84.0       1017.6       1017.4       8.0       8.0     20.7   \n",
       "1         73.0       1017.9       1016.4       7.0       7.0     22.4   \n",
       "2         86.0       1016.7       1015.6       7.0       8.0     23.5   \n",
       "3         90.0       1014.2       1011.8       8.0       8.0     21.4   \n",
       "4         74.0       1008.3       1004.8       8.0       8.0     22.5   \n",
       "\n",
       "   Temp3pm RainToday RainTomorrow  avg_humidity  avg_pressure  avg_cloud  \\\n",
       "0     20.9       Yes          Yes          88.0       1017.50        8.0   \n",
       "1     24.8       Yes          Yes          78.0       1017.15        7.0   \n",
       "2     23.0       Yes          Yes          87.0       1016.15        7.5   \n",
       "3     20.9       Yes          Yes          86.5       1013.00        8.0   \n",
       "4     25.5       Yes          Yes          81.0       1006.55        8.0   \n",
       "\n",
       "   avg_temp  \n",
       "0     20.80  \n",
       "1     23.60  \n",
       "2     23.25  \n",
       "3     21.15  \n",
       "4     24.00  "
      ]
     },
     "execution_count": 59,
     "metadata": {},
     "output_type": "execute_result"
    }
   ],
   "source": [
    "df.head()"
   ]
  },
  {
   "cell_type": "code",
   "execution_count": 60,
   "id": "4a0b6892",
   "metadata": {},
   "outputs": [],
   "source": [
    "#Deleting the columns Humidity9am-3pm, Pressure9am-3pm, Temp9am-3pm, Cloud9am-3pm as we have taken average\n",
    "del df[\"Humidity9am\"]\n",
    "del df[\"Humidity3pm\"]\n",
    "del df[\"Pressure9am\"]\n",
    "del df[\"Pressure3pm\"]\n",
    "del df[\"Cloud9am\"]\n",
    "del df[\"Cloud3pm\"]\n",
    "del df[\"Temp9am\"]\n",
    "del df[\"Temp3pm\"]\n"
   ]
  },
  {
   "cell_type": "code",
   "execution_count": 74,
   "id": "0a590785",
   "metadata": {},
   "outputs": [],
   "source": [
    "del df[\"Date\"]"
   ]
  },
  {
   "cell_type": "code",
   "execution_count": 67,
   "id": "6b2e1ec4",
   "metadata": {},
   "outputs": [
    {
     "data": {
      "text/html": [
       "<div>\n",
       "<style scoped>\n",
       "    .dataframe tbody tr th:only-of-type {\n",
       "        vertical-align: middle;\n",
       "    }\n",
       "\n",
       "    .dataframe tbody tr th {\n",
       "        vertical-align: top;\n",
       "    }\n",
       "\n",
       "    .dataframe thead th {\n",
       "        text-align: right;\n",
       "    }\n",
       "</style>\n",
       "<table border=\"1\" class=\"dataframe\">\n",
       "  <thead>\n",
       "    <tr style=\"text-align: right;\">\n",
       "      <th></th>\n",
       "      <th>Date</th>\n",
       "      <th>MinTemp</th>\n",
       "      <th>MaxTemp</th>\n",
       "      <th>Rainfall</th>\n",
       "      <th>Evaporation</th>\n",
       "      <th>Sunshine</th>\n",
       "      <th>avg_humidity</th>\n",
       "      <th>avg_pressure</th>\n",
       "      <th>avg_cloud</th>\n",
       "      <th>avg_temp</th>\n",
       "      <th>RainToday_Yes</th>\n",
       "      <th>RainTomorrow_Yes</th>\n",
       "    </tr>\n",
       "  </thead>\n",
       "  <tbody>\n",
       "    <tr>\n",
       "      <th>0</th>\n",
       "      <td>2008-02-01</td>\n",
       "      <td>19.5</td>\n",
       "      <td>22.4</td>\n",
       "      <td>15.6</td>\n",
       "      <td>6.200000</td>\n",
       "      <td>0.0</td>\n",
       "      <td>88.0</td>\n",
       "      <td>1017.50</td>\n",
       "      <td>8.0</td>\n",
       "      <td>20.80</td>\n",
       "      <td>1</td>\n",
       "      <td>1</td>\n",
       "    </tr>\n",
       "    <tr>\n",
       "      <th>1</th>\n",
       "      <td>2008-02-02</td>\n",
       "      <td>19.5</td>\n",
       "      <td>25.6</td>\n",
       "      <td>6.0</td>\n",
       "      <td>3.400000</td>\n",
       "      <td>2.7</td>\n",
       "      <td>78.0</td>\n",
       "      <td>1017.15</td>\n",
       "      <td>7.0</td>\n",
       "      <td>23.60</td>\n",
       "      <td>1</td>\n",
       "      <td>1</td>\n",
       "    </tr>\n",
       "    <tr>\n",
       "      <th>2</th>\n",
       "      <td>2008-02-03</td>\n",
       "      <td>21.6</td>\n",
       "      <td>24.5</td>\n",
       "      <td>6.6</td>\n",
       "      <td>2.400000</td>\n",
       "      <td>0.1</td>\n",
       "      <td>87.0</td>\n",
       "      <td>1016.15</td>\n",
       "      <td>7.5</td>\n",
       "      <td>23.25</td>\n",
       "      <td>1</td>\n",
       "      <td>1</td>\n",
       "    </tr>\n",
       "    <tr>\n",
       "      <th>3</th>\n",
       "      <td>2008-02-04</td>\n",
       "      <td>20.2</td>\n",
       "      <td>22.8</td>\n",
       "      <td>18.8</td>\n",
       "      <td>2.200000</td>\n",
       "      <td>0.0</td>\n",
       "      <td>86.5</td>\n",
       "      <td>1013.00</td>\n",
       "      <td>8.0</td>\n",
       "      <td>21.15</td>\n",
       "      <td>1</td>\n",
       "      <td>1</td>\n",
       "    </tr>\n",
       "    <tr>\n",
       "      <th>4</th>\n",
       "      <td>2008-02-05</td>\n",
       "      <td>19.7</td>\n",
       "      <td>25.7</td>\n",
       "      <td>77.4</td>\n",
       "      <td>5.187432</td>\n",
       "      <td>0.0</td>\n",
       "      <td>81.0</td>\n",
       "      <td>1006.55</td>\n",
       "      <td>8.0</td>\n",
       "      <td>24.00</td>\n",
       "      <td>1</td>\n",
       "      <td>1</td>\n",
       "    </tr>\n",
       "    <tr>\n",
       "      <th>5</th>\n",
       "      <td>2008-02-06</td>\n",
       "      <td>20.2</td>\n",
       "      <td>27.2</td>\n",
       "      <td>1.6</td>\n",
       "      <td>2.600000</td>\n",
       "      <td>8.6</td>\n",
       "      <td>65.5</td>\n",
       "      <td>1000.65</td>\n",
       "      <td>6.0</td>\n",
       "      <td>24.90</td>\n",
       "      <td>1</td>\n",
       "      <td>1</td>\n",
       "    </tr>\n",
       "    <tr>\n",
       "      <th>6</th>\n",
       "      <td>2008-02-07</td>\n",
       "      <td>18.6</td>\n",
       "      <td>26.3</td>\n",
       "      <td>6.2</td>\n",
       "      <td>5.200000</td>\n",
       "      <td>5.2</td>\n",
       "      <td>77.5</td>\n",
       "      <td>999.65</td>\n",
       "      <td>5.5</td>\n",
       "      <td>22.00</td>\n",
       "      <td>1</td>\n",
       "      <td>1</td>\n",
       "    </tr>\n",
       "    <tr>\n",
       "      <th>7</th>\n",
       "      <td>2008-02-08</td>\n",
       "      <td>17.2</td>\n",
       "      <td>22.3</td>\n",
       "      <td>27.6</td>\n",
       "      <td>5.800000</td>\n",
       "      <td>2.1</td>\n",
       "      <td>69.0</td>\n",
       "      <td>1007.85</td>\n",
       "      <td>7.5</td>\n",
       "      <td>20.00</td>\n",
       "      <td>1</td>\n",
       "      <td>1</td>\n",
       "    </tr>\n",
       "    <tr>\n",
       "      <th>8</th>\n",
       "      <td>2008-02-09</td>\n",
       "      <td>16.4</td>\n",
       "      <td>20.8</td>\n",
       "      <td>12.6</td>\n",
       "      <td>4.800000</td>\n",
       "      <td>3.0</td>\n",
       "      <td>91.5</td>\n",
       "      <td>1007.00</td>\n",
       "      <td>7.0</td>\n",
       "      <td>16.80</td>\n",
       "      <td>1</td>\n",
       "      <td>1</td>\n",
       "    </tr>\n",
       "    <tr>\n",
       "      <th>9</th>\n",
       "      <td>2008-02-10</td>\n",
       "      <td>14.6</td>\n",
       "      <td>24.2</td>\n",
       "      <td>8.8</td>\n",
       "      <td>4.400000</td>\n",
       "      <td>10.1</td>\n",
       "      <td>66.5</td>\n",
       "      <td>1013.70</td>\n",
       "      <td>3.0</td>\n",
       "      <td>20.25</td>\n",
       "      <td>1</td>\n",
       "      <td>0</td>\n",
       "    </tr>\n",
       "  </tbody>\n",
       "</table>\n",
       "</div>"
      ],
      "text/plain": [
       "        Date  MinTemp  MaxTemp  Rainfall  Evaporation  Sunshine  avg_humidity  \\\n",
       "0 2008-02-01     19.5     22.4      15.6     6.200000       0.0          88.0   \n",
       "1 2008-02-02     19.5     25.6       6.0     3.400000       2.7          78.0   \n",
       "2 2008-02-03     21.6     24.5       6.6     2.400000       0.1          87.0   \n",
       "3 2008-02-04     20.2     22.8      18.8     2.200000       0.0          86.5   \n",
       "4 2008-02-05     19.7     25.7      77.4     5.187432       0.0          81.0   \n",
       "5 2008-02-06     20.2     27.2       1.6     2.600000       8.6          65.5   \n",
       "6 2008-02-07     18.6     26.3       6.2     5.200000       5.2          77.5   \n",
       "7 2008-02-08     17.2     22.3      27.6     5.800000       2.1          69.0   \n",
       "8 2008-02-09     16.4     20.8      12.6     4.800000       3.0          91.5   \n",
       "9 2008-02-10     14.6     24.2       8.8     4.400000      10.1          66.5   \n",
       "\n",
       "   avg_pressure  avg_cloud  avg_temp  RainToday_Yes  RainTomorrow_Yes  \n",
       "0       1017.50        8.0     20.80              1                 1  \n",
       "1       1017.15        7.0     23.60              1                 1  \n",
       "2       1016.15        7.5     23.25              1                 1  \n",
       "3       1013.00        8.0     21.15              1                 1  \n",
       "4       1006.55        8.0     24.00              1                 1  \n",
       "5       1000.65        6.0     24.90              1                 1  \n",
       "6        999.65        5.5     22.00              1                 1  \n",
       "7       1007.85        7.5     20.00              1                 1  \n",
       "8       1007.00        7.0     16.80              1                 1  \n",
       "9       1013.70        3.0     20.25              1                 0  "
      ]
     },
     "execution_count": 67,
     "metadata": {},
     "output_type": "execute_result"
    }
   ],
   "source": [
    "df.head(10)"
   ]
  },
  {
   "cell_type": "code",
   "execution_count": 62,
   "id": "a916d18f",
   "metadata": {},
   "outputs": [],
   "source": [
    "# getting dummies for cvolumns with Yes no values\n",
    "df=pd.get_dummies(df)"
   ]
  },
  {
   "cell_type": "code",
   "execution_count": 64,
   "id": "f5256393",
   "metadata": {},
   "outputs": [],
   "source": [
    "# Deleting the columns RainToday_No,RainTomorrow_No as we can make out from other two columns\n",
    "del df[\"RainTomorrow_No\"]\n",
    "del df[\"RainToday_No\"]"
   ]
  },
  {
   "cell_type": "code",
   "execution_count": 65,
   "id": "7bfb1829",
   "metadata": {},
   "outputs": [],
   "source": [
    "#Converting true-False values to 1,0 values\n",
    "df['RainToday_Yes'] = (df['RainToday_Yes'] == True ).astype(int)\n",
    "df ['RainTomorrow_Yes'] = (df ['RainTomorrow_Yes'] == True ).astype(int)"
   ]
  },
  {
   "cell_type": "code",
   "execution_count": 69,
   "id": "42cb40bc",
   "metadata": {},
   "outputs": [
    {
     "data": {
      "text/html": [
       "<div>\n",
       "<style scoped>\n",
       "    .dataframe tbody tr th:only-of-type {\n",
       "        vertical-align: middle;\n",
       "    }\n",
       "\n",
       "    .dataframe tbody tr th {\n",
       "        vertical-align: top;\n",
       "    }\n",
       "\n",
       "    .dataframe thead th {\n",
       "        text-align: right;\n",
       "    }\n",
       "</style>\n",
       "<table border=\"1\" class=\"dataframe\">\n",
       "  <thead>\n",
       "    <tr style=\"text-align: right;\">\n",
       "      <th></th>\n",
       "      <th>Date</th>\n",
       "      <th>MinTemp</th>\n",
       "      <th>MaxTemp</th>\n",
       "      <th>Rainfall</th>\n",
       "      <th>Evaporation</th>\n",
       "      <th>Sunshine</th>\n",
       "      <th>avg_humidity</th>\n",
       "      <th>avg_pressure</th>\n",
       "      <th>avg_cloud</th>\n",
       "      <th>avg_temp</th>\n",
       "      <th>RainToday_Yes</th>\n",
       "      <th>RainTomorrow_Yes</th>\n",
       "    </tr>\n",
       "  </thead>\n",
       "  <tbody>\n",
       "    <tr>\n",
       "      <th>Date</th>\n",
       "      <td>1.000000</td>\n",
       "      <td>0.067447</td>\n",
       "      <td>0.117552</td>\n",
       "      <td>0.026485</td>\n",
       "      <td>0.078569</td>\n",
       "      <td>0.023419</td>\n",
       "      <td>-0.101320</td>\n",
       "      <td>0.015305</td>\n",
       "      <td>0.012132</td>\n",
       "      <td>0.093597</td>\n",
       "      <td>-0.003748</td>\n",
       "      <td>-0.003207</td>\n",
       "    </tr>\n",
       "    <tr>\n",
       "      <th>MinTemp</th>\n",
       "      <td>0.067447</td>\n",
       "      <td>1.000000</td>\n",
       "      <td>0.770701</td>\n",
       "      <td>0.012993</td>\n",
       "      <td>0.567623</td>\n",
       "      <td>-0.062959</td>\n",
       "      <td>0.182140</td>\n",
       "      <td>-0.378135</td>\n",
       "      <td>0.223655</td>\n",
       "      <td>0.890452</td>\n",
       "      <td>0.018690</td>\n",
       "      <td>0.079962</td>\n",
       "    </tr>\n",
       "    <tr>\n",
       "      <th>MaxTemp</th>\n",
       "      <td>0.117552</td>\n",
       "      <td>0.770701</td>\n",
       "      <td>1.000000</td>\n",
       "      <td>-0.140170</td>\n",
       "      <td>0.509060</td>\n",
       "      <td>0.325107</td>\n",
       "      <td>-0.185496</td>\n",
       "      <td>-0.410688</td>\n",
       "      <td>-0.103859</td>\n",
       "      <td>0.947567</td>\n",
       "      <td>-0.188334</td>\n",
       "      <td>-0.149269</td>\n",
       "    </tr>\n",
       "    <tr>\n",
       "      <th>Rainfall</th>\n",
       "      <td>0.026485</td>\n",
       "      <td>0.012993</td>\n",
       "      <td>-0.140170</td>\n",
       "      <td>1.000000</td>\n",
       "      <td>-0.101163</td>\n",
       "      <td>-0.307129</td>\n",
       "      <td>0.347400</td>\n",
       "      <td>-0.016954</td>\n",
       "      <td>0.248142</td>\n",
       "      <td>-0.101436</td>\n",
       "      <td>0.557778</td>\n",
       "      <td>0.294764</td>\n",
       "    </tr>\n",
       "    <tr>\n",
       "      <th>Evaporation</th>\n",
       "      <td>0.078569</td>\n",
       "      <td>0.567623</td>\n",
       "      <td>0.509060</td>\n",
       "      <td>-0.101163</td>\n",
       "      <td>1.000000</td>\n",
       "      <td>0.174467</td>\n",
       "      <td>-0.266144</td>\n",
       "      <td>-0.326214</td>\n",
       "      <td>-0.041993</td>\n",
       "      <td>0.568649</td>\n",
       "      <td>-0.228791</td>\n",
       "      <td>-0.064301</td>\n",
       "    </tr>\n",
       "    <tr>\n",
       "      <th>Sunshine</th>\n",
       "      <td>0.023419</td>\n",
       "      <td>-0.062959</td>\n",
       "      <td>0.325107</td>\n",
       "      <td>-0.307129</td>\n",
       "      <td>0.174467</td>\n",
       "      <td>1.000000</td>\n",
       "      <td>-0.590462</td>\n",
       "      <td>-0.071083</td>\n",
       "      <td>-0.745080</td>\n",
       "      <td>0.231841</td>\n",
       "      <td>-0.367080</td>\n",
       "      <td>-0.521637</td>\n",
       "    </tr>\n",
       "    <tr>\n",
       "      <th>avg_humidity</th>\n",
       "      <td>-0.101320</td>\n",
       "      <td>0.182140</td>\n",
       "      <td>-0.185496</td>\n",
       "      <td>0.347400</td>\n",
       "      <td>-0.266144</td>\n",
       "      <td>-0.590462</td>\n",
       "      <td>1.000000</td>\n",
       "      <td>0.234312</td>\n",
       "      <td>0.516801</td>\n",
       "      <td>-0.102875</td>\n",
       "      <td>0.407017</td>\n",
       "      <td>0.442395</td>\n",
       "    </tr>\n",
       "    <tr>\n",
       "      <th>avg_pressure</th>\n",
       "      <td>0.015305</td>\n",
       "      <td>-0.378135</td>\n",
       "      <td>-0.410688</td>\n",
       "      <td>-0.016954</td>\n",
       "      <td>-0.326214</td>\n",
       "      <td>-0.071083</td>\n",
       "      <td>0.234312</td>\n",
       "      <td>1.000000</td>\n",
       "      <td>-0.009590</td>\n",
       "      <td>-0.413743</td>\n",
       "      <td>0.028742</td>\n",
       "      <td>-0.010834</td>\n",
       "    </tr>\n",
       "    <tr>\n",
       "      <th>avg_cloud</th>\n",
       "      <td>0.012132</td>\n",
       "      <td>0.223655</td>\n",
       "      <td>-0.103859</td>\n",
       "      <td>0.248142</td>\n",
       "      <td>-0.041993</td>\n",
       "      <td>-0.745080</td>\n",
       "      <td>0.516801</td>\n",
       "      <td>-0.009590</td>\n",
       "      <td>1.000000</td>\n",
       "      <td>-0.015282</td>\n",
       "      <td>0.322300</td>\n",
       "      <td>0.413113</td>\n",
       "    </tr>\n",
       "    <tr>\n",
       "      <th>avg_temp</th>\n",
       "      <td>0.093597</td>\n",
       "      <td>0.890452</td>\n",
       "      <td>0.947567</td>\n",
       "      <td>-0.101436</td>\n",
       "      <td>0.568649</td>\n",
       "      <td>0.231841</td>\n",
       "      <td>-0.102875</td>\n",
       "      <td>-0.413743</td>\n",
       "      <td>-0.015282</td>\n",
       "      <td>1.000000</td>\n",
       "      <td>-0.134279</td>\n",
       "      <td>-0.092813</td>\n",
       "    </tr>\n",
       "    <tr>\n",
       "      <th>RainToday_Yes</th>\n",
       "      <td>-0.003748</td>\n",
       "      <td>0.018690</td>\n",
       "      <td>-0.188334</td>\n",
       "      <td>0.557778</td>\n",
       "      <td>-0.228791</td>\n",
       "      <td>-0.367080</td>\n",
       "      <td>0.407017</td>\n",
       "      <td>0.028742</td>\n",
       "      <td>0.322300</td>\n",
       "      <td>-0.134279</td>\n",
       "      <td>1.000000</td>\n",
       "      <td>0.340894</td>\n",
       "    </tr>\n",
       "    <tr>\n",
       "      <th>RainTomorrow_Yes</th>\n",
       "      <td>-0.003207</td>\n",
       "      <td>0.079962</td>\n",
       "      <td>-0.149269</td>\n",
       "      <td>0.294764</td>\n",
       "      <td>-0.064301</td>\n",
       "      <td>-0.521637</td>\n",
       "      <td>0.442395</td>\n",
       "      <td>-0.010834</td>\n",
       "      <td>0.413113</td>\n",
       "      <td>-0.092813</td>\n",
       "      <td>0.340894</td>\n",
       "      <td>1.000000</td>\n",
       "    </tr>\n",
       "  </tbody>\n",
       "</table>\n",
       "</div>"
      ],
      "text/plain": [
       "                      Date   MinTemp   MaxTemp  Rainfall  Evaporation  \\\n",
       "Date              1.000000  0.067447  0.117552  0.026485     0.078569   \n",
       "MinTemp           0.067447  1.000000  0.770701  0.012993     0.567623   \n",
       "MaxTemp           0.117552  0.770701  1.000000 -0.140170     0.509060   \n",
       "Rainfall          0.026485  0.012993 -0.140170  1.000000    -0.101163   \n",
       "Evaporation       0.078569  0.567623  0.509060 -0.101163     1.000000   \n",
       "Sunshine          0.023419 -0.062959  0.325107 -0.307129     0.174467   \n",
       "avg_humidity     -0.101320  0.182140 -0.185496  0.347400    -0.266144   \n",
       "avg_pressure      0.015305 -0.378135 -0.410688 -0.016954    -0.326214   \n",
       "avg_cloud         0.012132  0.223655 -0.103859  0.248142    -0.041993   \n",
       "avg_temp          0.093597  0.890452  0.947567 -0.101436     0.568649   \n",
       "RainToday_Yes    -0.003748  0.018690 -0.188334  0.557778    -0.228791   \n",
       "RainTomorrow_Yes -0.003207  0.079962 -0.149269  0.294764    -0.064301   \n",
       "\n",
       "                  Sunshine  avg_humidity  avg_pressure  avg_cloud  avg_temp  \\\n",
       "Date              0.023419     -0.101320      0.015305   0.012132  0.093597   \n",
       "MinTemp          -0.062959      0.182140     -0.378135   0.223655  0.890452   \n",
       "MaxTemp           0.325107     -0.185496     -0.410688  -0.103859  0.947567   \n",
       "Rainfall         -0.307129      0.347400     -0.016954   0.248142 -0.101436   \n",
       "Evaporation       0.174467     -0.266144     -0.326214  -0.041993  0.568649   \n",
       "Sunshine          1.000000     -0.590462     -0.071083  -0.745080  0.231841   \n",
       "avg_humidity     -0.590462      1.000000      0.234312   0.516801 -0.102875   \n",
       "avg_pressure     -0.071083      0.234312      1.000000  -0.009590 -0.413743   \n",
       "avg_cloud        -0.745080      0.516801     -0.009590   1.000000 -0.015282   \n",
       "avg_temp          0.231841     -0.102875     -0.413743  -0.015282  1.000000   \n",
       "RainToday_Yes    -0.367080      0.407017      0.028742   0.322300 -0.134279   \n",
       "RainTomorrow_Yes -0.521637      0.442395     -0.010834   0.413113 -0.092813   \n",
       "\n",
       "                  RainToday_Yes  RainTomorrow_Yes  \n",
       "Date                  -0.003748         -0.003207  \n",
       "MinTemp                0.018690          0.079962  \n",
       "MaxTemp               -0.188334         -0.149269  \n",
       "Rainfall               0.557778          0.294764  \n",
       "Evaporation           -0.228791         -0.064301  \n",
       "Sunshine              -0.367080         -0.521637  \n",
       "avg_humidity           0.407017          0.442395  \n",
       "avg_pressure           0.028742         -0.010834  \n",
       "avg_cloud              0.322300          0.413113  \n",
       "avg_temp              -0.134279         -0.092813  \n",
       "RainToday_Yes          1.000000          0.340894  \n",
       "RainTomorrow_Yes       0.340894          1.000000  "
      ]
     },
     "execution_count": 69,
     "metadata": {},
     "output_type": "execute_result"
    }
   ],
   "source": [
    "df.corr()"
   ]
  },
  {
   "cell_type": "markdown",
   "id": "d2fda318",
   "metadata": {},
   "source": [
    "# Logistic regression with multiple predictors"
   ]
  },
  {
   "cell_type": "code",
   "execution_count": 75,
   "id": "87242314",
   "metadata": {},
   "outputs": [],
   "source": [
    "# Assigning all the columns to X variable except our Dependent variable RainTommorow_Yes\n",
    "X = df.loc[:, df.columns != 'RainTomorrow_Yes']"
   ]
  },
  {
   "cell_type": "code",
   "execution_count": 76,
   "id": "5a2ab790",
   "metadata": {},
   "outputs": [],
   "source": [
    "# Assigning the column to Y,our Dependent variable RainTommorow_Yes\n",
    "y = df['RainTomorrow_Yes']"
   ]
  },
  {
   "cell_type": "code",
   "execution_count": 77,
   "id": "f6cc926b",
   "metadata": {},
   "outputs": [
    {
     "name": "stderr",
     "output_type": "stream",
     "text": [
      "D:\\Anaconda_python\\Lib\\site-packages\\sklearn\\linear_model\\_logistic.py:460: ConvergenceWarning: lbfgs failed to converge (status=1):\n",
      "STOP: TOTAL NO. of ITERATIONS REACHED LIMIT.\n",
      "\n",
      "Increase the number of iterations (max_iter) or scale the data as shown in:\n",
      "    https://scikit-learn.org/stable/modules/preprocessing.html\n",
      "Please also refer to the documentation for alternative solver options:\n",
      "    https://scikit-learn.org/stable/modules/linear_model.html#logistic-regression\n",
      "  n_iter_i = _check_optimize_result(\n"
     ]
    },
    {
     "data": {
      "text/html": [
       "<style>#sk-container-id-1 {color: black;}#sk-container-id-1 pre{padding: 0;}#sk-container-id-1 div.sk-toggleable {background-color: white;}#sk-container-id-1 label.sk-toggleable__label {cursor: pointer;display: block;width: 100%;margin-bottom: 0;padding: 0.3em;box-sizing: border-box;text-align: center;}#sk-container-id-1 label.sk-toggleable__label-arrow:before {content: \"▸\";float: left;margin-right: 0.25em;color: #696969;}#sk-container-id-1 label.sk-toggleable__label-arrow:hover:before {color: black;}#sk-container-id-1 div.sk-estimator:hover label.sk-toggleable__label-arrow:before {color: black;}#sk-container-id-1 div.sk-toggleable__content {max-height: 0;max-width: 0;overflow: hidden;text-align: left;background-color: #f0f8ff;}#sk-container-id-1 div.sk-toggleable__content pre {margin: 0.2em;color: black;border-radius: 0.25em;background-color: #f0f8ff;}#sk-container-id-1 input.sk-toggleable__control:checked~div.sk-toggleable__content {max-height: 200px;max-width: 100%;overflow: auto;}#sk-container-id-1 input.sk-toggleable__control:checked~label.sk-toggleable__label-arrow:before {content: \"▾\";}#sk-container-id-1 div.sk-estimator input.sk-toggleable__control:checked~label.sk-toggleable__label {background-color: #d4ebff;}#sk-container-id-1 div.sk-label input.sk-toggleable__control:checked~label.sk-toggleable__label {background-color: #d4ebff;}#sk-container-id-1 input.sk-hidden--visually {border: 0;clip: rect(1px 1px 1px 1px);clip: rect(1px, 1px, 1px, 1px);height: 1px;margin: -1px;overflow: hidden;padding: 0;position: absolute;width: 1px;}#sk-container-id-1 div.sk-estimator {font-family: monospace;background-color: #f0f8ff;border: 1px dotted black;border-radius: 0.25em;box-sizing: border-box;margin-bottom: 0.5em;}#sk-container-id-1 div.sk-estimator:hover {background-color: #d4ebff;}#sk-container-id-1 div.sk-parallel-item::after {content: \"\";width: 100%;border-bottom: 1px solid gray;flex-grow: 1;}#sk-container-id-1 div.sk-label:hover label.sk-toggleable__label {background-color: #d4ebff;}#sk-container-id-1 div.sk-serial::before {content: \"\";position: absolute;border-left: 1px solid gray;box-sizing: border-box;top: 0;bottom: 0;left: 50%;z-index: 0;}#sk-container-id-1 div.sk-serial {display: flex;flex-direction: column;align-items: center;background-color: white;padding-right: 0.2em;padding-left: 0.2em;position: relative;}#sk-container-id-1 div.sk-item {position: relative;z-index: 1;}#sk-container-id-1 div.sk-parallel {display: flex;align-items: stretch;justify-content: center;background-color: white;position: relative;}#sk-container-id-1 div.sk-item::before, #sk-container-id-1 div.sk-parallel-item::before {content: \"\";position: absolute;border-left: 1px solid gray;box-sizing: border-box;top: 0;bottom: 0;left: 50%;z-index: -1;}#sk-container-id-1 div.sk-parallel-item {display: flex;flex-direction: column;z-index: 1;position: relative;background-color: white;}#sk-container-id-1 div.sk-parallel-item:first-child::after {align-self: flex-end;width: 50%;}#sk-container-id-1 div.sk-parallel-item:last-child::after {align-self: flex-start;width: 50%;}#sk-container-id-1 div.sk-parallel-item:only-child::after {width: 0;}#sk-container-id-1 div.sk-dashed-wrapped {border: 1px dashed gray;margin: 0 0.4em 0.5em 0.4em;box-sizing: border-box;padding-bottom: 0.4em;background-color: white;}#sk-container-id-1 div.sk-label label {font-family: monospace;font-weight: bold;display: inline-block;line-height: 1.2em;}#sk-container-id-1 div.sk-label-container {text-align: center;}#sk-container-id-1 div.sk-container {/* jupyter's `normalize.less` sets `[hidden] { display: none; }` but bootstrap.min.css set `[hidden] { display: none !important; }` so we also need the `!important` here to be able to override the default hidden behavior on the sphinx rendered scikit-learn.org. See: https://github.com/scikit-learn/scikit-learn/issues/21755 */display: inline-block !important;position: relative;}#sk-container-id-1 div.sk-text-repr-fallback {display: none;}</style><div id=\"sk-container-id-1\" class=\"sk-top-container\"><div class=\"sk-text-repr-fallback\"><pre>LogisticRegression()</pre><b>In a Jupyter environment, please rerun this cell to show the HTML representation or trust the notebook. <br />On GitHub, the HTML representation is unable to render, please try loading this page with nbviewer.org.</b></div><div class=\"sk-container\" hidden><div class=\"sk-item\"><div class=\"sk-estimator sk-toggleable\"><input class=\"sk-toggleable__control sk-hidden--visually\" id=\"sk-estimator-id-1\" type=\"checkbox\" checked><label for=\"sk-estimator-id-1\" class=\"sk-toggleable__label sk-toggleable__label-arrow\">LogisticRegression</label><div class=\"sk-toggleable__content\"><pre>LogisticRegression()</pre></div></div></div></div></div>"
      ],
      "text/plain": [
       "LogisticRegression()"
      ]
     },
     "execution_count": 77,
     "metadata": {},
     "output_type": "execute_result"
    }
   ],
   "source": [
    "# Logistic Regression using sklearn library\n",
    "# Importing libraries,creaiting object of logisticRegression and fitting our model in the object\n",
    "from sklearn.linear_model import LogisticRegression\n",
    "clf_lr = LogisticRegression()\n",
    "clf_lr.fit(X,y)"
   ]
  },
  {
   "cell_type": "code",
   "execution_count": 78,
   "id": "066c67a2",
   "metadata": {},
   "outputs": [
    {
     "data": {
      "text/plain": [
       "array([[-0.09714432,  0.03338182,  0.0226751 ,  0.13739924, -0.23651404,\n",
       "         0.058759  , -0.0042756 ,  0.05352005,  0.02878318,  0.21424771]])"
      ]
     },
     "execution_count": 78,
     "metadata": {},
     "output_type": "execute_result"
    }
   ],
   "source": [
    "# Getting the coefficients and intercept of the columns\n",
    "clf_lr.coef_"
   ]
  },
  {
   "cell_type": "code",
   "execution_count": 79,
   "id": "fa068ba9",
   "metadata": {},
   "outputs": [
    {
     "data": {
      "text/plain": [
       "array([0.00314214])"
      ]
     },
     "execution_count": 79,
     "metadata": {},
     "output_type": "execute_result"
    }
   ],
   "source": [
    "clf_lr.intercept_"
   ]
  },
  {
   "cell_type": "code",
   "execution_count": 80,
   "id": "bbf2883a",
   "metadata": {},
   "outputs": [],
   "source": [
    "# Logistic Regression using statsmodel library\n",
    "import statsmodels.api as sn"
   ]
  },
  {
   "cell_type": "code",
   "execution_count": 81,
   "id": "6c347ff6",
   "metadata": {},
   "outputs": [],
   "source": [
    "X_cons = sn.add_constant(X)"
   ]
  },
  {
   "cell_type": "code",
   "execution_count": 83,
   "id": "c7d13550",
   "metadata": {},
   "outputs": [
    {
     "name": "stdout",
     "output_type": "stream",
     "text": [
      "Optimization terminated successfully.\n",
      "         Current function value: 0.397938\n",
      "         Iterations 7\n"
     ]
    }
   ],
   "source": [
    "import statsmodels.discrete.discrete_model as sm\n",
    "logit = sm.Logit(y,X_cons).fit()"
   ]
  },
  {
   "cell_type": "code",
   "execution_count": 84,
   "id": "1b59aab7",
   "metadata": {},
   "outputs": [
    {
     "data": {
      "text/html": [
       "<table class=\"simpletable\">\n",
       "<caption>Logit Regression Results</caption>\n",
       "<tr>\n",
       "  <th>Dep. Variable:</th>   <td>RainTomorrow_Yes</td> <th>  No. Observations:  </th>   <td>  3337</td>  \n",
       "</tr>\n",
       "<tr>\n",
       "  <th>Model:</th>                 <td>Logit</td>      <th>  Df Residuals:      </th>   <td>  3326</td>  \n",
       "</tr>\n",
       "<tr>\n",
       "  <th>Method:</th>                 <td>MLE</td>       <th>  Df Model:          </th>   <td>    10</td>  \n",
       "</tr>\n",
       "<tr>\n",
       "  <th>Date:</th>            <td>Thu, 28 Dec 2023</td> <th>  Pseudo R-squ.:     </th>   <td>0.3046</td>  \n",
       "</tr>\n",
       "<tr>\n",
       "  <th>Time:</th>                <td>20:08:51</td>     <th>  Log-Likelihood:    </th>  <td> -1327.9</td> \n",
       "</tr>\n",
       "<tr>\n",
       "  <th>converged:</th>             <td>True</td>       <th>  LL-Null:           </th>  <td> -1909.5</td> \n",
       "</tr>\n",
       "<tr>\n",
       "  <th>Covariance Type:</th>     <td>nonrobust</td>    <th>  LLR p-value:       </th> <td>1.213e-243</td>\n",
       "</tr>\n",
       "</table>\n",
       "<table class=\"simpletable\">\n",
       "<tr>\n",
       "        <td></td>           <th>coef</th>     <th>std err</th>      <th>z</th>      <th>P>|z|</th>  <th>[0.025</th>    <th>0.975]</th>  \n",
       "</tr>\n",
       "<tr>\n",
       "  <th>const</th>         <td>   32.2283</td> <td>    8.186</td> <td>    3.937</td> <td> 0.000</td> <td>   16.185</td> <td>   48.272</td>\n",
       "</tr>\n",
       "<tr>\n",
       "  <th>MinTemp</th>       <td>   -0.1245</td> <td>    0.040</td> <td>   -3.074</td> <td> 0.002</td> <td>   -0.204</td> <td>   -0.045</td>\n",
       "</tr>\n",
       "<tr>\n",
       "  <th>MaxTemp</th>       <td>    0.0144</td> <td>    0.040</td> <td>    0.355</td> <td> 0.723</td> <td>   -0.065</td> <td>    0.094</td>\n",
       "</tr>\n",
       "<tr>\n",
       "  <th>Rainfall</th>      <td>    0.0089</td> <td>    0.006</td> <td>    1.410</td> <td> 0.159</td> <td>   -0.003</td> <td>    0.021</td>\n",
       "</tr>\n",
       "<tr>\n",
       "  <th>Evaporation</th>   <td>    0.1103</td> <td>    0.024</td> <td>    4.510</td> <td> 0.000</td> <td>    0.062</td> <td>    0.158</td>\n",
       "</tr>\n",
       "<tr>\n",
       "  <th>Sunshine</th>      <td>   -0.2362</td> <td>    0.022</td> <td>  -10.691</td> <td> 0.000</td> <td>   -0.279</td> <td>   -0.193</td>\n",
       "</tr>\n",
       "<tr>\n",
       "  <th>avg_humidity</th>  <td>    0.0590</td> <td>    0.006</td> <td>    9.727</td> <td> 0.000</td> <td>    0.047</td> <td>    0.071</td>\n",
       "</tr>\n",
       "<tr>\n",
       "  <th>avg_pressure</th>  <td>   -0.0358</td> <td>    0.008</td> <td>   -4.477</td> <td> 0.000</td> <td>   -0.052</td> <td>   -0.020</td>\n",
       "</tr>\n",
       "<tr>\n",
       "  <th>avg_cloud</th>     <td>    0.0602</td> <td>    0.036</td> <td>    1.660</td> <td> 0.097</td> <td>   -0.011</td> <td>    0.131</td>\n",
       "</tr>\n",
       "<tr>\n",
       "  <th>avg_temp</th>      <td>    0.0664</td> <td>    0.062</td> <td>    1.066</td> <td> 0.286</td> <td>   -0.056</td> <td>    0.189</td>\n",
       "</tr>\n",
       "<tr>\n",
       "  <th>RainToday_Yes</th> <td>    0.6558</td> <td>    0.130</td> <td>    5.047</td> <td> 0.000</td> <td>    0.401</td> <td>    0.910</td>\n",
       "</tr>\n",
       "</table>"
      ],
      "text/latex": [
       "\\begin{center}\n",
       "\\begin{tabular}{lclc}\n",
       "\\toprule\n",
       "\\textbf{Dep. Variable:}   & RainTomorrow\\_Yes & \\textbf{  No. Observations:  } &     3337    \\\\\n",
       "\\textbf{Model:}           &       Logit       & \\textbf{  Df Residuals:      } &     3326    \\\\\n",
       "\\textbf{Method:}          &        MLE        & \\textbf{  Df Model:          } &       10    \\\\\n",
       "\\textbf{Date:}            &  Thu, 28 Dec 2023 & \\textbf{  Pseudo R-squ.:     } &   0.3046    \\\\\n",
       "\\textbf{Time:}            &      20:08:51     & \\textbf{  Log-Likelihood:    } &   -1327.9   \\\\\n",
       "\\textbf{converged:}       &        True       & \\textbf{  LL-Null:           } &   -1909.5   \\\\\n",
       "\\textbf{Covariance Type:} &     nonrobust     & \\textbf{  LLR p-value:       } & 1.213e-243  \\\\\n",
       "\\bottomrule\n",
       "\\end{tabular}\n",
       "\\begin{tabular}{lcccccc}\n",
       "                        & \\textbf{coef} & \\textbf{std err} & \\textbf{z} & \\textbf{P$> |$z$|$} & \\textbf{[0.025} & \\textbf{0.975]}  \\\\\n",
       "\\midrule\n",
       "\\textbf{const}          &      32.2283  &        8.186     &     3.937  &         0.000        &       16.185    &       48.272     \\\\\n",
       "\\textbf{MinTemp}        &      -0.1245  &        0.040     &    -3.074  &         0.002        &       -0.204    &       -0.045     \\\\\n",
       "\\textbf{MaxTemp}        &       0.0144  &        0.040     &     0.355  &         0.723        &       -0.065    &        0.094     \\\\\n",
       "\\textbf{Rainfall}       &       0.0089  &        0.006     &     1.410  &         0.159        &       -0.003    &        0.021     \\\\\n",
       "\\textbf{Evaporation}    &       0.1103  &        0.024     &     4.510  &         0.000        &        0.062    &        0.158     \\\\\n",
       "\\textbf{Sunshine}       &      -0.2362  &        0.022     &   -10.691  &         0.000        &       -0.279    &       -0.193     \\\\\n",
       "\\textbf{avg\\_humidity}  &       0.0590  &        0.006     &     9.727  &         0.000        &        0.047    &        0.071     \\\\\n",
       "\\textbf{avg\\_pressure}  &      -0.0358  &        0.008     &    -4.477  &         0.000        &       -0.052    &       -0.020     \\\\\n",
       "\\textbf{avg\\_cloud}     &       0.0602  &        0.036     &     1.660  &         0.097        &       -0.011    &        0.131     \\\\\n",
       "\\textbf{avg\\_temp}      &       0.0664  &        0.062     &     1.066  &         0.286        &       -0.056    &        0.189     \\\\\n",
       "\\textbf{RainToday\\_Yes} &       0.6558  &        0.130     &     5.047  &         0.000        &        0.401    &        0.910     \\\\\n",
       "\\bottomrule\n",
       "\\end{tabular}\n",
       "%\\caption{Logit Regression Results}\n",
       "\\end{center}"
      ],
      "text/plain": [
       "<class 'statsmodels.iolib.summary.Summary'>\n",
       "\"\"\"\n",
       "                           Logit Regression Results                           \n",
       "==============================================================================\n",
       "Dep. Variable:       RainTomorrow_Yes   No. Observations:                 3337\n",
       "Model:                          Logit   Df Residuals:                     3326\n",
       "Method:                           MLE   Df Model:                           10\n",
       "Date:                Thu, 28 Dec 2023   Pseudo R-squ.:                  0.3046\n",
       "Time:                        20:08:51   Log-Likelihood:                -1327.9\n",
       "converged:                       True   LL-Null:                       -1909.5\n",
       "Covariance Type:            nonrobust   LLR p-value:                1.213e-243\n",
       "=================================================================================\n",
       "                    coef    std err          z      P>|z|      [0.025      0.975]\n",
       "---------------------------------------------------------------------------------\n",
       "const            32.2283      8.186      3.937      0.000      16.185      48.272\n",
       "MinTemp          -0.1245      0.040     -3.074      0.002      -0.204      -0.045\n",
       "MaxTemp           0.0144      0.040      0.355      0.723      -0.065       0.094\n",
       "Rainfall          0.0089      0.006      1.410      0.159      -0.003       0.021\n",
       "Evaporation       0.1103      0.024      4.510      0.000       0.062       0.158\n",
       "Sunshine         -0.2362      0.022    -10.691      0.000      -0.279      -0.193\n",
       "avg_humidity      0.0590      0.006      9.727      0.000       0.047       0.071\n",
       "avg_pressure     -0.0358      0.008     -4.477      0.000      -0.052      -0.020\n",
       "avg_cloud         0.0602      0.036      1.660      0.097      -0.011       0.131\n",
       "avg_temp          0.0664      0.062      1.066      0.286      -0.056       0.189\n",
       "RainToday_Yes     0.6558      0.130      5.047      0.000       0.401       0.910\n",
       "=================================================================================\n",
       "\"\"\""
      ]
     },
     "execution_count": 84,
     "metadata": {},
     "output_type": "execute_result"
    }
   ],
   "source": [
    "logit.summary()"
   ]
  },
  {
   "cell_type": "code",
   "execution_count": 86,
   "id": "ee89e982",
   "metadata": {},
   "outputs": [
    {
     "data": {
      "text/plain": [
       "array([[0.10681926, 0.89318074],\n",
       "       [0.39401527, 0.60598473],\n",
       "       [0.22606298, 0.77393702],\n",
       "       ...,\n",
       "       [0.53014459, 0.46985541],\n",
       "       [0.96685274, 0.03314726],\n",
       "       [0.934075  , 0.065925  ]])"
      ]
     },
     "execution_count": 86,
     "metadata": {},
     "output_type": "execute_result"
    }
   ],
   "source": [
    "# Predicting and confusion matrix\n",
    "clf_lr.predict_proba(X)"
   ]
  },
  {
   "cell_type": "code",
   "execution_count": 87,
   "id": "74dd7c48",
   "metadata": {},
   "outputs": [
    {
     "data": {
      "text/plain": [
       "array([1, 1, 1, ..., 0, 0, 0])"
      ]
     },
     "execution_count": 87,
     "metadata": {},
     "output_type": "execute_result"
    }
   ],
   "source": [
    "y_pred = clf_lr.predict(X)\n",
    "y_pred"
   ]
  },
  {
   "cell_type": "code",
   "execution_count": 88,
   "id": "463bd66b",
   "metadata": {},
   "outputs": [],
   "source": [
    "y_pred_03 = (clf_lr.predict_proba(X)[:,1] >= 0.3)"
   ]
  },
  {
   "cell_type": "code",
   "execution_count": 89,
   "id": "55e5f917",
   "metadata": {},
   "outputs": [
    {
     "data": {
      "text/plain": [
       "array([ True,  True,  True, ...,  True, False, False])"
      ]
     },
     "execution_count": 89,
     "metadata": {},
     "output_type": "execute_result"
    }
   ],
   "source": [
    "y_pred_03"
   ]
  },
  {
   "cell_type": "code",
   "execution_count": 109,
   "id": "61c14b2b",
   "metadata": {},
   "outputs": [
    {
     "data": {
      "text/plain": [
       "array([[2295,  177],\n",
       "       [ 403,  462]], dtype=int64)"
      ]
     },
     "execution_count": 109,
     "metadata": {},
     "output_type": "execute_result"
    }
   ],
   "source": [
    "from sklearn.metrics import confusion_matrix,accuracy_score\n",
    "confusion_matrix(y, y_pred)"
   ]
  },
  {
   "cell_type": "code",
   "execution_count": 91,
   "id": "f4ddef9f",
   "metadata": {},
   "outputs": [
    {
     "data": {
      "text/plain": [
       "array([[2029,  443],\n",
       "       [ 259,  606]], dtype=int64)"
      ]
     },
     "execution_count": 91,
     "metadata": {},
     "output_type": "execute_result"
    }
   ],
   "source": [
    "confusion_matrix(y, y_pred_03)"
   ]
  },
  {
   "cell_type": "code",
   "execution_count": 217,
   "id": "99b2c4c3",
   "metadata": {},
   "outputs": [
    {
     "data": {
      "text/plain": [
       "0.7896314054540006"
      ]
     },
     "execution_count": 217,
     "metadata": {},
     "output_type": "execute_result"
    }
   ],
   "source": [
    "accuracy_score(y, y_pred_03)"
   ]
  },
  {
   "cell_type": "markdown",
   "id": "872097b5",
   "metadata": {},
   "source": [
    "# Linear Discriminant Analysis"
   ]
  },
  {
   "cell_type": "code",
   "execution_count": 92,
   "id": "c3c430ff",
   "metadata": {},
   "outputs": [],
   "source": [
    "from sklearn.discriminant_analysis import LinearDiscriminantAnalysis"
   ]
  },
  {
   "cell_type": "code",
   "execution_count": 93,
   "id": "13fc91ad",
   "metadata": {},
   "outputs": [
    {
     "data": {
      "text/html": [
       "<style>#sk-container-id-2 {color: black;}#sk-container-id-2 pre{padding: 0;}#sk-container-id-2 div.sk-toggleable {background-color: white;}#sk-container-id-2 label.sk-toggleable__label {cursor: pointer;display: block;width: 100%;margin-bottom: 0;padding: 0.3em;box-sizing: border-box;text-align: center;}#sk-container-id-2 label.sk-toggleable__label-arrow:before {content: \"▸\";float: left;margin-right: 0.25em;color: #696969;}#sk-container-id-2 label.sk-toggleable__label-arrow:hover:before {color: black;}#sk-container-id-2 div.sk-estimator:hover label.sk-toggleable__label-arrow:before {color: black;}#sk-container-id-2 div.sk-toggleable__content {max-height: 0;max-width: 0;overflow: hidden;text-align: left;background-color: #f0f8ff;}#sk-container-id-2 div.sk-toggleable__content pre {margin: 0.2em;color: black;border-radius: 0.25em;background-color: #f0f8ff;}#sk-container-id-2 input.sk-toggleable__control:checked~div.sk-toggleable__content {max-height: 200px;max-width: 100%;overflow: auto;}#sk-container-id-2 input.sk-toggleable__control:checked~label.sk-toggleable__label-arrow:before {content: \"▾\";}#sk-container-id-2 div.sk-estimator input.sk-toggleable__control:checked~label.sk-toggleable__label {background-color: #d4ebff;}#sk-container-id-2 div.sk-label input.sk-toggleable__control:checked~label.sk-toggleable__label {background-color: #d4ebff;}#sk-container-id-2 input.sk-hidden--visually {border: 0;clip: rect(1px 1px 1px 1px);clip: rect(1px, 1px, 1px, 1px);height: 1px;margin: -1px;overflow: hidden;padding: 0;position: absolute;width: 1px;}#sk-container-id-2 div.sk-estimator {font-family: monospace;background-color: #f0f8ff;border: 1px dotted black;border-radius: 0.25em;box-sizing: border-box;margin-bottom: 0.5em;}#sk-container-id-2 div.sk-estimator:hover {background-color: #d4ebff;}#sk-container-id-2 div.sk-parallel-item::after {content: \"\";width: 100%;border-bottom: 1px solid gray;flex-grow: 1;}#sk-container-id-2 div.sk-label:hover label.sk-toggleable__label {background-color: #d4ebff;}#sk-container-id-2 div.sk-serial::before {content: \"\";position: absolute;border-left: 1px solid gray;box-sizing: border-box;top: 0;bottom: 0;left: 50%;z-index: 0;}#sk-container-id-2 div.sk-serial {display: flex;flex-direction: column;align-items: center;background-color: white;padding-right: 0.2em;padding-left: 0.2em;position: relative;}#sk-container-id-2 div.sk-item {position: relative;z-index: 1;}#sk-container-id-2 div.sk-parallel {display: flex;align-items: stretch;justify-content: center;background-color: white;position: relative;}#sk-container-id-2 div.sk-item::before, #sk-container-id-2 div.sk-parallel-item::before {content: \"\";position: absolute;border-left: 1px solid gray;box-sizing: border-box;top: 0;bottom: 0;left: 50%;z-index: -1;}#sk-container-id-2 div.sk-parallel-item {display: flex;flex-direction: column;z-index: 1;position: relative;background-color: white;}#sk-container-id-2 div.sk-parallel-item:first-child::after {align-self: flex-end;width: 50%;}#sk-container-id-2 div.sk-parallel-item:last-child::after {align-self: flex-start;width: 50%;}#sk-container-id-2 div.sk-parallel-item:only-child::after {width: 0;}#sk-container-id-2 div.sk-dashed-wrapped {border: 1px dashed gray;margin: 0 0.4em 0.5em 0.4em;box-sizing: border-box;padding-bottom: 0.4em;background-color: white;}#sk-container-id-2 div.sk-label label {font-family: monospace;font-weight: bold;display: inline-block;line-height: 1.2em;}#sk-container-id-2 div.sk-label-container {text-align: center;}#sk-container-id-2 div.sk-container {/* jupyter's `normalize.less` sets `[hidden] { display: none; }` but bootstrap.min.css set `[hidden] { display: none !important; }` so we also need the `!important` here to be able to override the default hidden behavior on the sphinx rendered scikit-learn.org. See: https://github.com/scikit-learn/scikit-learn/issues/21755 */display: inline-block !important;position: relative;}#sk-container-id-2 div.sk-text-repr-fallback {display: none;}</style><div id=\"sk-container-id-2\" class=\"sk-top-container\"><div class=\"sk-text-repr-fallback\"><pre>LinearDiscriminantAnalysis()</pre><b>In a Jupyter environment, please rerun this cell to show the HTML representation or trust the notebook. <br />On GitHub, the HTML representation is unable to render, please try loading this page with nbviewer.org.</b></div><div class=\"sk-container\" hidden><div class=\"sk-item\"><div class=\"sk-estimator sk-toggleable\"><input class=\"sk-toggleable__control sk-hidden--visually\" id=\"sk-estimator-id-2\" type=\"checkbox\" checked><label for=\"sk-estimator-id-2\" class=\"sk-toggleable__label sk-toggleable__label-arrow\">LinearDiscriminantAnalysis</label><div class=\"sk-toggleable__content\"><pre>LinearDiscriminantAnalysis()</pre></div></div></div></div></div>"
      ],
      "text/plain": [
       "LinearDiscriminantAnalysis()"
      ]
     },
     "execution_count": 93,
     "metadata": {},
     "output_type": "execute_result"
    }
   ],
   "source": [
    "clf_lda = LinearDiscriminantAnalysis()\n",
    "clf_lda.fit(X, y)"
   ]
  },
  {
   "cell_type": "code",
   "execution_count": 94,
   "id": "83b8806c",
   "metadata": {},
   "outputs": [],
   "source": [
    "y_pred_lda = clf_lda.predict(X) "
   ]
  },
  {
   "cell_type": "code",
   "execution_count": 95,
   "id": "e81ff4e1",
   "metadata": {},
   "outputs": [
    {
     "data": {
      "text/plain": [
       "array([1, 1, 1, ..., 0, 0, 0])"
      ]
     },
     "execution_count": 95,
     "metadata": {},
     "output_type": "execute_result"
    }
   ],
   "source": [
    "y_pred_lda"
   ]
  },
  {
   "cell_type": "code",
   "execution_count": 96,
   "id": "56f17b03",
   "metadata": {},
   "outputs": [
    {
     "data": {
      "text/plain": [
       "array([[2248,  224],\n",
       "       [ 377,  488]], dtype=int64)"
      ]
     },
     "execution_count": 96,
     "metadata": {},
     "output_type": "execute_result"
    }
   ],
   "source": [
    "confusion_matrix(y, y_pred_lda)"
   ]
  },
  {
   "cell_type": "code",
   "execution_count": 216,
   "id": "1a962cc5",
   "metadata": {},
   "outputs": [
    {
     "data": {
      "text/plain": [
       "0.8198981120767156"
      ]
     },
     "execution_count": 216,
     "metadata": {},
     "output_type": "execute_result"
    }
   ],
   "source": [
    "accuracy_score(y, y_pred_lda)"
   ]
  },
  {
   "cell_type": "code",
   "execution_count": null,
   "id": "9d945e92",
   "metadata": {},
   "outputs": [],
   "source": [
    "# Here we can see by confusion matrix of logistic regression the [2029,  443],\n",
    "       [ 259,  606] True positives and True negatives of predicted values & actual values are increased due to LDA [2248,  224],\n",
    "       [ 377,  488] and accuracy score has increased from 78.96% to 81.98%"
   ]
  },
  {
   "cell_type": "code",
   "execution_count": 97,
   "id": "709b9cb7",
   "metadata": {},
   "outputs": [],
   "source": [
    "# Calculating performance metrics\n",
    "from sklearn.metrics import precision_score, recall_score"
   ]
  },
  {
   "cell_type": "code",
   "execution_count": 98,
   "id": "e4ca301c",
   "metadata": {},
   "outputs": [
    {
     "data": {
      "text/plain": [
       "0.7230046948356808"
      ]
     },
     "execution_count": 98,
     "metadata": {},
     "output_type": "execute_result"
    }
   ],
   "source": [
    "precision_score(y, y_pred)"
   ]
  },
  {
   "cell_type": "code",
   "execution_count": 99,
   "id": "6279566a",
   "metadata": {},
   "outputs": [
    {
     "data": {
      "text/plain": [
       "0.5341040462427745"
      ]
     },
     "execution_count": 99,
     "metadata": {},
     "output_type": "execute_result"
    }
   ],
   "source": [
    "recall_score(y, y_pred)"
   ]
  },
  {
   "cell_type": "code",
   "execution_count": 100,
   "id": "38ab2238",
   "metadata": {},
   "outputs": [],
   "source": [
    "from sklearn.metrics import roc_auc_score"
   ]
  },
  {
   "cell_type": "code",
   "execution_count": 101,
   "id": "90cc905b",
   "metadata": {},
   "outputs": [
    {
     "data": {
      "text/plain": [
       "0.7312510522476009"
      ]
     },
     "execution_count": 101,
     "metadata": {},
     "output_type": "execute_result"
    }
   ],
   "source": [
    "roc_auc_score(y, y_pred)"
   ]
  },
  {
   "cell_type": "markdown",
   "id": "42db72d6",
   "metadata": {},
   "source": [
    "# KNN"
   ]
  },
  {
   "cell_type": "code",
   "execution_count": 102,
   "id": "7590f46f",
   "metadata": {},
   "outputs": [],
   "source": [
    "from sklearn.model_selection import train_test_split\n",
    "X_train, X_test, y_train, y_test = train_test_split(X, y, test_size=0.2, random_state=0)"
   ]
  },
  {
   "cell_type": "code",
   "execution_count": 103,
   "id": "778f2d29",
   "metadata": {},
   "outputs": [],
   "source": [
    "from sklearn import preprocessing\n",
    "scaler = preprocessing.StandardScaler().fit(X_train)\n",
    "X_train_s= scaler.transform(X_train)"
   ]
  },
  {
   "cell_type": "code",
   "execution_count": 104,
   "id": "cb2eee63",
   "metadata": {},
   "outputs": [],
   "source": [
    "scaler = preprocessing.StandardScaler().fit(X_test)\n",
    "X_test_s= scaler.transform(X_test)"
   ]
  },
  {
   "cell_type": "code",
   "execution_count": 105,
   "id": "efa4233e",
   "metadata": {},
   "outputs": [
    {
     "data": {
      "text/plain": [
       "array([[-0.54758843, -0.65317774, -0.294074  , ..., -0.72406714,\n",
       "        -0.41894987, -0.56351951],\n",
       "       [ 0.00722081,  0.58739924, -0.31359137, ...,  0.8457287 ,\n",
       "        -0.2799112 , -0.56351951],\n",
       "       [ 0.14037502,  1.06107409, -0.31359137, ..., -1.39683679,\n",
       "         1.04095612, -0.56351951],\n",
       "       ...,\n",
       "       [-0.88047397, -0.60806585, -0.31359137, ...,  0.03844613,\n",
       "        -0.36101709, -0.56351951],\n",
       "       [ 0.14037502,  1.80542029, -0.31359137, ...,  0.17295905,\n",
       "         1.12206201, -0.56351951],\n",
       "       [-1.79036112, -1.30730015, -0.31359137, ..., -0.27555405,\n",
       "        -1.56601886, -0.56351951]])"
      ]
     },
     "execution_count": 105,
     "metadata": {},
     "output_type": "execute_result"
    }
   ],
   "source": [
    "X_test_s"
   ]
  },
  {
   "cell_type": "code",
   "execution_count": 106,
   "id": "b243b8bc",
   "metadata": {},
   "outputs": [
    {
     "data": {
      "text/html": [
       "<style>#sk-container-id-3 {color: black;}#sk-container-id-3 pre{padding: 0;}#sk-container-id-3 div.sk-toggleable {background-color: white;}#sk-container-id-3 label.sk-toggleable__label {cursor: pointer;display: block;width: 100%;margin-bottom: 0;padding: 0.3em;box-sizing: border-box;text-align: center;}#sk-container-id-3 label.sk-toggleable__label-arrow:before {content: \"▸\";float: left;margin-right: 0.25em;color: #696969;}#sk-container-id-3 label.sk-toggleable__label-arrow:hover:before {color: black;}#sk-container-id-3 div.sk-estimator:hover label.sk-toggleable__label-arrow:before {color: black;}#sk-container-id-3 div.sk-toggleable__content {max-height: 0;max-width: 0;overflow: hidden;text-align: left;background-color: #f0f8ff;}#sk-container-id-3 div.sk-toggleable__content pre {margin: 0.2em;color: black;border-radius: 0.25em;background-color: #f0f8ff;}#sk-container-id-3 input.sk-toggleable__control:checked~div.sk-toggleable__content {max-height: 200px;max-width: 100%;overflow: auto;}#sk-container-id-3 input.sk-toggleable__control:checked~label.sk-toggleable__label-arrow:before {content: \"▾\";}#sk-container-id-3 div.sk-estimator input.sk-toggleable__control:checked~label.sk-toggleable__label {background-color: #d4ebff;}#sk-container-id-3 div.sk-label input.sk-toggleable__control:checked~label.sk-toggleable__label {background-color: #d4ebff;}#sk-container-id-3 input.sk-hidden--visually {border: 0;clip: rect(1px 1px 1px 1px);clip: rect(1px, 1px, 1px, 1px);height: 1px;margin: -1px;overflow: hidden;padding: 0;position: absolute;width: 1px;}#sk-container-id-3 div.sk-estimator {font-family: monospace;background-color: #f0f8ff;border: 1px dotted black;border-radius: 0.25em;box-sizing: border-box;margin-bottom: 0.5em;}#sk-container-id-3 div.sk-estimator:hover {background-color: #d4ebff;}#sk-container-id-3 div.sk-parallel-item::after {content: \"\";width: 100%;border-bottom: 1px solid gray;flex-grow: 1;}#sk-container-id-3 div.sk-label:hover label.sk-toggleable__label {background-color: #d4ebff;}#sk-container-id-3 div.sk-serial::before {content: \"\";position: absolute;border-left: 1px solid gray;box-sizing: border-box;top: 0;bottom: 0;left: 50%;z-index: 0;}#sk-container-id-3 div.sk-serial {display: flex;flex-direction: column;align-items: center;background-color: white;padding-right: 0.2em;padding-left: 0.2em;position: relative;}#sk-container-id-3 div.sk-item {position: relative;z-index: 1;}#sk-container-id-3 div.sk-parallel {display: flex;align-items: stretch;justify-content: center;background-color: white;position: relative;}#sk-container-id-3 div.sk-item::before, #sk-container-id-3 div.sk-parallel-item::before {content: \"\";position: absolute;border-left: 1px solid gray;box-sizing: border-box;top: 0;bottom: 0;left: 50%;z-index: -1;}#sk-container-id-3 div.sk-parallel-item {display: flex;flex-direction: column;z-index: 1;position: relative;background-color: white;}#sk-container-id-3 div.sk-parallel-item:first-child::after {align-self: flex-end;width: 50%;}#sk-container-id-3 div.sk-parallel-item:last-child::after {align-self: flex-start;width: 50%;}#sk-container-id-3 div.sk-parallel-item:only-child::after {width: 0;}#sk-container-id-3 div.sk-dashed-wrapped {border: 1px dashed gray;margin: 0 0.4em 0.5em 0.4em;box-sizing: border-box;padding-bottom: 0.4em;background-color: white;}#sk-container-id-3 div.sk-label label {font-family: monospace;font-weight: bold;display: inline-block;line-height: 1.2em;}#sk-container-id-3 div.sk-label-container {text-align: center;}#sk-container-id-3 div.sk-container {/* jupyter's `normalize.less` sets `[hidden] { display: none; }` but bootstrap.min.css set `[hidden] { display: none !important; }` so we also need the `!important` here to be able to override the default hidden behavior on the sphinx rendered scikit-learn.org. See: https://github.com/scikit-learn/scikit-learn/issues/21755 */display: inline-block !important;position: relative;}#sk-container-id-3 div.sk-text-repr-fallback {display: none;}</style><div id=\"sk-container-id-3\" class=\"sk-top-container\"><div class=\"sk-text-repr-fallback\"><pre>KNeighborsClassifier(n_neighbors=1)</pre><b>In a Jupyter environment, please rerun this cell to show the HTML representation or trust the notebook. <br />On GitHub, the HTML representation is unable to render, please try loading this page with nbviewer.org.</b></div><div class=\"sk-container\" hidden><div class=\"sk-item\"><div class=\"sk-estimator sk-toggleable\"><input class=\"sk-toggleable__control sk-hidden--visually\" id=\"sk-estimator-id-3\" type=\"checkbox\" checked><label for=\"sk-estimator-id-3\" class=\"sk-toggleable__label sk-toggleable__label-arrow\">KNeighborsClassifier</label><div class=\"sk-toggleable__content\"><pre>KNeighborsClassifier(n_neighbors=1)</pre></div></div></div></div></div>"
      ],
      "text/plain": [
       "KNeighborsClassifier(n_neighbors=1)"
      ]
     },
     "execution_count": 106,
     "metadata": {},
     "output_type": "execute_result"
    }
   ],
   "source": [
    "from sklearn.neighbors import KNeighborsClassifier\n",
    "clf_knn_1 = KNeighborsClassifier(n_neighbors=1)\n",
    "clf_knn_1.fit(X_train_s, y_train)"
   ]
  },
  {
   "cell_type": "code",
   "execution_count": 107,
   "id": "cb860c5d",
   "metadata": {},
   "outputs": [
    {
     "data": {
      "text/plain": [
       "array([[402, 108],\n",
       "       [ 72,  86]], dtype=int64)"
      ]
     },
     "execution_count": 107,
     "metadata": {},
     "output_type": "execute_result"
    }
   ],
   "source": [
    "confusion_matrix(y_test, clf_knn_1.predict(X_test_s))"
   ]
  },
  {
   "cell_type": "code",
   "execution_count": 110,
   "id": "62c8d89a",
   "metadata": {},
   "outputs": [
    {
     "data": {
      "text/plain": [
       "0.7305389221556886"
      ]
     },
     "execution_count": 110,
     "metadata": {},
     "output_type": "execute_result"
    }
   ],
   "source": [
    "accuracy_score(y_test, clf_knn_1.predict(X_test_s))"
   ]
  },
  {
   "cell_type": "code",
   "execution_count": 111,
   "id": "dfbacb6f",
   "metadata": {},
   "outputs": [
    {
     "data": {
      "text/plain": [
       "0.7919161676646707"
      ]
     },
     "execution_count": 111,
     "metadata": {},
     "output_type": "execute_result"
    }
   ],
   "source": [
    "clf_knn_3 = KNeighborsClassifier(n_neighbors=3)\n",
    "clf_knn_3.fit(X_train_s, y_train)\n",
    "accuracy_score(y_test, clf_knn_3.predict(X_test_s))"
   ]
  },
  {
   "cell_type": "markdown",
   "id": "904bb499",
   "metadata": {},
   "source": [
    "For KNN classifier with K=1 we got accuracy of 73%. After trying the algo for K=3 the accuracy increased to 79%. Now by implementing Gridsearch CV we will try to search a K value which will give us the highest accuracy."
   ]
  },
  {
   "cell_type": "markdown",
   "id": "0069300b",
   "metadata": {},
   "source": [
    "# GridSearch CV"
   ]
  },
  {
   "cell_type": "code",
   "execution_count": 112,
   "id": "edbc74f3",
   "metadata": {},
   "outputs": [],
   "source": [
    "from sklearn.model_selection import GridSearchCV"
   ]
  },
  {
   "cell_type": "code",
   "execution_count": 113,
   "id": "9194c50c",
   "metadata": {},
   "outputs": [],
   "source": [
    "params = {'n_neighbors': [1, 2, 3, 4, 5, 6, 7, 8, 9, 10, 20,30]}"
   ]
  },
  {
   "cell_type": "code",
   "execution_count": 114,
   "id": "2a70e635",
   "metadata": {},
   "outputs": [],
   "source": [
    "grid_search_cv = GridSearchCV(KNeighborsClassifier(), params)"
   ]
  },
  {
   "cell_type": "code",
   "execution_count": 115,
   "id": "f817f9f8",
   "metadata": {},
   "outputs": [
    {
     "data": {
      "text/html": [
       "<style>#sk-container-id-4 {color: black;}#sk-container-id-4 pre{padding: 0;}#sk-container-id-4 div.sk-toggleable {background-color: white;}#sk-container-id-4 label.sk-toggleable__label {cursor: pointer;display: block;width: 100%;margin-bottom: 0;padding: 0.3em;box-sizing: border-box;text-align: center;}#sk-container-id-4 label.sk-toggleable__label-arrow:before {content: \"▸\";float: left;margin-right: 0.25em;color: #696969;}#sk-container-id-4 label.sk-toggleable__label-arrow:hover:before {color: black;}#sk-container-id-4 div.sk-estimator:hover label.sk-toggleable__label-arrow:before {color: black;}#sk-container-id-4 div.sk-toggleable__content {max-height: 0;max-width: 0;overflow: hidden;text-align: left;background-color: #f0f8ff;}#sk-container-id-4 div.sk-toggleable__content pre {margin: 0.2em;color: black;border-radius: 0.25em;background-color: #f0f8ff;}#sk-container-id-4 input.sk-toggleable__control:checked~div.sk-toggleable__content {max-height: 200px;max-width: 100%;overflow: auto;}#sk-container-id-4 input.sk-toggleable__control:checked~label.sk-toggleable__label-arrow:before {content: \"▾\";}#sk-container-id-4 div.sk-estimator input.sk-toggleable__control:checked~label.sk-toggleable__label {background-color: #d4ebff;}#sk-container-id-4 div.sk-label input.sk-toggleable__control:checked~label.sk-toggleable__label {background-color: #d4ebff;}#sk-container-id-4 input.sk-hidden--visually {border: 0;clip: rect(1px 1px 1px 1px);clip: rect(1px, 1px, 1px, 1px);height: 1px;margin: -1px;overflow: hidden;padding: 0;position: absolute;width: 1px;}#sk-container-id-4 div.sk-estimator {font-family: monospace;background-color: #f0f8ff;border: 1px dotted black;border-radius: 0.25em;box-sizing: border-box;margin-bottom: 0.5em;}#sk-container-id-4 div.sk-estimator:hover {background-color: #d4ebff;}#sk-container-id-4 div.sk-parallel-item::after {content: \"\";width: 100%;border-bottom: 1px solid gray;flex-grow: 1;}#sk-container-id-4 div.sk-label:hover label.sk-toggleable__label {background-color: #d4ebff;}#sk-container-id-4 div.sk-serial::before {content: \"\";position: absolute;border-left: 1px solid gray;box-sizing: border-box;top: 0;bottom: 0;left: 50%;z-index: 0;}#sk-container-id-4 div.sk-serial {display: flex;flex-direction: column;align-items: center;background-color: white;padding-right: 0.2em;padding-left: 0.2em;position: relative;}#sk-container-id-4 div.sk-item {position: relative;z-index: 1;}#sk-container-id-4 div.sk-parallel {display: flex;align-items: stretch;justify-content: center;background-color: white;position: relative;}#sk-container-id-4 div.sk-item::before, #sk-container-id-4 div.sk-parallel-item::before {content: \"\";position: absolute;border-left: 1px solid gray;box-sizing: border-box;top: 0;bottom: 0;left: 50%;z-index: -1;}#sk-container-id-4 div.sk-parallel-item {display: flex;flex-direction: column;z-index: 1;position: relative;background-color: white;}#sk-container-id-4 div.sk-parallel-item:first-child::after {align-self: flex-end;width: 50%;}#sk-container-id-4 div.sk-parallel-item:last-child::after {align-self: flex-start;width: 50%;}#sk-container-id-4 div.sk-parallel-item:only-child::after {width: 0;}#sk-container-id-4 div.sk-dashed-wrapped {border: 1px dashed gray;margin: 0 0.4em 0.5em 0.4em;box-sizing: border-box;padding-bottom: 0.4em;background-color: white;}#sk-container-id-4 div.sk-label label {font-family: monospace;font-weight: bold;display: inline-block;line-height: 1.2em;}#sk-container-id-4 div.sk-label-container {text-align: center;}#sk-container-id-4 div.sk-container {/* jupyter's `normalize.less` sets `[hidden] { display: none; }` but bootstrap.min.css set `[hidden] { display: none !important; }` so we also need the `!important` here to be able to override the default hidden behavior on the sphinx rendered scikit-learn.org. See: https://github.com/scikit-learn/scikit-learn/issues/21755 */display: inline-block !important;position: relative;}#sk-container-id-4 div.sk-text-repr-fallback {display: none;}</style><div id=\"sk-container-id-4\" class=\"sk-top-container\"><div class=\"sk-text-repr-fallback\"><pre>GridSearchCV(estimator=KNeighborsClassifier(),\n",
       "             param_grid={&#x27;n_neighbors&#x27;: [1, 2, 3, 4, 5, 6, 7, 8, 9, 10, 20,\n",
       "                                         30]})</pre><b>In a Jupyter environment, please rerun this cell to show the HTML representation or trust the notebook. <br />On GitHub, the HTML representation is unable to render, please try loading this page with nbviewer.org.</b></div><div class=\"sk-container\" hidden><div class=\"sk-item sk-dashed-wrapped\"><div class=\"sk-label-container\"><div class=\"sk-label sk-toggleable\"><input class=\"sk-toggleable__control sk-hidden--visually\" id=\"sk-estimator-id-4\" type=\"checkbox\" ><label for=\"sk-estimator-id-4\" class=\"sk-toggleable__label sk-toggleable__label-arrow\">GridSearchCV</label><div class=\"sk-toggleable__content\"><pre>GridSearchCV(estimator=KNeighborsClassifier(),\n",
       "             param_grid={&#x27;n_neighbors&#x27;: [1, 2, 3, 4, 5, 6, 7, 8, 9, 10, 20,\n",
       "                                         30]})</pre></div></div></div><div class=\"sk-parallel\"><div class=\"sk-parallel-item\"><div class=\"sk-item\"><div class=\"sk-label-container\"><div class=\"sk-label sk-toggleable\"><input class=\"sk-toggleable__control sk-hidden--visually\" id=\"sk-estimator-id-5\" type=\"checkbox\" ><label for=\"sk-estimator-id-5\" class=\"sk-toggleable__label sk-toggleable__label-arrow\">estimator: KNeighborsClassifier</label><div class=\"sk-toggleable__content\"><pre>KNeighborsClassifier()</pre></div></div></div><div class=\"sk-serial\"><div class=\"sk-item\"><div class=\"sk-estimator sk-toggleable\"><input class=\"sk-toggleable__control sk-hidden--visually\" id=\"sk-estimator-id-6\" type=\"checkbox\" ><label for=\"sk-estimator-id-6\" class=\"sk-toggleable__label sk-toggleable__label-arrow\">KNeighborsClassifier</label><div class=\"sk-toggleable__content\"><pre>KNeighborsClassifier()</pre></div></div></div></div></div></div></div></div></div></div>"
      ],
      "text/plain": [
       "GridSearchCV(estimator=KNeighborsClassifier(),\n",
       "             param_grid={'n_neighbors': [1, 2, 3, 4, 5, 6, 7, 8, 9, 10, 20,\n",
       "                                         30]})"
      ]
     },
     "execution_count": 115,
     "metadata": {},
     "output_type": "execute_result"
    }
   ],
   "source": [
    "grid_search_cv.fit(X_train_s, y_train)"
   ]
  },
  {
   "cell_type": "code",
   "execution_count": 116,
   "id": "0b454d38",
   "metadata": {},
   "outputs": [
    {
     "data": {
      "text/plain": [
       "{'n_neighbors': 30}"
      ]
     },
     "execution_count": 116,
     "metadata": {},
     "output_type": "execute_result"
    }
   ],
   "source": [
    "# Finding the best param from all values\n",
    "grid_search_cv.best_params_"
   ]
  },
  {
   "cell_type": "code",
   "execution_count": 117,
   "id": "f3624d6f",
   "metadata": {},
   "outputs": [],
   "source": [
    "optimised_KNN = grid_search_cv.best_estimator_"
   ]
  },
  {
   "cell_type": "code",
   "execution_count": 118,
   "id": "572dbf9e",
   "metadata": {},
   "outputs": [],
   "source": [
    "# Using the best parameter found out by GRid Search im KNN\n",
    "y_test_pred = optimised_KNN.predict(X_test_s) "
   ]
  },
  {
   "cell_type": "code",
   "execution_count": 119,
   "id": "88a4f66c",
   "metadata": {},
   "outputs": [
    {
     "data": {
      "text/plain": [
       "array([[480,  30],\n",
       "       [ 87,  71]], dtype=int64)"
      ]
     },
     "execution_count": 119,
     "metadata": {},
     "output_type": "execute_result"
    }
   ],
   "source": [
    "confusion_matrix(y_test, y_test_pred)"
   ]
  },
  {
   "cell_type": "code",
   "execution_count": 120,
   "id": "21842d90",
   "metadata": {},
   "outputs": [
    {
     "data": {
      "text/plain": [
       "0.8248502994011976"
      ]
     },
     "execution_count": 120,
     "metadata": {},
     "output_type": "execute_result"
    }
   ],
   "source": [
    "accuracy_score(y_test, y_test_pred)"
   ]
  },
  {
   "cell_type": "markdown",
   "id": "2cf50f36",
   "metadata": {},
   "source": [
    "Here we can see due to Gridsearch CV we have optimised the performance of KNN classifier from 79% to 82%"
   ]
  },
  {
   "cell_type": "markdown",
   "id": "537389cc",
   "metadata": {},
   "source": [
    "# Decision Tree Classifier"
   ]
  },
  {
   "cell_type": "code",
   "execution_count": 121,
   "id": "47aa4ea6",
   "metadata": {},
   "outputs": [
    {
     "data": {
      "text/plain": [
       "(2669, 10)"
      ]
     },
     "execution_count": 121,
     "metadata": {},
     "output_type": "execute_result"
    }
   ],
   "source": [
    "X_train.shape"
   ]
  },
  {
   "cell_type": "code",
   "execution_count": 122,
   "id": "f0cc7161",
   "metadata": {},
   "outputs": [
    {
     "data": {
      "text/plain": [
       "(668, 10)"
      ]
     },
     "execution_count": 122,
     "metadata": {},
     "output_type": "execute_result"
    }
   ],
   "source": [
    "X_test.shape"
   ]
  },
  {
   "cell_type": "code",
   "execution_count": 123,
   "id": "b39896cf",
   "metadata": {},
   "outputs": [],
   "source": [
    "# training classification tree\n",
    "from sklearn import tree\n",
    "clftree = tree.DecisionTreeClassifier(max_depth = 3)"
   ]
  },
  {
   "cell_type": "code",
   "execution_count": 124,
   "id": "fb11dbaa",
   "metadata": {},
   "outputs": [
    {
     "data": {
      "text/html": [
       "<style>#sk-container-id-5 {color: black;}#sk-container-id-5 pre{padding: 0;}#sk-container-id-5 div.sk-toggleable {background-color: white;}#sk-container-id-5 label.sk-toggleable__label {cursor: pointer;display: block;width: 100%;margin-bottom: 0;padding: 0.3em;box-sizing: border-box;text-align: center;}#sk-container-id-5 label.sk-toggleable__label-arrow:before {content: \"▸\";float: left;margin-right: 0.25em;color: #696969;}#sk-container-id-5 label.sk-toggleable__label-arrow:hover:before {color: black;}#sk-container-id-5 div.sk-estimator:hover label.sk-toggleable__label-arrow:before {color: black;}#sk-container-id-5 div.sk-toggleable__content {max-height: 0;max-width: 0;overflow: hidden;text-align: left;background-color: #f0f8ff;}#sk-container-id-5 div.sk-toggleable__content pre {margin: 0.2em;color: black;border-radius: 0.25em;background-color: #f0f8ff;}#sk-container-id-5 input.sk-toggleable__control:checked~div.sk-toggleable__content {max-height: 200px;max-width: 100%;overflow: auto;}#sk-container-id-5 input.sk-toggleable__control:checked~label.sk-toggleable__label-arrow:before {content: \"▾\";}#sk-container-id-5 div.sk-estimator input.sk-toggleable__control:checked~label.sk-toggleable__label {background-color: #d4ebff;}#sk-container-id-5 div.sk-label input.sk-toggleable__control:checked~label.sk-toggleable__label {background-color: #d4ebff;}#sk-container-id-5 input.sk-hidden--visually {border: 0;clip: rect(1px 1px 1px 1px);clip: rect(1px, 1px, 1px, 1px);height: 1px;margin: -1px;overflow: hidden;padding: 0;position: absolute;width: 1px;}#sk-container-id-5 div.sk-estimator {font-family: monospace;background-color: #f0f8ff;border: 1px dotted black;border-radius: 0.25em;box-sizing: border-box;margin-bottom: 0.5em;}#sk-container-id-5 div.sk-estimator:hover {background-color: #d4ebff;}#sk-container-id-5 div.sk-parallel-item::after {content: \"\";width: 100%;border-bottom: 1px solid gray;flex-grow: 1;}#sk-container-id-5 div.sk-label:hover label.sk-toggleable__label {background-color: #d4ebff;}#sk-container-id-5 div.sk-serial::before {content: \"\";position: absolute;border-left: 1px solid gray;box-sizing: border-box;top: 0;bottom: 0;left: 50%;z-index: 0;}#sk-container-id-5 div.sk-serial {display: flex;flex-direction: column;align-items: center;background-color: white;padding-right: 0.2em;padding-left: 0.2em;position: relative;}#sk-container-id-5 div.sk-item {position: relative;z-index: 1;}#sk-container-id-5 div.sk-parallel {display: flex;align-items: stretch;justify-content: center;background-color: white;position: relative;}#sk-container-id-5 div.sk-item::before, #sk-container-id-5 div.sk-parallel-item::before {content: \"\";position: absolute;border-left: 1px solid gray;box-sizing: border-box;top: 0;bottom: 0;left: 50%;z-index: -1;}#sk-container-id-5 div.sk-parallel-item {display: flex;flex-direction: column;z-index: 1;position: relative;background-color: white;}#sk-container-id-5 div.sk-parallel-item:first-child::after {align-self: flex-end;width: 50%;}#sk-container-id-5 div.sk-parallel-item:last-child::after {align-self: flex-start;width: 50%;}#sk-container-id-5 div.sk-parallel-item:only-child::after {width: 0;}#sk-container-id-5 div.sk-dashed-wrapped {border: 1px dashed gray;margin: 0 0.4em 0.5em 0.4em;box-sizing: border-box;padding-bottom: 0.4em;background-color: white;}#sk-container-id-5 div.sk-label label {font-family: monospace;font-weight: bold;display: inline-block;line-height: 1.2em;}#sk-container-id-5 div.sk-label-container {text-align: center;}#sk-container-id-5 div.sk-container {/* jupyter's `normalize.less` sets `[hidden] { display: none; }` but bootstrap.min.css set `[hidden] { display: none !important; }` so we also need the `!important` here to be able to override the default hidden behavior on the sphinx rendered scikit-learn.org. See: https://github.com/scikit-learn/scikit-learn/issues/21755 */display: inline-block !important;position: relative;}#sk-container-id-5 div.sk-text-repr-fallback {display: none;}</style><div id=\"sk-container-id-5\" class=\"sk-top-container\"><div class=\"sk-text-repr-fallback\"><pre>DecisionTreeClassifier(max_depth=3)</pre><b>In a Jupyter environment, please rerun this cell to show the HTML representation or trust the notebook. <br />On GitHub, the HTML representation is unable to render, please try loading this page with nbviewer.org.</b></div><div class=\"sk-container\" hidden><div class=\"sk-item\"><div class=\"sk-estimator sk-toggleable\"><input class=\"sk-toggleable__control sk-hidden--visually\" id=\"sk-estimator-id-7\" type=\"checkbox\" checked><label for=\"sk-estimator-id-7\" class=\"sk-toggleable__label sk-toggleable__label-arrow\">DecisionTreeClassifier</label><div class=\"sk-toggleable__content\"><pre>DecisionTreeClassifier(max_depth=3)</pre></div></div></div></div></div>"
      ],
      "text/plain": [
       "DecisionTreeClassifier(max_depth=3)"
      ]
     },
     "execution_count": 124,
     "metadata": {},
     "output_type": "execute_result"
    }
   ],
   "source": [
    "clftree.fit(X_train, y_train)"
   ]
  },
  {
   "cell_type": "code",
   "execution_count": 125,
   "id": "74ba9c17",
   "metadata": {},
   "outputs": [],
   "source": [
    "# Predicting values using trained values\n",
    "y_train_pred = clftree.predict(X_train)\n",
    "y_test_pred = clftree.predict(X_test)"
   ]
  },
  {
   "cell_type": "code",
   "execution_count": 126,
   "id": "19d61345",
   "metadata": {},
   "outputs": [
    {
     "data": {
      "text/plain": [
       "array([0, 0, 0, 0, 0, 0, 0, 0, 0, 0, 0, 0, 0, 0, 0, 0, 0, 0, 0, 0, 0, 0,\n",
       "       0, 0, 0, 0, 0, 0, 0, 0, 0, 1, 0, 0, 0, 0, 1, 1, 1, 0, 0, 0, 0, 0,\n",
       "       0, 0, 0, 1, 1, 0, 0, 0, 0, 0, 0, 0, 0, 0, 1, 0, 1, 0, 0, 0, 0, 0,\n",
       "       0, 0, 0, 0, 0, 0, 0, 0, 0, 0, 0, 0, 0, 0, 0, 0, 0, 1, 0, 1, 0, 1,\n",
       "       1, 0, 0, 0, 1, 0, 0, 0, 0, 0, 0, 0, 0, 0, 0, 0, 0, 0, 0, 0, 0, 1,\n",
       "       0, 1, 1, 0, 1, 0, 0, 0, 0, 0, 0, 0, 1, 0, 0, 1, 0, 1, 0, 0, 0, 0,\n",
       "       0, 1, 0, 0, 0, 0, 1, 0, 0, 0, 0, 0, 0, 0, 0, 0, 0, 0, 0, 0, 1, 0,\n",
       "       0, 0, 1, 0, 0, 0, 0, 1, 0, 0, 0, 1, 0, 0, 0, 0, 1, 0, 0, 1, 0, 0,\n",
       "       0, 0, 0, 0, 0, 1, 1, 0, 0, 0, 0, 0, 0, 0, 0, 0, 0, 0, 0, 0, 0, 0,\n",
       "       1, 0, 0, 0, 0, 1, 1, 0, 1, 0, 0, 0, 0, 0, 0, 0, 0, 0, 1, 0, 0, 1,\n",
       "       0, 1, 0, 0, 0, 0, 0, 1, 1, 0, 0, 0, 0, 0, 0, 0, 0, 0, 0, 1, 0, 1,\n",
       "       0, 0, 0, 0, 1, 0, 0, 0, 0, 1, 0, 0, 0, 0, 0, 0, 0, 0, 0, 1, 0, 0,\n",
       "       0, 0, 0, 0, 0, 0, 0, 0, 0, 0, 1, 1, 0, 1, 1, 0, 0, 0, 0, 0, 0, 1,\n",
       "       0, 0, 1, 0, 0, 0, 0, 0, 0, 1, 0, 0, 0, 1, 0, 0, 0, 0, 0, 0, 0, 0,\n",
       "       0, 0, 0, 0, 0, 0, 0, 0, 1, 0, 0, 0, 0, 1, 0, 0, 0, 0, 0, 0, 1, 0,\n",
       "       0, 0, 0, 0, 0, 0, 0, 0, 0, 0, 0, 1, 0, 0, 0, 0, 0, 0, 0, 0, 0, 0,\n",
       "       0, 0, 0, 0, 0, 0, 0, 1, 0, 0, 0, 0, 0, 1, 0, 0, 0, 0, 0, 0, 0, 0,\n",
       "       0, 1, 0, 0, 0, 0, 0, 0, 0, 0, 1, 1, 0, 0, 1, 1, 0, 0, 0, 0, 1, 1,\n",
       "       0, 0, 0, 0, 0, 0, 0, 0, 0, 0, 0, 1, 0, 0, 1, 0, 0, 0, 1, 0, 0, 0,\n",
       "       0, 0, 0, 0, 1, 0, 0, 0, 0, 0, 0, 0, 1, 0, 0, 0, 0, 0, 0, 0, 0, 0,\n",
       "       0, 0, 0, 0, 1, 1, 1, 0, 0, 0, 0, 0, 0, 0, 0, 1, 0, 0, 0, 0, 0, 0,\n",
       "       0, 0, 0, 1, 0, 0, 0, 0, 0, 0, 0, 0, 0, 0, 0, 0, 0, 0, 0, 0, 0, 0,\n",
       "       0, 0, 0, 0, 0, 0, 0, 1, 0, 0, 0, 0, 0, 0, 0, 0, 0, 0, 0, 1, 1, 0,\n",
       "       0, 0, 0, 1, 0, 0, 0, 1, 0, 0, 0, 0, 0, 0, 0, 0, 0, 0, 0, 0, 0, 0,\n",
       "       0, 1, 0, 0, 1, 0, 0, 0, 0, 1, 0, 0, 0, 0, 0, 1, 0, 0, 0, 0, 0, 1,\n",
       "       0, 0, 0, 0, 1, 0, 0, 0, 0, 0, 0, 0, 0, 0, 0, 0, 0, 0, 1, 0, 0, 0,\n",
       "       0, 0, 0, 0, 0, 0, 0, 0, 1, 1, 1, 0, 0, 0, 0, 1, 0, 0, 0, 0, 0, 1,\n",
       "       0, 0, 0, 0, 0, 0, 0, 0, 0, 0, 0, 0, 0, 0, 0, 0, 0, 0, 0, 0, 0, 0,\n",
       "       1, 0, 0, 0, 0, 1, 0, 0, 0, 0, 0, 0, 0, 0, 0, 0, 0, 1, 0, 1, 0, 0,\n",
       "       0, 1, 0, 0, 0, 0, 0, 0, 0, 1, 0, 0, 0, 0, 1, 0, 1, 0, 0, 0, 0, 0,\n",
       "       1, 0, 0, 0, 0, 0, 0, 0])"
      ]
     },
     "execution_count": 126,
     "metadata": {},
     "output_type": "execute_result"
    }
   ],
   "source": [
    "y_test_pred"
   ]
  },
  {
   "cell_type": "code",
   "execution_count": 127,
   "id": "22354d2a",
   "metadata": {},
   "outputs": [
    {
     "data": {
      "text/plain": [
       "array([[1850,  112],\n",
       "       [ 360,  347]], dtype=int64)"
      ]
     },
     "execution_count": 127,
     "metadata": {},
     "output_type": "execute_result"
    }
   ],
   "source": [
    "#CHECKING MODEL PERFORMANCE\n",
    "confusion_matrix(y_train, y_train_pred)"
   ]
  },
  {
   "cell_type": "code",
   "execution_count": 128,
   "id": "d92bd933",
   "metadata": {},
   "outputs": [
    {
     "data": {
      "text/plain": [
       "array([[479,  31],\n",
       "       [ 88,  70]], dtype=int64)"
      ]
     },
     "execution_count": 128,
     "metadata": {},
     "output_type": "execute_result"
    }
   ],
   "source": [
    "confusion_matrix(y_test, y_test_pred)"
   ]
  },
  {
   "cell_type": "code",
   "execution_count": 129,
   "id": "118a7f8b",
   "metadata": {},
   "outputs": [
    {
     "data": {
      "text/plain": [
       "0.8218562874251497"
      ]
     },
     "execution_count": 129,
     "metadata": {},
     "output_type": "execute_result"
    }
   ],
   "source": [
    "accuracy_score(y_test, y_test_pred)"
   ]
  },
  {
   "cell_type": "code",
   "execution_count": 130,
   "id": "b4ba4128",
   "metadata": {},
   "outputs": [],
   "source": [
    "#Plotting tree\n",
    "dot_data = tree.export_graphviz(clftree, out_file=None,feature_names= X_train.columns, filled = True)"
   ]
  },
  {
   "cell_type": "code",
   "execution_count": 131,
   "id": "bebac600",
   "metadata": {},
   "outputs": [],
   "source": [
    "from IPython.display import Image"
   ]
  },
  {
   "cell_type": "code",
   "execution_count": 132,
   "id": "6cb3b0de",
   "metadata": {},
   "outputs": [],
   "source": [
    "import pydotplus"
   ]
  },
  {
   "cell_type": "code",
   "execution_count": 133,
   "id": "2f719858",
   "metadata": {},
   "outputs": [
    {
     "data": {
      "image/png": "[encoded data removed]",
      "text/plain": [
       "<IPython.core.display.Image object>"
      ]
     },
     "execution_count": 133,
     "metadata": {},
     "output_type": "execute_result"
    }
   ],
   "source": [
    "graph = pydotplus.graph_from_dot_data(dot_data)\n",
    "Image(graph.create_png())"
   ]
  },
  {
   "cell_type": "markdown",
   "id": "3cd2c6d7",
   "metadata": {},
   "source": [
    "# Bagging"
   ]
  },
  {
   "cell_type": "code",
   "execution_count": 140,
   "id": "c3ab0617",
   "metadata": {},
   "outputs": [],
   "source": [
    "#importing the libraries\n",
    "from sklearn.ensemble import BaggingClassifier"
   ]
  },
  {
   "cell_type": "code",
   "execution_count": 141,
   "id": "3955eb03",
   "metadata": {},
   "outputs": [],
   "source": [
    "#creating object for bagging classifier\n",
    "bag_clf = BaggingClassifier(base_estimator=clftree, n_estimators=1000,\n",
    "                            bootstrap=True, n_jobs=-1,\n",
    "                            random_state=42)"
   ]
  },
  {
   "cell_type": "code",
   "execution_count": 142,
   "id": "be7b18d7",
   "metadata": {},
   "outputs": [
    {
     "name": "stderr",
     "output_type": "stream",
     "text": [
      "D:\\Anaconda_python\\Lib\\site-packages\\sklearn\\ensemble\\_base.py:156: FutureWarning: `base_estimator` was renamed to `estimator` in version 1.2 and will be removed in 1.4.\n",
      "  warnings.warn(\n"
     ]
    },
    {
     "data": {
      "text/html": [
       "<style>#sk-container-id-6 {color: black;}#sk-container-id-6 pre{padding: 0;}#sk-container-id-6 div.sk-toggleable {background-color: white;}#sk-container-id-6 label.sk-toggleable__label {cursor: pointer;display: block;width: 100%;margin-bottom: 0;padding: 0.3em;box-sizing: border-box;text-align: center;}#sk-container-id-6 label.sk-toggleable__label-arrow:before {content: \"▸\";float: left;margin-right: 0.25em;color: #696969;}#sk-container-id-6 label.sk-toggleable__label-arrow:hover:before {color: black;}#sk-container-id-6 div.sk-estimator:hover label.sk-toggleable__label-arrow:before {color: black;}#sk-container-id-6 div.sk-toggleable__content {max-height: 0;max-width: 0;overflow: hidden;text-align: left;background-color: #f0f8ff;}#sk-container-id-6 div.sk-toggleable__content pre {margin: 0.2em;color: black;border-radius: 0.25em;background-color: #f0f8ff;}#sk-container-id-6 input.sk-toggleable__control:checked~div.sk-toggleable__content {max-height: 200px;max-width: 100%;overflow: auto;}#sk-container-id-6 input.sk-toggleable__control:checked~label.sk-toggleable__label-arrow:before {content: \"▾\";}#sk-container-id-6 div.sk-estimator input.sk-toggleable__control:checked~label.sk-toggleable__label {background-color: #d4ebff;}#sk-container-id-6 div.sk-label input.sk-toggleable__control:checked~label.sk-toggleable__label {background-color: #d4ebff;}#sk-container-id-6 input.sk-hidden--visually {border: 0;clip: rect(1px 1px 1px 1px);clip: rect(1px, 1px, 1px, 1px);height: 1px;margin: -1px;overflow: hidden;padding: 0;position: absolute;width: 1px;}#sk-container-id-6 div.sk-estimator {font-family: monospace;background-color: #f0f8ff;border: 1px dotted black;border-radius: 0.25em;box-sizing: border-box;margin-bottom: 0.5em;}#sk-container-id-6 div.sk-estimator:hover {background-color: #d4ebff;}#sk-container-id-6 div.sk-parallel-item::after {content: \"\";width: 100%;border-bottom: 1px solid gray;flex-grow: 1;}#sk-container-id-6 div.sk-label:hover label.sk-toggleable__label {background-color: #d4ebff;}#sk-container-id-6 div.sk-serial::before {content: \"\";position: absolute;border-left: 1px solid gray;box-sizing: border-box;top: 0;bottom: 0;left: 50%;z-index: 0;}#sk-container-id-6 div.sk-serial {display: flex;flex-direction: column;align-items: center;background-color: white;padding-right: 0.2em;padding-left: 0.2em;position: relative;}#sk-container-id-6 div.sk-item {position: relative;z-index: 1;}#sk-container-id-6 div.sk-parallel {display: flex;align-items: stretch;justify-content: center;background-color: white;position: relative;}#sk-container-id-6 div.sk-item::before, #sk-container-id-6 div.sk-parallel-item::before {content: \"\";position: absolute;border-left: 1px solid gray;box-sizing: border-box;top: 0;bottom: 0;left: 50%;z-index: -1;}#sk-container-id-6 div.sk-parallel-item {display: flex;flex-direction: column;z-index: 1;position: relative;background-color: white;}#sk-container-id-6 div.sk-parallel-item:first-child::after {align-self: flex-end;width: 50%;}#sk-container-id-6 div.sk-parallel-item:last-child::after {align-self: flex-start;width: 50%;}#sk-container-id-6 div.sk-parallel-item:only-child::after {width: 0;}#sk-container-id-6 div.sk-dashed-wrapped {border: 1px dashed gray;margin: 0 0.4em 0.5em 0.4em;box-sizing: border-box;padding-bottom: 0.4em;background-color: white;}#sk-container-id-6 div.sk-label label {font-family: monospace;font-weight: bold;display: inline-block;line-height: 1.2em;}#sk-container-id-6 div.sk-label-container {text-align: center;}#sk-container-id-6 div.sk-container {/* jupyter's `normalize.less` sets `[hidden] { display: none; }` but bootstrap.min.css set `[hidden] { display: none !important; }` so we also need the `!important` here to be able to override the default hidden behavior on the sphinx rendered scikit-learn.org. See: https://github.com/scikit-learn/scikit-learn/issues/21755 */display: inline-block !important;position: relative;}#sk-container-id-6 div.sk-text-repr-fallback {display: none;}</style><div id=\"sk-container-id-6\" class=\"sk-top-container\"><div class=\"sk-text-repr-fallback\"><pre>BaggingClassifier(base_estimator=DecisionTreeClassifier(max_depth=3),\n",
       "                  n_estimators=1000, n_jobs=-1, random_state=42)</pre><b>In a Jupyter environment, please rerun this cell to show the HTML representation or trust the notebook. <br />On GitHub, the HTML representation is unable to render, please try loading this page with nbviewer.org.</b></div><div class=\"sk-container\" hidden><div class=\"sk-item sk-dashed-wrapped\"><div class=\"sk-label-container\"><div class=\"sk-label sk-toggleable\"><input class=\"sk-toggleable__control sk-hidden--visually\" id=\"sk-estimator-id-8\" type=\"checkbox\" ><label for=\"sk-estimator-id-8\" class=\"sk-toggleable__label sk-toggleable__label-arrow\">BaggingClassifier</label><div class=\"sk-toggleable__content\"><pre>BaggingClassifier(base_estimator=DecisionTreeClassifier(max_depth=3),\n",
       "                  n_estimators=1000, n_jobs=-1, random_state=42)</pre></div></div></div><div class=\"sk-parallel\"><div class=\"sk-parallel-item\"><div class=\"sk-item\"><div class=\"sk-label-container\"><div class=\"sk-label sk-toggleable\"><input class=\"sk-toggleable__control sk-hidden--visually\" id=\"sk-estimator-id-9\" type=\"checkbox\" ><label for=\"sk-estimator-id-9\" class=\"sk-toggleable__label sk-toggleable__label-arrow\">base_estimator: DecisionTreeClassifier</label><div class=\"sk-toggleable__content\"><pre>DecisionTreeClassifier(max_depth=3)</pre></div></div></div><div class=\"sk-serial\"><div class=\"sk-item\"><div class=\"sk-estimator sk-toggleable\"><input class=\"sk-toggleable__control sk-hidden--visually\" id=\"sk-estimator-id-10\" type=\"checkbox\" ><label for=\"sk-estimator-id-10\" class=\"sk-toggleable__label sk-toggleable__label-arrow\">DecisionTreeClassifier</label><div class=\"sk-toggleable__content\"><pre>DecisionTreeClassifier(max_depth=3)</pre></div></div></div></div></div></div></div></div></div></div>"
      ],
      "text/plain": [
       "BaggingClassifier(base_estimator=DecisionTreeClassifier(max_depth=3),\n",
       "                  n_estimators=1000, n_jobs=-1, random_state=42)"
      ]
     },
     "execution_count": 142,
     "metadata": {},
     "output_type": "execute_result"
    }
   ],
   "source": [
    "#trainig our model\n",
    "bag_clf.fit(X_train, y_train)"
   ]
  },
  {
   "cell_type": "code",
   "execution_count": 143,
   "id": "b5d669b3",
   "metadata": {},
   "outputs": [
    {
     "data": {
      "text/plain": [
       "array([[489,  21],\n",
       "       [ 89,  69]], dtype=int64)"
      ]
     },
     "execution_count": 143,
     "metadata": {},
     "output_type": "execute_result"
    }
   ],
   "source": [
    "#checking performance of model after bagging technique\n",
    "confusion_matrix(y_test, bag_clf.predict(X_test))"
   ]
  },
  {
   "cell_type": "code",
   "execution_count": 144,
   "id": "62e89ba8",
   "metadata": {},
   "outputs": [
    {
     "data": {
      "text/plain": [
       "0.8353293413173652"
      ]
     },
     "execution_count": 144,
     "metadata": {},
     "output_type": "execute_result"
    }
   ],
   "source": [
    "accuracy_score(y_test, bag_clf.predict(X_test))"
   ]
  },
  {
   "cell_type": "markdown",
   "id": "1720003d",
   "metadata": {},
   "source": [
    "Here we can see By implementing Bagging techinque we have improved performance of decision tree classifier to 83.53% from 82.18%"
   ]
  },
  {
   "cell_type": "markdown",
   "id": "f7e8818a",
   "metadata": {},
   "source": [
    "# Random Forest Classifier"
   ]
  },
  {
   "cell_type": "code",
   "execution_count": 145,
   "id": "ee9f8779",
   "metadata": {},
   "outputs": [],
   "source": [
    "# importing libraries for random forest classifier\n",
    "from sklearn.ensemble import RandomForestClassifier"
   ]
  },
  {
   "cell_type": "code",
   "execution_count": 146,
   "id": "77ddcef3",
   "metadata": {},
   "outputs": [],
   "source": [
    "#creating object for the classifier\n",
    "rf_clf = RandomForestClassifier(n_estimators=1000, n_jobs=-1 ,random_state=42)"
   ]
  },
  {
   "cell_type": "code",
   "execution_count": 147,
   "id": "0a5afff5",
   "metadata": {},
   "outputs": [
    {
     "data": {
      "text/html": [
       "<style>#sk-container-id-7 {color: black;}#sk-container-id-7 pre{padding: 0;}#sk-container-id-7 div.sk-toggleable {background-color: white;}#sk-container-id-7 label.sk-toggleable__label {cursor: pointer;display: block;width: 100%;margin-bottom: 0;padding: 0.3em;box-sizing: border-box;text-align: center;}#sk-container-id-7 label.sk-toggleable__label-arrow:before {content: \"▸\";float: left;margin-right: 0.25em;color: #696969;}#sk-container-id-7 label.sk-toggleable__label-arrow:hover:before {color: black;}#sk-container-id-7 div.sk-estimator:hover label.sk-toggleable__label-arrow:before {color: black;}#sk-container-id-7 div.sk-toggleable__content {max-height: 0;max-width: 0;overflow: hidden;text-align: left;background-color: #f0f8ff;}#sk-container-id-7 div.sk-toggleable__content pre {margin: 0.2em;color: black;border-radius: 0.25em;background-color: #f0f8ff;}#sk-container-id-7 input.sk-toggleable__control:checked~div.sk-toggleable__content {max-height: 200px;max-width: 100%;overflow: auto;}#sk-container-id-7 input.sk-toggleable__control:checked~label.sk-toggleable__label-arrow:before {content: \"▾\";}#sk-container-id-7 div.sk-estimator input.sk-toggleable__control:checked~label.sk-toggleable__label {background-color: #d4ebff;}#sk-container-id-7 div.sk-label input.sk-toggleable__control:checked~label.sk-toggleable__label {background-color: #d4ebff;}#sk-container-id-7 input.sk-hidden--visually {border: 0;clip: rect(1px 1px 1px 1px);clip: rect(1px, 1px, 1px, 1px);height: 1px;margin: -1px;overflow: hidden;padding: 0;position: absolute;width: 1px;}#sk-container-id-7 div.sk-estimator {font-family: monospace;background-color: #f0f8ff;border: 1px dotted black;border-radius: 0.25em;box-sizing: border-box;margin-bottom: 0.5em;}#sk-container-id-7 div.sk-estimator:hover {background-color: #d4ebff;}#sk-container-id-7 div.sk-parallel-item::after {content: \"\";width: 100%;border-bottom: 1px solid gray;flex-grow: 1;}#sk-container-id-7 div.sk-label:hover label.sk-toggleable__label {background-color: #d4ebff;}#sk-container-id-7 div.sk-serial::before {content: \"\";position: absolute;border-left: 1px solid gray;box-sizing: border-box;top: 0;bottom: 0;left: 50%;z-index: 0;}#sk-container-id-7 div.sk-serial {display: flex;flex-direction: column;align-items: center;background-color: white;padding-right: 0.2em;padding-left: 0.2em;position: relative;}#sk-container-id-7 div.sk-item {position: relative;z-index: 1;}#sk-container-id-7 div.sk-parallel {display: flex;align-items: stretch;justify-content: center;background-color: white;position: relative;}#sk-container-id-7 div.sk-item::before, #sk-container-id-7 div.sk-parallel-item::before {content: \"\";position: absolute;border-left: 1px solid gray;box-sizing: border-box;top: 0;bottom: 0;left: 50%;z-index: -1;}#sk-container-id-7 div.sk-parallel-item {display: flex;flex-direction: column;z-index: 1;position: relative;background-color: white;}#sk-container-id-7 div.sk-parallel-item:first-child::after {align-self: flex-end;width: 50%;}#sk-container-id-7 div.sk-parallel-item:last-child::after {align-self: flex-start;width: 50%;}#sk-container-id-7 div.sk-parallel-item:only-child::after {width: 0;}#sk-container-id-7 div.sk-dashed-wrapped {border: 1px dashed gray;margin: 0 0.4em 0.5em 0.4em;box-sizing: border-box;padding-bottom: 0.4em;background-color: white;}#sk-container-id-7 div.sk-label label {font-family: monospace;font-weight: bold;display: inline-block;line-height: 1.2em;}#sk-container-id-7 div.sk-label-container {text-align: center;}#sk-container-id-7 div.sk-container {/* jupyter's `normalize.less` sets `[hidden] { display: none; }` but bootstrap.min.css set `[hidden] { display: none !important; }` so we also need the `!important` here to be able to override the default hidden behavior on the sphinx rendered scikit-learn.org. See: https://github.com/scikit-learn/scikit-learn/issues/21755 */display: inline-block !important;position: relative;}#sk-container-id-7 div.sk-text-repr-fallback {display: none;}</style><div id=\"sk-container-id-7\" class=\"sk-top-container\"><div class=\"sk-text-repr-fallback\"><pre>RandomForestClassifier(n_estimators=1000, n_jobs=-1, random_state=42)</pre><b>In a Jupyter environment, please rerun this cell to show the HTML representation or trust the notebook. <br />On GitHub, the HTML representation is unable to render, please try loading this page with nbviewer.org.</b></div><div class=\"sk-container\" hidden><div class=\"sk-item\"><div class=\"sk-estimator sk-toggleable\"><input class=\"sk-toggleable__control sk-hidden--visually\" id=\"sk-estimator-id-11\" type=\"checkbox\" checked><label for=\"sk-estimator-id-11\" class=\"sk-toggleable__label sk-toggleable__label-arrow\">RandomForestClassifier</label><div class=\"sk-toggleable__content\"><pre>RandomForestClassifier(n_estimators=1000, n_jobs=-1, random_state=42)</pre></div></div></div></div></div>"
      ],
      "text/plain": [
       "RandomForestClassifier(n_estimators=1000, n_jobs=-1, random_state=42)"
      ]
     },
     "execution_count": 147,
     "metadata": {},
     "output_type": "execute_result"
    }
   ],
   "source": [
    "#Training our model\n",
    "rf_clf.fit(X_train, y_train)"
   ]
  },
  {
   "cell_type": "code",
   "execution_count": 148,
   "id": "fe41513c",
   "metadata": {},
   "outputs": [
    {
     "data": {
      "text/plain": [
       "array([[469,  41],\n",
       "       [ 81,  77]], dtype=int64)"
      ]
     },
     "execution_count": 148,
     "metadata": {},
     "output_type": "execute_result"
    }
   ],
   "source": [
    "#CHECKING MODEL PERFORMANCE\n",
    "confusion_matrix(y_test, rf_clf.predict(X_test))"
   ]
  },
  {
   "cell_type": "code",
   "execution_count": 149,
   "id": "3cd3efe7",
   "metadata": {},
   "outputs": [
    {
     "data": {
      "text/plain": [
       "0.8173652694610778"
      ]
     },
     "execution_count": 149,
     "metadata": {},
     "output_type": "execute_result"
    }
   ],
   "source": [
    "accuracy_score(y_test, rf_clf.predict(X_test))"
   ]
  },
  {
   "cell_type": "markdown",
   "id": "4978f39f",
   "metadata": {},
   "source": [
    "# Ada boost"
   ]
  },
  {
   "cell_type": "code",
   "execution_count": 150,
   "id": "91f7fe0b",
   "metadata": {},
   "outputs": [],
   "source": [
    "# importing libraries for random forest classifier\n",
    "from sklearn.ensemble import AdaBoostClassifier"
   ]
  },
  {
   "cell_type": "code",
   "execution_count": 151,
   "id": "bd741d86",
   "metadata": {},
   "outputs": [],
   "source": [
    "#creating object for the classifier\n",
    "ada_clf = AdaBoostClassifier(learning_rate =0.02, n_estimators =5000)"
   ]
  },
  {
   "cell_type": "code",
   "execution_count": 152,
   "id": "3f9f56a6",
   "metadata": {},
   "outputs": [
    {
     "data": {
      "text/html": [
       "<style>#sk-container-id-8 {color: black;}#sk-container-id-8 pre{padding: 0;}#sk-container-id-8 div.sk-toggleable {background-color: white;}#sk-container-id-8 label.sk-toggleable__label {cursor: pointer;display: block;width: 100%;margin-bottom: 0;padding: 0.3em;box-sizing: border-box;text-align: center;}#sk-container-id-8 label.sk-toggleable__label-arrow:before {content: \"▸\";float: left;margin-right: 0.25em;color: #696969;}#sk-container-id-8 label.sk-toggleable__label-arrow:hover:before {color: black;}#sk-container-id-8 div.sk-estimator:hover label.sk-toggleable__label-arrow:before {color: black;}#sk-container-id-8 div.sk-toggleable__content {max-height: 0;max-width: 0;overflow: hidden;text-align: left;background-color: #f0f8ff;}#sk-container-id-8 div.sk-toggleable__content pre {margin: 0.2em;color: black;border-radius: 0.25em;background-color: #f0f8ff;}#sk-container-id-8 input.sk-toggleable__control:checked~div.sk-toggleable__content {max-height: 200px;max-width: 100%;overflow: auto;}#sk-container-id-8 input.sk-toggleable__control:checked~label.sk-toggleable__label-arrow:before {content: \"▾\";}#sk-container-id-8 div.sk-estimator input.sk-toggleable__control:checked~label.sk-toggleable__label {background-color: #d4ebff;}#sk-container-id-8 div.sk-label input.sk-toggleable__control:checked~label.sk-toggleable__label {background-color: #d4ebff;}#sk-container-id-8 input.sk-hidden--visually {border: 0;clip: rect(1px 1px 1px 1px);clip: rect(1px, 1px, 1px, 1px);height: 1px;margin: -1px;overflow: hidden;padding: 0;position: absolute;width: 1px;}#sk-container-id-8 div.sk-estimator {font-family: monospace;background-color: #f0f8ff;border: 1px dotted black;border-radius: 0.25em;box-sizing: border-box;margin-bottom: 0.5em;}#sk-container-id-8 div.sk-estimator:hover {background-color: #d4ebff;}#sk-container-id-8 div.sk-parallel-item::after {content: \"\";width: 100%;border-bottom: 1px solid gray;flex-grow: 1;}#sk-container-id-8 div.sk-label:hover label.sk-toggleable__label {background-color: #d4ebff;}#sk-container-id-8 div.sk-serial::before {content: \"\";position: absolute;border-left: 1px solid gray;box-sizing: border-box;top: 0;bottom: 0;left: 50%;z-index: 0;}#sk-container-id-8 div.sk-serial {display: flex;flex-direction: column;align-items: center;background-color: white;padding-right: 0.2em;padding-left: 0.2em;position: relative;}#sk-container-id-8 div.sk-item {position: relative;z-index: 1;}#sk-container-id-8 div.sk-parallel {display: flex;align-items: stretch;justify-content: center;background-color: white;position: relative;}#sk-container-id-8 div.sk-item::before, #sk-container-id-8 div.sk-parallel-item::before {content: \"\";position: absolute;border-left: 1px solid gray;box-sizing: border-box;top: 0;bottom: 0;left: 50%;z-index: -1;}#sk-container-id-8 div.sk-parallel-item {display: flex;flex-direction: column;z-index: 1;position: relative;background-color: white;}#sk-container-id-8 div.sk-parallel-item:first-child::after {align-self: flex-end;width: 50%;}#sk-container-id-8 div.sk-parallel-item:last-child::after {align-self: flex-start;width: 50%;}#sk-container-id-8 div.sk-parallel-item:only-child::after {width: 0;}#sk-container-id-8 div.sk-dashed-wrapped {border: 1px dashed gray;margin: 0 0.4em 0.5em 0.4em;box-sizing: border-box;padding-bottom: 0.4em;background-color: white;}#sk-container-id-8 div.sk-label label {font-family: monospace;font-weight: bold;display: inline-block;line-height: 1.2em;}#sk-container-id-8 div.sk-label-container {text-align: center;}#sk-container-id-8 div.sk-container {/* jupyter's `normalize.less` sets `[hidden] { display: none; }` but bootstrap.min.css set `[hidden] { display: none !important; }` so we also need the `!important` here to be able to override the default hidden behavior on the sphinx rendered scikit-learn.org. See: https://github.com/scikit-learn/scikit-learn/issues/21755 */display: inline-block !important;position: relative;}#sk-container-id-8 div.sk-text-repr-fallback {display: none;}</style><div id=\"sk-container-id-8\" class=\"sk-top-container\"><div class=\"sk-text-repr-fallback\"><pre>AdaBoostClassifier(learning_rate=0.02, n_estimators=5000)</pre><b>In a Jupyter environment, please rerun this cell to show the HTML representation or trust the notebook. <br />On GitHub, the HTML representation is unable to render, please try loading this page with nbviewer.org.</b></div><div class=\"sk-container\" hidden><div class=\"sk-item\"><div class=\"sk-estimator sk-toggleable\"><input class=\"sk-toggleable__control sk-hidden--visually\" id=\"sk-estimator-id-12\" type=\"checkbox\" checked><label for=\"sk-estimator-id-12\" class=\"sk-toggleable__label sk-toggleable__label-arrow\">AdaBoostClassifier</label><div class=\"sk-toggleable__content\"><pre>AdaBoostClassifier(learning_rate=0.02, n_estimators=5000)</pre></div></div></div></div></div>"
      ],
      "text/plain": [
       "AdaBoostClassifier(learning_rate=0.02, n_estimators=5000)"
      ]
     },
     "execution_count": 152,
     "metadata": {},
     "output_type": "execute_result"
    }
   ],
   "source": [
    "#Training our model\n",
    "ada_clf.fit(X_train, y_train)"
   ]
  },
  {
   "cell_type": "code",
   "execution_count": 153,
   "id": "efec7be7",
   "metadata": {},
   "outputs": [
    {
     "data": {
      "text/plain": [
       "0.8471337579617835"
      ]
     },
     "execution_count": 153,
     "metadata": {},
     "output_type": "execute_result"
    }
   ],
   "source": [
    "accuracy_score(y_train, ada_clf.predict(X_train))"
   ]
  },
  {
   "cell_type": "code",
   "execution_count": 154,
   "id": "9e65efca",
   "metadata": {},
   "outputs": [
    {
     "data": {
      "text/plain": [
       "0.8203592814371258"
      ]
     },
     "execution_count": 154,
     "metadata": {},
     "output_type": "execute_result"
    }
   ],
   "source": [
    "accuracy_score(y_test, ada_clf.predict(X_test))"
   ]
  },
  {
   "cell_type": "code",
   "execution_count": 165,
   "id": "0060c93b",
   "metadata": {},
   "outputs": [],
   "source": [
    "# checking performance by changing estimators value\n",
    "ada_clf2 = AdaBoostClassifier(rf_clf,learning_rate =0.07, n_estimators =250)"
   ]
  },
  {
   "cell_type": "code",
   "execution_count": 166,
   "id": "41325de3",
   "metadata": {},
   "outputs": [
    {
     "data": {
      "text/html": [
       "<style>#sk-container-id-12 {color: black;}#sk-container-id-12 pre{padding: 0;}#sk-container-id-12 div.sk-toggleable {background-color: white;}#sk-container-id-12 label.sk-toggleable__label {cursor: pointer;display: block;width: 100%;margin-bottom: 0;padding: 0.3em;box-sizing: border-box;text-align: center;}#sk-container-id-12 label.sk-toggleable__label-arrow:before {content: \"▸\";float: left;margin-right: 0.25em;color: #696969;}#sk-container-id-12 label.sk-toggleable__label-arrow:hover:before {color: black;}#sk-container-id-12 div.sk-estimator:hover label.sk-toggleable__label-arrow:before {color: black;}#sk-container-id-12 div.sk-toggleable__content {max-height: 0;max-width: 0;overflow: hidden;text-align: left;background-color: #f0f8ff;}#sk-container-id-12 div.sk-toggleable__content pre {margin: 0.2em;color: black;border-radius: 0.25em;background-color: #f0f8ff;}#sk-container-id-12 input.sk-toggleable__control:checked~div.sk-toggleable__content {max-height: 200px;max-width: 100%;overflow: auto;}#sk-container-id-12 input.sk-toggleable__control:checked~label.sk-toggleable__label-arrow:before {content: \"▾\";}#sk-container-id-12 div.sk-estimator input.sk-toggleable__control:checked~label.sk-toggleable__label {background-color: #d4ebff;}#sk-container-id-12 div.sk-label input.sk-toggleable__control:checked~label.sk-toggleable__label {background-color: #d4ebff;}#sk-container-id-12 input.sk-hidden--visually {border: 0;clip: rect(1px 1px 1px 1px);clip: rect(1px, 1px, 1px, 1px);height: 1px;margin: -1px;overflow: hidden;padding: 0;position: absolute;width: 1px;}#sk-container-id-12 div.sk-estimator {font-family: monospace;background-color: #f0f8ff;border: 1px dotted black;border-radius: 0.25em;box-sizing: border-box;margin-bottom: 0.5em;}#sk-container-id-12 div.sk-estimator:hover {background-color: #d4ebff;}#sk-container-id-12 div.sk-parallel-item::after {content: \"\";width: 100%;border-bottom: 1px solid gray;flex-grow: 1;}#sk-container-id-12 div.sk-label:hover label.sk-toggleable__label {background-color: #d4ebff;}#sk-container-id-12 div.sk-serial::before {content: \"\";position: absolute;border-left: 1px solid gray;box-sizing: border-box;top: 0;bottom: 0;left: 50%;z-index: 0;}#sk-container-id-12 div.sk-serial {display: flex;flex-direction: column;align-items: center;background-color: white;padding-right: 0.2em;padding-left: 0.2em;position: relative;}#sk-container-id-12 div.sk-item {position: relative;z-index: 1;}#sk-container-id-12 div.sk-parallel {display: flex;align-items: stretch;justify-content: center;background-color: white;position: relative;}#sk-container-id-12 div.sk-item::before, #sk-container-id-12 div.sk-parallel-item::before {content: \"\";position: absolute;border-left: 1px solid gray;box-sizing: border-box;top: 0;bottom: 0;left: 50%;z-index: -1;}#sk-container-id-12 div.sk-parallel-item {display: flex;flex-direction: column;z-index: 1;position: relative;background-color: white;}#sk-container-id-12 div.sk-parallel-item:first-child::after {align-self: flex-end;width: 50%;}#sk-container-id-12 div.sk-parallel-item:last-child::after {align-self: flex-start;width: 50%;}#sk-container-id-12 div.sk-parallel-item:only-child::after {width: 0;}#sk-container-id-12 div.sk-dashed-wrapped {border: 1px dashed gray;margin: 0 0.4em 0.5em 0.4em;box-sizing: border-box;padding-bottom: 0.4em;background-color: white;}#sk-container-id-12 div.sk-label label {font-family: monospace;font-weight: bold;display: inline-block;line-height: 1.2em;}#sk-container-id-12 div.sk-label-container {text-align: center;}#sk-container-id-12 div.sk-container {/* jupyter's `normalize.less` sets `[hidden] { display: none; }` but bootstrap.min.css set `[hidden] { display: none !important; }` so we also need the `!important` here to be able to override the default hidden behavior on the sphinx rendered scikit-learn.org. See: https://github.com/scikit-learn/scikit-learn/issues/21755 */display: inline-block !important;position: relative;}#sk-container-id-12 div.sk-text-repr-fallback {display: none;}</style><div id=\"sk-container-id-12\" class=\"sk-top-container\"><div class=\"sk-text-repr-fallback\"><pre>AdaBoostClassifier(estimator=RandomForestClassifier(n_estimators=1000,\n",
       "                                                    n_jobs=-1,\n",
       "                                                    random_state=42),\n",
       "                   learning_rate=0.07, n_estimators=250)</pre><b>In a Jupyter environment, please rerun this cell to show the HTML representation or trust the notebook. <br />On GitHub, the HTML representation is unable to render, please try loading this page with nbviewer.org.</b></div><div class=\"sk-container\" hidden><div class=\"sk-item sk-dashed-wrapped\"><div class=\"sk-label-container\"><div class=\"sk-label sk-toggleable\"><input class=\"sk-toggleable__control sk-hidden--visually\" id=\"sk-estimator-id-22\" type=\"checkbox\" ><label for=\"sk-estimator-id-22\" class=\"sk-toggleable__label sk-toggleable__label-arrow\">AdaBoostClassifier</label><div class=\"sk-toggleable__content\"><pre>AdaBoostClassifier(estimator=RandomForestClassifier(n_estimators=1000,\n",
       "                                                    n_jobs=-1,\n",
       "                                                    random_state=42),\n",
       "                   learning_rate=0.07, n_estimators=250)</pre></div></div></div><div class=\"sk-parallel\"><div class=\"sk-parallel-item\"><div class=\"sk-item\"><div class=\"sk-label-container\"><div class=\"sk-label sk-toggleable\"><input class=\"sk-toggleable__control sk-hidden--visually\" id=\"sk-estimator-id-23\" type=\"checkbox\" ><label for=\"sk-estimator-id-23\" class=\"sk-toggleable__label sk-toggleable__label-arrow\">estimator: RandomForestClassifier</label><div class=\"sk-toggleable__content\"><pre>RandomForestClassifier(n_estimators=1000, n_jobs=-1, random_state=42)</pre></div></div></div><div class=\"sk-serial\"><div class=\"sk-item\"><div class=\"sk-estimator sk-toggleable\"><input class=\"sk-toggleable__control sk-hidden--visually\" id=\"sk-estimator-id-24\" type=\"checkbox\" ><label for=\"sk-estimator-id-24\" class=\"sk-toggleable__label sk-toggleable__label-arrow\">RandomForestClassifier</label><div class=\"sk-toggleable__content\"><pre>RandomForestClassifier(n_estimators=1000, n_jobs=-1, random_state=42)</pre></div></div></div></div></div></div></div></div></div></div>"
      ],
      "text/plain": [
       "AdaBoostClassifier(estimator=RandomForestClassifier(n_estimators=1000,\n",
       "                                                    n_jobs=-1,\n",
       "                                                    random_state=42),\n",
       "                   learning_rate=0.07, n_estimators=250)"
      ]
     },
     "execution_count": 166,
     "metadata": {},
     "output_type": "execute_result"
    }
   ],
   "source": [
    "ada_clf2.fit(X_train, y_train)"
   ]
  },
  {
   "cell_type": "code",
   "execution_count": 167,
   "id": "76d82564",
   "metadata": {},
   "outputs": [
    {
     "data": {
      "text/plain": [
       "0.8203592814371258"
      ]
     },
     "execution_count": 167,
     "metadata": {},
     "output_type": "execute_result"
    }
   ],
   "source": [
    "accuracy_score(y_test, ada_clf2.predict(X_test))"
   ]
  },
  {
   "cell_type": "markdown",
   "id": "230038d5",
   "metadata": {},
   "source": [
    "Here we can see By implementing Ada boost techinque we have improved performance of Random forest classifier to 82.03% from 81.73%"
   ]
  },
  {
   "cell_type": "markdown",
   "id": "79c05a9e",
   "metadata": {},
   "source": [
    "# Gradient boosting"
   ]
  },
  {
   "cell_type": "code",
   "execution_count": 169,
   "id": "d2a21e7e",
   "metadata": {},
   "outputs": [],
   "source": [
    "#importing libraries\n",
    "from sklearn.ensemble import GradientBoostingClassifier"
   ]
  },
  {
   "cell_type": "code",
   "execution_count": 170,
   "id": "dd783ac8",
   "metadata": {},
   "outputs": [
    {
     "data": {
      "text/html": [
       "<style>#sk-container-id-13 {color: black;}#sk-container-id-13 pre{padding: 0;}#sk-container-id-13 div.sk-toggleable {background-color: white;}#sk-container-id-13 label.sk-toggleable__label {cursor: pointer;display: block;width: 100%;margin-bottom: 0;padding: 0.3em;box-sizing: border-box;text-align: center;}#sk-container-id-13 label.sk-toggleable__label-arrow:before {content: \"▸\";float: left;margin-right: 0.25em;color: #696969;}#sk-container-id-13 label.sk-toggleable__label-arrow:hover:before {color: black;}#sk-container-id-13 div.sk-estimator:hover label.sk-toggleable__label-arrow:before {color: black;}#sk-container-id-13 div.sk-toggleable__content {max-height: 0;max-width: 0;overflow: hidden;text-align: left;background-color: #f0f8ff;}#sk-container-id-13 div.sk-toggleable__content pre {margin: 0.2em;color: black;border-radius: 0.25em;background-color: #f0f8ff;}#sk-container-id-13 input.sk-toggleable__control:checked~div.sk-toggleable__content {max-height: 200px;max-width: 100%;overflow: auto;}#sk-container-id-13 input.sk-toggleable__control:checked~label.sk-toggleable__label-arrow:before {content: \"▾\";}#sk-container-id-13 div.sk-estimator input.sk-toggleable__control:checked~label.sk-toggleable__label {background-color: #d4ebff;}#sk-container-id-13 div.sk-label input.sk-toggleable__control:checked~label.sk-toggleable__label {background-color: #d4ebff;}#sk-container-id-13 input.sk-hidden--visually {border: 0;clip: rect(1px 1px 1px 1px);clip: rect(1px, 1px, 1px, 1px);height: 1px;margin: -1px;overflow: hidden;padding: 0;position: absolute;width: 1px;}#sk-container-id-13 div.sk-estimator {font-family: monospace;background-color: #f0f8ff;border: 1px dotted black;border-radius: 0.25em;box-sizing: border-box;margin-bottom: 0.5em;}#sk-container-id-13 div.sk-estimator:hover {background-color: #d4ebff;}#sk-container-id-13 div.sk-parallel-item::after {content: \"\";width: 100%;border-bottom: 1px solid gray;flex-grow: 1;}#sk-container-id-13 div.sk-label:hover label.sk-toggleable__label {background-color: #d4ebff;}#sk-container-id-13 div.sk-serial::before {content: \"\";position: absolute;border-left: 1px solid gray;box-sizing: border-box;top: 0;bottom: 0;left: 50%;z-index: 0;}#sk-container-id-13 div.sk-serial {display: flex;flex-direction: column;align-items: center;background-color: white;padding-right: 0.2em;padding-left: 0.2em;position: relative;}#sk-container-id-13 div.sk-item {position: relative;z-index: 1;}#sk-container-id-13 div.sk-parallel {display: flex;align-items: stretch;justify-content: center;background-color: white;position: relative;}#sk-container-id-13 div.sk-item::before, #sk-container-id-13 div.sk-parallel-item::before {content: \"\";position: absolute;border-left: 1px solid gray;box-sizing: border-box;top: 0;bottom: 0;left: 50%;z-index: -1;}#sk-container-id-13 div.sk-parallel-item {display: flex;flex-direction: column;z-index: 1;position: relative;background-color: white;}#sk-container-id-13 div.sk-parallel-item:first-child::after {align-self: flex-end;width: 50%;}#sk-container-id-13 div.sk-parallel-item:last-child::after {align-self: flex-start;width: 50%;}#sk-container-id-13 div.sk-parallel-item:only-child::after {width: 0;}#sk-container-id-13 div.sk-dashed-wrapped {border: 1px dashed gray;margin: 0 0.4em 0.5em 0.4em;box-sizing: border-box;padding-bottom: 0.4em;background-color: white;}#sk-container-id-13 div.sk-label label {font-family: monospace;font-weight: bold;display: inline-block;line-height: 1.2em;}#sk-container-id-13 div.sk-label-container {text-align: center;}#sk-container-id-13 div.sk-container {/* jupyter's `normalize.less` sets `[hidden] { display: none; }` but bootstrap.min.css set `[hidden] { display: none !important; }` so we also need the `!important` here to be able to override the default hidden behavior on the sphinx rendered scikit-learn.org. See: https://github.com/scikit-learn/scikit-learn/issues/21755 */display: inline-block !important;position: relative;}#sk-container-id-13 div.sk-text-repr-fallback {display: none;}</style><div id=\"sk-container-id-13\" class=\"sk-top-container\"><div class=\"sk-text-repr-fallback\"><pre>GradientBoostingClassifier()</pre><b>In a Jupyter environment, please rerun this cell to show the HTML representation or trust the notebook. <br />On GitHub, the HTML representation is unable to render, please try loading this page with nbviewer.org.</b></div><div class=\"sk-container\" hidden><div class=\"sk-item\"><div class=\"sk-estimator sk-toggleable\"><input class=\"sk-toggleable__control sk-hidden--visually\" id=\"sk-estimator-id-25\" type=\"checkbox\" checked><label for=\"sk-estimator-id-25\" class=\"sk-toggleable__label sk-toggleable__label-arrow\">GradientBoostingClassifier</label><div class=\"sk-toggleable__content\"><pre>GradientBoostingClassifier()</pre></div></div></div></div></div>"
      ],
      "text/plain": [
       "GradientBoostingClassifier()"
      ]
     },
     "execution_count": 170,
     "metadata": {},
     "output_type": "execute_result"
    }
   ],
   "source": [
    "# creating object and training our model\n",
    "gbc_clf = GradientBoostingClassifier()\n",
    "gbc_clf.fit(X_train, y_train)"
   ]
  },
  {
   "cell_type": "code",
   "execution_count": 171,
   "id": "2679af9a",
   "metadata": {},
   "outputs": [
    {
     "data": {
      "text/plain": [
       "0.8278443113772455"
      ]
     },
     "execution_count": 171,
     "metadata": {},
     "output_type": "execute_result"
    }
   ],
   "source": [
    "#checking model performance\n",
    "accuracy_score(y_test, gbc_clf.predict(X_test))"
   ]
  },
  {
   "cell_type": "code",
   "execution_count": 177,
   "id": "5f18d64d",
   "metadata": {},
   "outputs": [
    {
     "data": {
      "text/html": [
       "<style>#sk-container-id-16 {color: black;}#sk-container-id-16 pre{padding: 0;}#sk-container-id-16 div.sk-toggleable {background-color: white;}#sk-container-id-16 label.sk-toggleable__label {cursor: pointer;display: block;width: 100%;margin-bottom: 0;padding: 0.3em;box-sizing: border-box;text-align: center;}#sk-container-id-16 label.sk-toggleable__label-arrow:before {content: \"▸\";float: left;margin-right: 0.25em;color: #696969;}#sk-container-id-16 label.sk-toggleable__label-arrow:hover:before {color: black;}#sk-container-id-16 div.sk-estimator:hover label.sk-toggleable__label-arrow:before {color: black;}#sk-container-id-16 div.sk-toggleable__content {max-height: 0;max-width: 0;overflow: hidden;text-align: left;background-color: #f0f8ff;}#sk-container-id-16 div.sk-toggleable__content pre {margin: 0.2em;color: black;border-radius: 0.25em;background-color: #f0f8ff;}#sk-container-id-16 input.sk-toggleable__control:checked~div.sk-toggleable__content {max-height: 200px;max-width: 100%;overflow: auto;}#sk-container-id-16 input.sk-toggleable__control:checked~label.sk-toggleable__label-arrow:before {content: \"▾\";}#sk-container-id-16 div.sk-estimator input.sk-toggleable__control:checked~label.sk-toggleable__label {background-color: #d4ebff;}#sk-container-id-16 div.sk-label input.sk-toggleable__control:checked~label.sk-toggleable__label {background-color: #d4ebff;}#sk-container-id-16 input.sk-hidden--visually {border: 0;clip: rect(1px 1px 1px 1px);clip: rect(1px, 1px, 1px, 1px);height: 1px;margin: -1px;overflow: hidden;padding: 0;position: absolute;width: 1px;}#sk-container-id-16 div.sk-estimator {font-family: monospace;background-color: #f0f8ff;border: 1px dotted black;border-radius: 0.25em;box-sizing: border-box;margin-bottom: 0.5em;}#sk-container-id-16 div.sk-estimator:hover {background-color: #d4ebff;}#sk-container-id-16 div.sk-parallel-item::after {content: \"\";width: 100%;border-bottom: 1px solid gray;flex-grow: 1;}#sk-container-id-16 div.sk-label:hover label.sk-toggleable__label {background-color: #d4ebff;}#sk-container-id-16 div.sk-serial::before {content: \"\";position: absolute;border-left: 1px solid gray;box-sizing: border-box;top: 0;bottom: 0;left: 50%;z-index: 0;}#sk-container-id-16 div.sk-serial {display: flex;flex-direction: column;align-items: center;background-color: white;padding-right: 0.2em;padding-left: 0.2em;position: relative;}#sk-container-id-16 div.sk-item {position: relative;z-index: 1;}#sk-container-id-16 div.sk-parallel {display: flex;align-items: stretch;justify-content: center;background-color: white;position: relative;}#sk-container-id-16 div.sk-item::before, #sk-container-id-16 div.sk-parallel-item::before {content: \"\";position: absolute;border-left: 1px solid gray;box-sizing: border-box;top: 0;bottom: 0;left: 50%;z-index: -1;}#sk-container-id-16 div.sk-parallel-item {display: flex;flex-direction: column;z-index: 1;position: relative;background-color: white;}#sk-container-id-16 div.sk-parallel-item:first-child::after {align-self: flex-end;width: 50%;}#sk-container-id-16 div.sk-parallel-item:last-child::after {align-self: flex-start;width: 50%;}#sk-container-id-16 div.sk-parallel-item:only-child::after {width: 0;}#sk-container-id-16 div.sk-dashed-wrapped {border: 1px dashed gray;margin: 0 0.4em 0.5em 0.4em;box-sizing: border-box;padding-bottom: 0.4em;background-color: white;}#sk-container-id-16 div.sk-label label {font-family: monospace;font-weight: bold;display: inline-block;line-height: 1.2em;}#sk-container-id-16 div.sk-label-container {text-align: center;}#sk-container-id-16 div.sk-container {/* jupyter's `normalize.less` sets `[hidden] { display: none; }` but bootstrap.min.css set `[hidden] { display: none !important; }` so we also need the `!important` here to be able to override the default hidden behavior on the sphinx rendered scikit-learn.org. See: https://github.com/scikit-learn/scikit-learn/issues/21755 */display: inline-block !important;position: relative;}#sk-container-id-16 div.sk-text-repr-fallback {display: none;}</style><div id=\"sk-container-id-16\" class=\"sk-top-container\"><div class=\"sk-text-repr-fallback\"><pre>GradientBoostingClassifier(learning_rate=0.05, max_depth=2, n_estimators=500)</pre><b>In a Jupyter environment, please rerun this cell to show the HTML representation or trust the notebook. <br />On GitHub, the HTML representation is unable to render, please try loading this page with nbviewer.org.</b></div><div class=\"sk-container\" hidden><div class=\"sk-item\"><div class=\"sk-estimator sk-toggleable\"><input class=\"sk-toggleable__control sk-hidden--visually\" id=\"sk-estimator-id-28\" type=\"checkbox\" checked><label for=\"sk-estimator-id-28\" class=\"sk-toggleable__label sk-toggleable__label-arrow\">GradientBoostingClassifier</label><div class=\"sk-toggleable__content\"><pre>GradientBoostingClassifier(learning_rate=0.05, max_depth=2, n_estimators=500)</pre></div></div></div></div></div>"
      ],
      "text/plain": [
       "GradientBoostingClassifier(learning_rate=0.05, max_depth=2, n_estimators=500)"
      ]
     },
     "execution_count": 177,
     "metadata": {},
     "output_type": "execute_result"
    }
   ],
   "source": [
    "# As we see a slight change giving more parameters to elevate the performance\n",
    "gbc_clf2 = GradientBoostingClassifier(learning_rate =0.05, n_estimators =500, max_depth = 2)\n",
    "gbc_clf2.fit(X_train, y_train)"
   ]
  },
  {
   "cell_type": "code",
   "execution_count": 178,
   "id": "6300058a",
   "metadata": {},
   "outputs": [
    {
     "data": {
      "text/plain": [
       "0.8684900711877107"
      ]
     },
     "execution_count": 178,
     "metadata": {},
     "output_type": "execute_result"
    }
   ],
   "source": [
    "accuracy_score(y_train, gbc_clf2.predict(X_train))"
   ]
  },
  {
   "cell_type": "code",
   "execution_count": 179,
   "id": "cc1ee78f",
   "metadata": {},
   "outputs": [
    {
     "data": {
      "text/plain": [
       "0.8308383233532934"
      ]
     },
     "execution_count": 179,
     "metadata": {},
     "output_type": "execute_result"
    }
   ],
   "source": [
    "accuracy_score(y_test, gbc_clf2.predict(X_test))"
   ]
  },
  {
   "cell_type": "code",
   "execution_count": 192,
   "id": "d029aedf",
   "metadata": {},
   "outputs": [
    {
     "data": {
      "text/html": [
       "<style>#sk-container-id-21 {color: black;}#sk-container-id-21 pre{padding: 0;}#sk-container-id-21 div.sk-toggleable {background-color: white;}#sk-container-id-21 label.sk-toggleable__label {cursor: pointer;display: block;width: 100%;margin-bottom: 0;padding: 0.3em;box-sizing: border-box;text-align: center;}#sk-container-id-21 label.sk-toggleable__label-arrow:before {content: \"▸\";float: left;margin-right: 0.25em;color: #696969;}#sk-container-id-21 label.sk-toggleable__label-arrow:hover:before {color: black;}#sk-container-id-21 div.sk-estimator:hover label.sk-toggleable__label-arrow:before {color: black;}#sk-container-id-21 div.sk-toggleable__content {max-height: 0;max-width: 0;overflow: hidden;text-align: left;background-color: #f0f8ff;}#sk-container-id-21 div.sk-toggleable__content pre {margin: 0.2em;color: black;border-radius: 0.25em;background-color: #f0f8ff;}#sk-container-id-21 input.sk-toggleable__control:checked~div.sk-toggleable__content {max-height: 200px;max-width: 100%;overflow: auto;}#sk-container-id-21 input.sk-toggleable__control:checked~label.sk-toggleable__label-arrow:before {content: \"▾\";}#sk-container-id-21 div.sk-estimator input.sk-toggleable__control:checked~label.sk-toggleable__label {background-color: #d4ebff;}#sk-container-id-21 div.sk-label input.sk-toggleable__control:checked~label.sk-toggleable__label {background-color: #d4ebff;}#sk-container-id-21 input.sk-hidden--visually {border: 0;clip: rect(1px 1px 1px 1px);clip: rect(1px, 1px, 1px, 1px);height: 1px;margin: -1px;overflow: hidden;padding: 0;position: absolute;width: 1px;}#sk-container-id-21 div.sk-estimator {font-family: monospace;background-color: #f0f8ff;border: 1px dotted black;border-radius: 0.25em;box-sizing: border-box;margin-bottom: 0.5em;}#sk-container-id-21 div.sk-estimator:hover {background-color: #d4ebff;}#sk-container-id-21 div.sk-parallel-item::after {content: \"\";width: 100%;border-bottom: 1px solid gray;flex-grow: 1;}#sk-container-id-21 div.sk-label:hover label.sk-toggleable__label {background-color: #d4ebff;}#sk-container-id-21 div.sk-serial::before {content: \"\";position: absolute;border-left: 1px solid gray;box-sizing: border-box;top: 0;bottom: 0;left: 50%;z-index: 0;}#sk-container-id-21 div.sk-serial {display: flex;flex-direction: column;align-items: center;background-color: white;padding-right: 0.2em;padding-left: 0.2em;position: relative;}#sk-container-id-21 div.sk-item {position: relative;z-index: 1;}#sk-container-id-21 div.sk-parallel {display: flex;align-items: stretch;justify-content: center;background-color: white;position: relative;}#sk-container-id-21 div.sk-item::before, #sk-container-id-21 div.sk-parallel-item::before {content: \"\";position: absolute;border-left: 1px solid gray;box-sizing: border-box;top: 0;bottom: 0;left: 50%;z-index: -1;}#sk-container-id-21 div.sk-parallel-item {display: flex;flex-direction: column;z-index: 1;position: relative;background-color: white;}#sk-container-id-21 div.sk-parallel-item:first-child::after {align-self: flex-end;width: 50%;}#sk-container-id-21 div.sk-parallel-item:last-child::after {align-self: flex-start;width: 50%;}#sk-container-id-21 div.sk-parallel-item:only-child::after {width: 0;}#sk-container-id-21 div.sk-dashed-wrapped {border: 1px dashed gray;margin: 0 0.4em 0.5em 0.4em;box-sizing: border-box;padding-bottom: 0.4em;background-color: white;}#sk-container-id-21 div.sk-label label {font-family: monospace;font-weight: bold;display: inline-block;line-height: 1.2em;}#sk-container-id-21 div.sk-label-container {text-align: center;}#sk-container-id-21 div.sk-container {/* jupyter's `normalize.less` sets `[hidden] { display: none; }` but bootstrap.min.css set `[hidden] { display: none !important; }` so we also need the `!important` here to be able to override the default hidden behavior on the sphinx rendered scikit-learn.org. See: https://github.com/scikit-learn/scikit-learn/issues/21755 */display: inline-block !important;position: relative;}#sk-container-id-21 div.sk-text-repr-fallback {display: none;}</style><div id=\"sk-container-id-21\" class=\"sk-top-container\"><div class=\"sk-text-repr-fallback\"><pre>GradientBoostingClassifier(learning_rate=0.05, n_estimators=500)</pre><b>In a Jupyter environment, please rerun this cell to show the HTML representation or trust the notebook. <br />On GitHub, the HTML representation is unable to render, please try loading this page with nbviewer.org.</b></div><div class=\"sk-container\" hidden><div class=\"sk-item\"><div class=\"sk-estimator sk-toggleable\"><input class=\"sk-toggleable__control sk-hidden--visually\" id=\"sk-estimator-id-33\" type=\"checkbox\" checked><label for=\"sk-estimator-id-33\" class=\"sk-toggleable__label sk-toggleable__label-arrow\">GradientBoostingClassifier</label><div class=\"sk-toggleable__content\"><pre>GradientBoostingClassifier(learning_rate=0.05, n_estimators=500)</pre></div></div></div></div></div>"
      ],
      "text/plain": [
       "GradientBoostingClassifier(learning_rate=0.05, n_estimators=500)"
      ]
     },
     "execution_count": 192,
     "metadata": {},
     "output_type": "execute_result"
    }
   ],
   "source": [
    "# As we see a slight change, we will make changes in  parameter values to elevate the performance further\n",
    "gbc_clf3 = GradientBoostingClassifier(learning_rate =0.05, n_estimators =500, max_depth = 3)\n",
    "gbc_clf3.fit(X_train, y_train)"
   ]
  },
  {
   "cell_type": "code",
   "execution_count": 193,
   "id": "21d38d50",
   "metadata": {},
   "outputs": [
    {
     "data": {
      "text/plain": [
       "0.9085799925065567"
      ]
     },
     "execution_count": 193,
     "metadata": {},
     "output_type": "execute_result"
    }
   ],
   "source": [
    "# Checking model performance\n",
    "accuracy_score(y_train, gbc_clf3.predict(X_train))"
   ]
  },
  {
   "cell_type": "code",
   "execution_count": 194,
   "id": "90f8b1c0",
   "metadata": {},
   "outputs": [
    {
     "data": {
      "text/plain": [
       "0.8263473053892215"
      ]
     },
     "execution_count": 194,
     "metadata": {},
     "output_type": "execute_result"
    }
   ],
   "source": [
    "accuracy_score(y_test, gbc_clf3.predict(X_test))"
   ]
  },
  {
   "cell_type": "markdown",
   "id": "c8b17ec2",
   "metadata": {},
   "source": [
    "After studying 2-3 parameter values we can see the performance of model is increased to 82.63% from simple random forest 81.73%"
   ]
  },
  {
   "cell_type": "markdown",
   "id": "0b2b9a2d",
   "metadata": {},
   "source": [
    "# XG Boost"
   ]
  },
  {
   "cell_type": "code",
   "execution_count": 195,
   "id": "81078f32",
   "metadata": {},
   "outputs": [
    {
     "name": "stdout",
     "output_type": "stream",
     "text": [
      "Defaulting to user installation because normal site-packages is not writeableNote: you may need to restart the kernel to use updated packages.\n",
      "\n",
      "Collecting xgboost\n",
      "  Obtaining dependency information for xgboost from https://files.pythonhosted.org/packages/24/ec/ad387100fa3cc2b9b81af0829b5ecfe75ec5bb19dd7c19d4fea06fb81802/xgboost-2.0.3-py3-none-win_amd64.whl.metadata\n",
      "  Downloading xgboost-2.0.3-py3-none-win_amd64.whl.metadata (2.0 kB)\n",
      "Requirement already satisfied: numpy in d:\\anaconda_python\\lib\\site-packages (from xgboost) (1.24.3)\n",
      "Requirement already satisfied: scipy in d:\\anaconda_python\\lib\\site-packages (from xgboost) (1.11.1)\n",
      "Downloading xgboost-2.0.3-py3-none-win_amd64.whl (99.8 MB)\n",
      "   ---------------------------------------- 0.0/99.8 MB ? eta -:--:--\n",
      "   ---------------------------------------- 0.0/99.8 MB ? eta -:--:--\n",
      "   ---------------------------------------- 0.0/99.8 MB ? eta -:--:--\n",
      "   ---------------------------------------- 0.0/99.8 MB 435.7 kB/s eta 0:03:49\n",
      "   ---------------------------------------- 0.0/99.8 MB 326.8 kB/s eta 0:05:06\n",
      "   ---------------------------------------- 0.1/99.8 MB 573.4 kB/s eta 0:02:54\n",
      "   ---------------------------------------- 0.1/99.8 MB 654.9 kB/s eta 0:02:33\n",
      "   ---------------------------------------- 0.2/99.8 MB 841.6 kB/s eta 0:01:59\n",
      "   ---------------------------------------- 0.2/99.8 MB 942.1 kB/s eta 0:01:46\n",
      "   ---------------------------------------- 0.3/99.8 MB 951.8 kB/s eta 0:01:45\n",
      "   ---------------------------------------- 0.4/99.8 MB 1.0 MB/s eta 0:01:36\n",
      "   ---------------------------------------- 0.4/99.8 MB 1.1 MB/s eta 0:01:27\n",
      "   ---------------------------------------- 0.5/99.8 MB 1.1 MB/s eta 0:01:29\n",
      "   ---------------------------------------- 0.6/99.8 MB 1.2 MB/s eta 0:01:22\n",
      "   ---------------------------------------- 0.7/99.8 MB 1.3 MB/s eta 0:01:18\n",
      "   ---------------------------------------- 0.7/99.8 MB 1.3 MB/s eta 0:01:14\n",
      "   ---------------------------------------- 0.8/99.8 MB 1.4 MB/s eta 0:01:11\n",
      "   ---------------------------------------- 0.9/99.8 MB 1.4 MB/s eta 0:01:09\n",
      "   ---------------------------------------- 1.0/99.8 MB 1.5 MB/s eta 0:01:05\n",
      "   ---------------------------------------- 1.1/99.8 MB 1.5 MB/s eta 0:01:05\n",
      "    --------------------------------------- 1.2/99.8 MB 1.7 MB/s eta 0:01:00\n",
      "    --------------------------------------- 1.3/99.8 MB 1.7 MB/s eta 0:01:00\n",
      "    --------------------------------------- 1.4/99.8 MB 1.7 MB/s eta 0:01:00\n",
      "    --------------------------------------- 1.5/99.8 MB 1.7 MB/s eta 0:00:59\n",
      "    --------------------------------------- 1.6/99.8 MB 1.7 MB/s eta 0:00:58\n",
      "    --------------------------------------- 1.7/99.8 MB 1.7 MB/s eta 0:00:58\n",
      "    --------------------------------------- 1.8/99.8 MB 1.8 MB/s eta 0:00:55\n",
      "    --------------------------------------- 1.9/99.8 MB 1.8 MB/s eta 0:00:54\n",
      "    --------------------------------------- 2.1/99.8 MB 1.9 MB/s eta 0:00:52\n",
      "    --------------------------------------- 2.2/99.8 MB 2.0 MB/s eta 0:00:50\n",
      "    --------------------------------------- 2.4/99.8 MB 2.0 MB/s eta 0:00:48\n",
      "   - -------------------------------------- 2.5/99.8 MB 2.1 MB/s eta 0:00:47\n",
      "   - -------------------------------------- 2.7/99.8 MB 2.1 MB/s eta 0:00:46\n",
      "   - -------------------------------------- 2.8/99.8 MB 2.1 MB/s eta 0:00:46\n",
      "   - -------------------------------------- 3.0/99.8 MB 2.2 MB/s eta 0:00:44\n",
      "   - -------------------------------------- 3.1/99.8 MB 2.2 MB/s eta 0:00:44\n",
      "   - -------------------------------------- 3.3/99.8 MB 2.3 MB/s eta 0:00:43\n",
      "   - -------------------------------------- 3.4/99.8 MB 2.3 MB/s eta 0:00:42\n",
      "   - -------------------------------------- 3.6/99.8 MB 2.4 MB/s eta 0:00:41\n",
      "   - -------------------------------------- 3.8/99.8 MB 2.4 MB/s eta 0:00:40\n",
      "   - -------------------------------------- 3.9/99.8 MB 2.5 MB/s eta 0:00:39\n",
      "   - -------------------------------------- 4.1/99.8 MB 2.5 MB/s eta 0:00:39\n",
      "   - -------------------------------------- 4.3/99.8 MB 2.6 MB/s eta 0:00:37\n",
      "   - -------------------------------------- 4.6/99.8 MB 2.7 MB/s eta 0:00:36\n",
      "   - -------------------------------------- 4.8/99.8 MB 2.7 MB/s eta 0:00:35\n",
      "   -- ------------------------------------- 5.1/99.8 MB 2.8 MB/s eta 0:00:34\n",
      "   -- ------------------------------------- 5.3/99.8 MB 2.9 MB/s eta 0:00:33\n",
      "   -- ------------------------------------- 5.5/99.8 MB 2.9 MB/s eta 0:00:33\n",
      "   -- ------------------------------------- 5.5/99.8 MB 2.9 MB/s eta 0:00:33\n",
      "   -- ------------------------------------- 5.7/99.8 MB 2.9 MB/s eta 0:00:33\n",
      "   -- ------------------------------------- 6.1/99.8 MB 3.0 MB/s eta 0:00:32\n",
      "   -- ------------------------------------- 6.4/99.8 MB 3.0 MB/s eta 0:00:31\n",
      "   -- ------------------------------------- 6.7/99.8 MB 3.1 MB/s eta 0:00:30\n",
      "   -- ------------------------------------- 6.9/99.8 MB 3.1 MB/s eta 0:00:30\n",
      "   -- ------------------------------------- 7.3/99.8 MB 3.2 MB/s eta 0:00:29\n",
      "   --- ------------------------------------ 7.7/99.8 MB 3.3 MB/s eta 0:00:28\n",
      "   --- ------------------------------------ 8.0/99.8 MB 3.4 MB/s eta 0:00:28\n",
      "   --- ------------------------------------ 8.1/99.8 MB 3.4 MB/s eta 0:00:28\n",
      "   --- ------------------------------------ 8.5/99.8 MB 3.5 MB/s eta 0:00:27\n",
      "   --- ------------------------------------ 8.8/99.8 MB 3.5 MB/s eta 0:00:26\n",
      "   --- ------------------------------------ 9.2/99.8 MB 3.6 MB/s eta 0:00:26\n",
      "   --- ------------------------------------ 9.7/99.8 MB 3.7 MB/s eta 0:00:25\n",
      "   ---- ----------------------------------- 10.1/99.8 MB 3.7 MB/s eta 0:00:24\n",
      "   ---- ----------------------------------- 10.4/99.8 MB 4.0 MB/s eta 0:00:23\n",
      "   ---- ----------------------------------- 10.7/99.8 MB 4.3 MB/s eta 0:00:21\n",
      "   ---- ----------------------------------- 11.0/99.8 MB 4.5 MB/s eta 0:00:20\n",
      "   ---- ----------------------------------- 11.3/99.8 MB 4.7 MB/s eta 0:00:19\n",
      "   ---- ----------------------------------- 11.6/99.8 MB 5.0 MB/s eta 0:00:18\n",
      "   ---- ----------------------------------- 11.9/99.8 MB 5.2 MB/s eta 0:00:18\n",
      "   ---- ----------------------------------- 12.2/99.8 MB 5.3 MB/s eta 0:00:17\n",
      "   ----- ---------------------------------- 12.5/99.8 MB 5.4 MB/s eta 0:00:17\n",
      "   ----- ---------------------------------- 12.7/99.8 MB 5.5 MB/s eta 0:00:16\n",
      "   ----- ---------------------------------- 12.9/99.8 MB 5.5 MB/s eta 0:00:16\n",
      "   ----- ---------------------------------- 13.2/99.8 MB 5.6 MB/s eta 0:00:16\n",
      "   ----- ---------------------------------- 13.3/99.8 MB 5.6 MB/s eta 0:00:16\n",
      "   ----- ---------------------------------- 13.6/99.8 MB 5.7 MB/s eta 0:00:15\n",
      "   ----- ---------------------------------- 14.0/99.8 MB 5.8 MB/s eta 0:00:15\n",
      "   ----- ---------------------------------- 14.2/99.8 MB 5.8 MB/s eta 0:00:15\n",
      "   ----- ---------------------------------- 14.4/99.8 MB 5.9 MB/s eta 0:00:15\n",
      "   ----- ---------------------------------- 14.6/99.8 MB 5.9 MB/s eta 0:00:15\n",
      "   ----- ---------------------------------- 14.9/99.8 MB 5.9 MB/s eta 0:00:15\n",
      "   ------ --------------------------------- 15.2/99.8 MB 5.9 MB/s eta 0:00:15\n",
      "   ------ --------------------------------- 15.5/99.8 MB 6.0 MB/s eta 0:00:15\n",
      "   ------ --------------------------------- 15.8/99.8 MB 6.2 MB/s eta 0:00:14\n",
      "   ------ --------------------------------- 16.0/99.8 MB 6.2 MB/s eta 0:00:14\n",
      "   ------ --------------------------------- 16.4/99.8 MB 6.3 MB/s eta 0:00:14\n",
      "   ------ --------------------------------- 16.6/99.8 MB 6.3 MB/s eta 0:00:14\n",
      "   ------ --------------------------------- 16.9/99.8 MB 6.4 MB/s eta 0:00:14\n",
      "   ------ --------------------------------- 17.2/99.8 MB 6.5 MB/s eta 0:00:13\n",
      "   ------- -------------------------------- 17.5/99.8 MB 6.4 MB/s eta 0:00:13\n",
      "   ------- -------------------------------- 17.8/99.8 MB 6.5 MB/s eta 0:00:13\n",
      "   ------- -------------------------------- 18.2/99.8 MB 6.7 MB/s eta 0:00:13\n",
      "   ------- -------------------------------- 18.6/99.8 MB 6.7 MB/s eta 0:00:13\n",
      "   ------- -------------------------------- 18.8/99.8 MB 6.6 MB/s eta 0:00:13\n",
      "   ------- -------------------------------- 19.1/99.8 MB 6.6 MB/s eta 0:00:13\n",
      "   ------- -------------------------------- 19.4/99.8 MB 6.7 MB/s eta 0:00:13\n",
      "   ------- -------------------------------- 19.7/99.8 MB 6.6 MB/s eta 0:00:13\n",
      "   -------- ------------------------------- 20.0/99.8 MB 6.7 MB/s eta 0:00:12\n",
      "   -------- ------------------------------- 20.3/99.8 MB 6.7 MB/s eta 0:00:12\n",
      "   -------- ------------------------------- 20.6/99.8 MB 6.6 MB/s eta 0:00:12\n",
      "   -------- ------------------------------- 20.9/99.8 MB 6.7 MB/s eta 0:00:12\n",
      "   -------- ------------------------------- 21.2/99.8 MB 6.7 MB/s eta 0:00:12\n",
      "   -------- ------------------------------- 21.5/99.8 MB 6.6 MB/s eta 0:00:12\n",
      "   -------- ------------------------------- 21.8/99.8 MB 6.7 MB/s eta 0:00:12\n",
      "   -------- ------------------------------- 22.0/99.8 MB 6.7 MB/s eta 0:00:12\n",
      "   -------- ------------------------------- 22.3/99.8 MB 6.7 MB/s eta 0:00:12\n",
      "   --------- ------------------------------ 22.6/99.8 MB 6.7 MB/s eta 0:00:12\n",
      "   --------- ------------------------------ 22.9/99.8 MB 6.7 MB/s eta 0:00:12\n",
      "   --------- ------------------------------ 23.2/99.8 MB 6.8 MB/s eta 0:00:12\n",
      "   --------- ------------------------------ 23.4/99.8 MB 6.8 MB/s eta 0:00:12\n",
      "   --------- ------------------------------ 23.7/99.8 MB 6.8 MB/s eta 0:00:12\n",
      "   --------- ------------------------------ 24.0/99.8 MB 6.8 MB/s eta 0:00:12\n",
      "   --------- ------------------------------ 24.3/99.8 MB 6.9 MB/s eta 0:00:11\n",
      "   --------- ------------------------------ 24.6/99.8 MB 7.0 MB/s eta 0:00:11\n",
      "   --------- ------------------------------ 24.8/99.8 MB 7.0 MB/s eta 0:00:11\n",
      "   ---------- ----------------------------- 25.2/99.8 MB 7.0 MB/s eta 0:00:11\n",
      "   ---------- ----------------------------- 25.3/99.8 MB 6.8 MB/s eta 0:00:11\n",
      "   ---------- ----------------------------- 25.6/99.8 MB 7.0 MB/s eta 0:00:11\n",
      "   ---------- ----------------------------- 25.9/99.8 MB 6.9 MB/s eta 0:00:11\n",
      "   ---------- ----------------------------- 26.2/99.8 MB 7.0 MB/s eta 0:00:11\n",
      "   ---------- ----------------------------- 26.5/99.8 MB 7.0 MB/s eta 0:00:11\n",
      "   ---------- ----------------------------- 26.7/99.8 MB 6.9 MB/s eta 0:00:11\n",
      "   ---------- ----------------------------- 27.0/99.8 MB 6.9 MB/s eta 0:00:11\n",
      "   ---------- ----------------------------- 27.2/99.8 MB 6.8 MB/s eta 0:00:11\n",
      "   ----------- ---------------------------- 27.5/99.8 MB 6.8 MB/s eta 0:00:11\n",
      "   ----------- ---------------------------- 27.9/99.8 MB 6.8 MB/s eta 0:00:11\n",
      "   ----------- ---------------------------- 28.2/99.8 MB 6.8 MB/s eta 0:00:11\n",
      "   ----------- ---------------------------- 28.4/99.8 MB 6.8 MB/s eta 0:00:11\n",
      "   ----------- ---------------------------- 28.6/99.8 MB 6.8 MB/s eta 0:00:11\n",
      "   ----------- ---------------------------- 28.8/99.8 MB 6.8 MB/s eta 0:00:11\n",
      "   ----------- ---------------------------- 29.0/99.8 MB 6.7 MB/s eta 0:00:11\n",
      "   ----------- ---------------------------- 29.3/99.8 MB 6.6 MB/s eta 0:00:11\n",
      "   ----------- ---------------------------- 29.6/99.8 MB 6.6 MB/s eta 0:00:11\n",
      "   ----------- ---------------------------- 29.8/99.8 MB 6.5 MB/s eta 0:00:11\n",
      "   ------------ --------------------------- 29.9/99.8 MB 6.6 MB/s eta 0:00:11\n",
      "   ------------ --------------------------- 29.9/99.8 MB 6.6 MB/s eta 0:00:11\n",
      "   ------------ --------------------------- 30.0/99.8 MB 6.2 MB/s eta 0:00:12\n",
      "   ------------ --------------------------- 30.3/99.8 MB 6.2 MB/s eta 0:00:12\n",
      "   ------------ --------------------------- 30.5/99.8 MB 6.2 MB/s eta 0:00:12\n",
      "   ------------ --------------------------- 30.8/99.8 MB 6.2 MB/s eta 0:00:12\n",
      "   ------------ --------------------------- 31.0/99.8 MB 6.1 MB/s eta 0:00:12\n",
      "   ------------ --------------------------- 31.3/99.8 MB 6.1 MB/s eta 0:00:12\n",
      "   ------------ --------------------------- 31.5/99.8 MB 6.1 MB/s eta 0:00:12\n",
      "   ------------ --------------------------- 31.7/99.8 MB 6.0 MB/s eta 0:00:12\n",
      "   ------------ --------------------------- 31.9/99.8 MB 6.0 MB/s eta 0:00:12\n",
      "   ------------ --------------------------- 32.1/99.8 MB 6.0 MB/s eta 0:00:12\n",
      "   ------------- -------------------------- 32.5/99.8 MB 5.9 MB/s eta 0:00:12\n",
      "   ------------- -------------------------- 32.8/99.8 MB 5.8 MB/s eta 0:00:12\n",
      "   ------------- -------------------------- 33.1/99.8 MB 5.8 MB/s eta 0:00:12\n",
      "   ------------- -------------------------- 33.4/99.8 MB 5.8 MB/s eta 0:00:12\n",
      "   ------------- -------------------------- 33.6/99.8 MB 5.8 MB/s eta 0:00:12\n",
      "   ------------- -------------------------- 33.9/99.8 MB 5.9 MB/s eta 0:00:12\n",
      "   ------------- -------------------------- 34.1/99.8 MB 5.8 MB/s eta 0:00:12\n",
      "   ------------- -------------------------- 34.3/99.8 MB 5.8 MB/s eta 0:00:12\n",
      "   ------------- -------------------------- 34.6/99.8 MB 5.8 MB/s eta 0:00:12\n",
      "   ------------- -------------------------- 34.8/99.8 MB 5.7 MB/s eta 0:00:12\n",
      "   -------------- ------------------------- 35.1/99.8 MB 5.7 MB/s eta 0:00:12\n",
      "   -------------- ------------------------- 35.3/99.8 MB 5.7 MB/s eta 0:00:12\n",
      "   -------------- ------------------------- 35.5/99.8 MB 5.6 MB/s eta 0:00:12\n",
      "   -------------- ------------------------- 35.7/99.8 MB 5.7 MB/s eta 0:00:12\n",
      "   -------------- ------------------------- 35.9/99.8 MB 5.7 MB/s eta 0:00:12\n",
      "   -------------- ------------------------- 36.2/99.8 MB 5.6 MB/s eta 0:00:12\n",
      "   -------------- ------------------------- 36.4/99.8 MB 5.6 MB/s eta 0:00:12\n",
      "   -------------- ------------------------- 36.6/99.8 MB 5.6 MB/s eta 0:00:12\n",
      "   -------------- ------------------------- 36.8/99.8 MB 5.5 MB/s eta 0:00:12\n",
      "   -------------- ------------------------- 37.0/99.8 MB 5.5 MB/s eta 0:00:12\n",
      "   -------------- ------------------------- 37.3/99.8 MB 5.5 MB/s eta 0:00:12\n",
      "   -------------- ------------------------- 37.4/99.8 MB 5.5 MB/s eta 0:00:12\n",
      "   --------------- ------------------------ 37.7/99.8 MB 5.5 MB/s eta 0:00:12\n",
      "   --------------- ------------------------ 37.9/99.8 MB 5.5 MB/s eta 0:00:12\n",
      "   --------------- ------------------------ 38.1/99.8 MB 5.5 MB/s eta 0:00:12\n",
      "   --------------- ------------------------ 38.4/99.8 MB 5.4 MB/s eta 0:00:12\n",
      "   --------------- ------------------------ 38.6/99.8 MB 5.4 MB/s eta 0:00:12\n",
      "   --------------- ------------------------ 38.9/99.8 MB 5.5 MB/s eta 0:00:12\n",
      "   --------------- ------------------------ 39.1/99.8 MB 5.5 MB/s eta 0:00:12\n",
      "   --------------- ------------------------ 39.4/99.8 MB 5.5 MB/s eta 0:00:12\n",
      "   --------------- ------------------------ 39.6/99.8 MB 5.4 MB/s eta 0:00:12\n",
      "   --------------- ------------------------ 39.8/99.8 MB 5.4 MB/s eta 0:00:12\n",
      "   ---------------- ----------------------- 40.0/99.8 MB 5.4 MB/s eta 0:00:12\n",
      "   ---------------- ----------------------- 40.3/99.8 MB 5.6 MB/s eta 0:00:11\n",
      "   ---------------- ----------------------- 40.5/99.8 MB 5.7 MB/s eta 0:00:11\n",
      "   ---------------- ----------------------- 40.8/99.8 MB 5.7 MB/s eta 0:00:11\n",
      "   ---------------- ----------------------- 41.0/99.8 MB 5.7 MB/s eta 0:00:11\n",
      "   ---------------- ----------------------- 41.2/99.8 MB 5.6 MB/s eta 0:00:11\n",
      "   ---------------- ----------------------- 41.4/99.8 MB 5.6 MB/s eta 0:00:11\n",
      "   ---------------- ----------------------- 41.6/99.8 MB 5.7 MB/s eta 0:00:11\n",
      "   ---------------- ----------------------- 41.9/99.8 MB 5.7 MB/s eta 0:00:11\n",
      "   ---------------- ----------------------- 42.1/99.8 MB 5.7 MB/s eta 0:00:11\n",
      "   ---------------- ----------------------- 42.4/99.8 MB 5.7 MB/s eta 0:00:11\n",
      "   ----------------- ---------------------- 42.5/99.8 MB 5.7 MB/s eta 0:00:11\n",
      "   ----------------- ---------------------- 42.8/99.8 MB 5.6 MB/s eta 0:00:11\n",
      "   ----------------- ---------------------- 43.1/99.8 MB 5.7 MB/s eta 0:00:10\n",
      "   ----------------- ---------------------- 43.3/99.8 MB 5.7 MB/s eta 0:00:10\n",
      "   ----------------- ---------------------- 43.6/99.8 MB 5.7 MB/s eta 0:00:10\n",
      "   ----------------- ---------------------- 43.8/99.8 MB 5.6 MB/s eta 0:00:10\n",
      "   ----------------- ---------------------- 44.0/99.8 MB 5.6 MB/s eta 0:00:10\n",
      "   ----------------- ---------------------- 44.3/99.8 MB 5.7 MB/s eta 0:00:10\n",
      "   ----------------- ---------------------- 44.6/99.8 MB 5.7 MB/s eta 0:00:10\n",
      "   ----------------- ---------------------- 44.9/99.8 MB 5.7 MB/s eta 0:00:10\n",
      "   ------------------ --------------------- 45.1/99.8 MB 5.6 MB/s eta 0:00:10\n",
      "   ------------------ --------------------- 45.4/99.8 MB 5.7 MB/s eta 0:00:10\n",
      "   ------------------ --------------------- 45.6/99.8 MB 5.6 MB/s eta 0:00:10\n",
      "   ------------------ --------------------- 45.8/99.8 MB 5.6 MB/s eta 0:00:10\n",
      "   ------------------ --------------------- 46.1/99.8 MB 5.7 MB/s eta 0:00:10\n",
      "   ------------------ --------------------- 46.3/99.8 MB 5.7 MB/s eta 0:00:10\n",
      "   ------------------ --------------------- 46.6/99.8 MB 5.7 MB/s eta 0:00:10\n",
      "   ------------------ --------------------- 46.8/99.8 MB 5.7 MB/s eta 0:00:10\n",
      "   ------------------ --------------------- 47.0/99.8 MB 5.7 MB/s eta 0:00:10\n",
      "   ------------------ --------------------- 47.2/99.8 MB 5.6 MB/s eta 0:00:10\n",
      "   ------------------- -------------------- 47.4/99.8 MB 5.7 MB/s eta 0:00:10\n",
      "   ------------------- -------------------- 47.7/99.8 MB 5.7 MB/s eta 0:00:10\n",
      "   ------------------- -------------------- 47.9/99.8 MB 5.7 MB/s eta 0:00:10\n",
      "   ------------------- -------------------- 48.1/99.8 MB 5.7 MB/s eta 0:00:10\n",
      "   ------------------- -------------------- 48.4/99.8 MB 5.7 MB/s eta 0:00:10\n",
      "   ------------------- -------------------- 48.6/99.8 MB 5.7 MB/s eta 0:00:09\n",
      "   ------------------- -------------------- 48.8/99.8 MB 5.7 MB/s eta 0:00:09\n",
      "   ------------------- -------------------- 49.0/99.8 MB 5.7 MB/s eta 0:00:09\n",
      "   ------------------- -------------------- 49.3/99.8 MB 5.7 MB/s eta 0:00:09\n",
      "   ------------------- -------------------- 49.5/99.8 MB 5.6 MB/s eta 0:00:09\n",
      "   ------------------- -------------------- 49.8/99.8 MB 5.7 MB/s eta 0:00:09\n",
      "   -------------------- ------------------- 50.1/99.8 MB 5.7 MB/s eta 0:00:09\n",
      "   -------------------- ------------------- 50.3/99.8 MB 5.7 MB/s eta 0:00:09\n",
      "   -------------------- ------------------- 50.6/99.8 MB 5.7 MB/s eta 0:00:09\n",
      "   -------------------- ------------------- 50.8/99.8 MB 5.7 MB/s eta 0:00:09\n",
      "   -------------------- ------------------- 51.0/99.8 MB 5.7 MB/s eta 0:00:09\n",
      "   -------------------- ------------------- 51.3/99.8 MB 5.7 MB/s eta 0:00:09\n",
      "   -------------------- ------------------- 51.5/99.8 MB 5.7 MB/s eta 0:00:09\n",
      "   -------------------- ------------------- 51.8/99.8 MB 5.7 MB/s eta 0:00:09\n",
      "   -------------------- ------------------- 52.0/99.8 MB 5.7 MB/s eta 0:00:09\n",
      "   -------------------- ------------------- 52.3/99.8 MB 5.7 MB/s eta 0:00:09\n",
      "   --------------------- ------------------ 52.5/99.8 MB 5.7 MB/s eta 0:00:09\n",
      "   --------------------- ------------------ 52.7/99.8 MB 5.7 MB/s eta 0:00:09\n",
      "   --------------------- ------------------ 53.0/99.8 MB 5.7 MB/s eta 0:00:09\n",
      "   --------------------- ------------------ 53.2/99.8 MB 5.7 MB/s eta 0:00:09\n",
      "   --------------------- ------------------ 53.5/99.8 MB 5.7 MB/s eta 0:00:09\n",
      "   --------------------- ------------------ 53.7/99.8 MB 5.7 MB/s eta 0:00:09\n",
      "   --------------------- ------------------ 53.9/99.8 MB 5.7 MB/s eta 0:00:09\n",
      "   --------------------- ------------------ 54.2/99.8 MB 5.7 MB/s eta 0:00:08\n",
      "   --------------------- ------------------ 54.5/99.8 MB 5.7 MB/s eta 0:00:08\n",
      "   --------------------- ------------------ 54.6/99.8 MB 5.7 MB/s eta 0:00:08\n",
      "   ---------------------- ----------------- 54.9/99.8 MB 5.7 MB/s eta 0:00:08\n",
      "   ---------------------- ----------------- 55.1/99.8 MB 5.6 MB/s eta 0:00:08\n",
      "   ---------------------- ----------------- 55.3/99.8 MB 5.7 MB/s eta 0:00:08\n",
      "   ---------------------- ----------------- 55.6/99.8 MB 5.7 MB/s eta 0:00:08\n",
      "   ---------------------- ----------------- 55.9/99.8 MB 5.7 MB/s eta 0:00:08\n",
      "   ---------------------- ----------------- 56.2/99.8 MB 5.7 MB/s eta 0:00:08\n",
      "   ---------------------- ----------------- 56.4/99.8 MB 5.7 MB/s eta 0:00:08\n",
      "   ---------------------- ----------------- 56.7/99.8 MB 5.7 MB/s eta 0:00:08\n",
      "   ---------------------- ----------------- 56.9/99.8 MB 5.7 MB/s eta 0:00:08\n",
      "   ---------------------- ----------------- 57.2/99.8 MB 5.7 MB/s eta 0:00:08\n",
      "   ----------------------- ---------------- 57.4/99.8 MB 5.8 MB/s eta 0:00:08\n",
      "   ----------------------- ---------------- 57.7/99.8 MB 5.8 MB/s eta 0:00:08\n",
      "   ----------------------- ---------------- 57.9/99.8 MB 5.7 MB/s eta 0:00:08\n",
      "   ----------------------- ---------------- 58.1/99.8 MB 5.8 MB/s eta 0:00:08\n",
      "   ----------------------- ---------------- 58.4/99.8 MB 5.8 MB/s eta 0:00:08\n",
      "   ----------------------- ---------------- 58.6/99.8 MB 5.7 MB/s eta 0:00:08\n",
      "   ----------------------- ---------------- 58.9/99.8 MB 5.8 MB/s eta 0:00:07\n",
      "   ----------------------- ---------------- 59.1/99.8 MB 5.8 MB/s eta 0:00:08\n",
      "   ----------------------- ---------------- 59.4/99.8 MB 5.8 MB/s eta 0:00:07\n",
      "   ----------------------- ---------------- 59.6/99.8 MB 5.8 MB/s eta 0:00:07\n",
      "   ------------------------ --------------- 59.9/99.8 MB 5.8 MB/s eta 0:00:07\n",
      "   ------------------------ --------------- 60.0/99.8 MB 5.8 MB/s eta 0:00:07\n",
      "   ------------------------ --------------- 60.2/99.8 MB 5.7 MB/s eta 0:00:07\n",
      "   ------------------------ --------------- 60.3/99.8 MB 5.7 MB/s eta 0:00:07\n",
      "   ------------------------ --------------- 60.4/99.8 MB 5.6 MB/s eta 0:00:07\n",
      "   ------------------------ --------------- 60.6/99.8 MB 5.5 MB/s eta 0:00:08\n",
      "   ------------------------ --------------- 60.7/99.8 MB 5.5 MB/s eta 0:00:08\n",
      "   ------------------------ --------------- 60.8/99.8 MB 5.5 MB/s eta 0:00:08\n",
      "   ------------------------ --------------- 60.9/99.8 MB 5.4 MB/s eta 0:00:08\n",
      "   ------------------------ --------------- 60.9/99.8 MB 5.4 MB/s eta 0:00:08\n",
      "   ------------------------ --------------- 60.9/99.8 MB 5.4 MB/s eta 0:00:08\n",
      "   ------------------------ --------------- 60.9/99.8 MB 5.4 MB/s eta 0:00:08\n",
      "   ------------------------ --------------- 60.9/99.8 MB 5.4 MB/s eta 0:00:08\n",
      "   ------------------------ --------------- 60.9/99.8 MB 5.4 MB/s eta 0:00:08\n",
      "   ------------------------ --------------- 60.9/99.8 MB 5.4 MB/s eta 0:00:08\n",
      "   ------------------------ --------------- 60.9/99.8 MB 5.4 MB/s eta 0:00:08\n",
      "   ------------------------ --------------- 60.9/99.8 MB 5.4 MB/s eta 0:00:08\n",
      "   ------------------------ --------------- 60.9/99.8 MB 5.4 MB/s eta 0:00:08\n",
      "   ------------------------ --------------- 60.9/99.8 MB 5.4 MB/s eta 0:00:08\n",
      "   ------------------------ --------------- 60.9/99.8 MB 5.4 MB/s eta 0:00:08\n",
      "   ------------------------ --------------- 60.9/99.8 MB 5.4 MB/s eta 0:00:08\n",
      "   ------------------------ --------------- 60.9/99.8 MB 5.4 MB/s eta 0:00:08\n",
      "   ------------------------ --------------- 62.2/99.8 MB 4.5 MB/s eta 0:00:09\n",
      "   ------------------------- -------------- 62.9/99.8 MB 4.7 MB/s eta 0:00:08\n",
      "   ------------------------- -------------- 63.0/99.8 MB 4.6 MB/s eta 0:00:08\n",
      "   ------------------------- -------------- 63.1/99.8 MB 4.6 MB/s eta 0:00:08\n",
      "   ------------------------- -------------- 63.3/99.8 MB 4.6 MB/s eta 0:00:08\n",
      "   ------------------------- -------------- 63.4/99.8 MB 4.5 MB/s eta 0:00:08\n",
      "   ------------------------- -------------- 63.6/99.8 MB 4.5 MB/s eta 0:00:09\n",
      "   ------------------------- -------------- 63.8/99.8 MB 4.5 MB/s eta 0:00:09\n",
      "   ------------------------- -------------- 63.9/99.8 MB 4.5 MB/s eta 0:00:08\n",
      "   ------------------------- -------------- 64.2/99.8 MB 4.5 MB/s eta 0:00:08\n",
      "   ------------------------- -------------- 64.4/99.8 MB 4.5 MB/s eta 0:00:08\n",
      "   ------------------------- -------------- 64.7/99.8 MB 4.5 MB/s eta 0:00:08\n",
      "   -------------------------- ------------- 64.9/99.8 MB 4.5 MB/s eta 0:00:08\n",
      "   -------------------------- ------------- 65.1/99.8 MB 4.5 MB/s eta 0:00:08\n",
      "   -------------------------- ------------- 65.4/99.8 MB 4.5 MB/s eta 0:00:08\n",
      "   -------------------------- ------------- 65.7/99.8 MB 4.5 MB/s eta 0:00:08\n",
      "   -------------------------- ------------- 65.9/99.8 MB 4.5 MB/s eta 0:00:08\n",
      "   -------------------------- ------------- 66.1/99.8 MB 4.5 MB/s eta 0:00:08\n",
      "   -------------------------- ------------- 66.3/99.8 MB 4.5 MB/s eta 0:00:08\n",
      "   -------------------------- ------------- 66.6/99.8 MB 4.5 MB/s eta 0:00:08\n",
      "   -------------------------- ------------- 66.9/99.8 MB 4.5 MB/s eta 0:00:08\n",
      "   -------------------------- ------------- 67.1/99.8 MB 4.5 MB/s eta 0:00:08\n",
      "   -------------------------- ------------- 67.3/99.8 MB 4.4 MB/s eta 0:00:08\n",
      "   --------------------------- ------------ 67.5/99.8 MB 4.5 MB/s eta 0:00:08\n",
      "   --------------------------- ------------ 67.7/99.8 MB 4.4 MB/s eta 0:00:08\n",
      "   --------------------------- ------------ 68.0/99.8 MB 4.4 MB/s eta 0:00:08\n",
      "   --------------------------- ------------ 68.2/99.8 MB 4.4 MB/s eta 0:00:08\n",
      "   --------------------------- ------------ 68.3/99.8 MB 4.4 MB/s eta 0:00:08\n",
      "   --------------------------- ------------ 68.5/99.8 MB 4.4 MB/s eta 0:00:08\n",
      "   --------------------------- ------------ 68.8/99.8 MB 4.4 MB/s eta 0:00:08\n",
      "   --------------------------- ------------ 69.0/99.8 MB 4.3 MB/s eta 0:00:08\n",
      "   --------------------------- ------------ 69.3/99.8 MB 4.3 MB/s eta 0:00:08\n",
      "   --------------------------- ------------ 69.5/99.8 MB 4.4 MB/s eta 0:00:07\n",
      "   --------------------------- ------------ 69.8/99.8 MB 4.3 MB/s eta 0:00:07\n",
      "   ---------------------------- ----------- 69.9/99.8 MB 4.3 MB/s eta 0:00:07\n",
      "   ---------------------------- ----------- 70.2/99.8 MB 4.3 MB/s eta 0:00:07\n",
      "   ---------------------------- ----------- 70.4/99.8 MB 4.4 MB/s eta 0:00:07\n",
      "   ---------------------------- ----------- 70.7/99.8 MB 4.5 MB/s eta 0:00:07\n",
      "   ---------------------------- ----------- 70.9/99.8 MB 4.5 MB/s eta 0:00:07\n",
      "   ---------------------------- ----------- 71.1/99.8 MB 4.6 MB/s eta 0:00:07\n",
      "   ---------------------------- ----------- 71.4/99.8 MB 6.0 MB/s eta 0:00:05\n",
      "   ---------------------------- ----------- 71.6/99.8 MB 5.8 MB/s eta 0:00:05\n",
      "   ---------------------------- ----------- 71.8/99.8 MB 5.7 MB/s eta 0:00:05\n",
      "   ---------------------------- ----------- 72.1/99.8 MB 5.6 MB/s eta 0:00:05\n",
      "   ---------------------------- ----------- 72.3/99.8 MB 5.5 MB/s eta 0:00:05\n",
      "   ----------------------------- ---------- 72.5/99.8 MB 5.5 MB/s eta 0:00:05\n",
      "   ----------------------------- ---------- 72.9/99.8 MB 5.3 MB/s eta 0:00:06\n",
      "   ----------------------------- ---------- 73.1/99.8 MB 5.3 MB/s eta 0:00:06\n",
      "   ----------------------------- ---------- 73.4/99.8 MB 5.4 MB/s eta 0:00:05\n",
      "   ----------------------------- ---------- 73.6/99.8 MB 5.4 MB/s eta 0:00:05\n",
      "   ----------------------------- ---------- 73.8/99.8 MB 5.5 MB/s eta 0:00:05\n",
      "   ----------------------------- ---------- 74.1/99.8 MB 5.5 MB/s eta 0:00:05\n",
      "   ----------------------------- ---------- 74.3/99.8 MB 5.5 MB/s eta 0:00:05\n",
      "   ----------------------------- ---------- 74.5/99.8 MB 5.6 MB/s eta 0:00:05\n",
      "   ----------------------------- ---------- 74.8/99.8 MB 5.6 MB/s eta 0:00:05\n",
      "   ------------------------------ --------- 75.1/99.8 MB 5.5 MB/s eta 0:00:05\n",
      "   ------------------------------ --------- 75.3/99.8 MB 5.6 MB/s eta 0:00:05\n",
      "   ------------------------------ --------- 75.6/99.8 MB 5.6 MB/s eta 0:00:05\n",
      "   ------------------------------ --------- 75.8/99.8 MB 5.6 MB/s eta 0:00:05\n",
      "   ------------------------------ --------- 76.1/99.8 MB 5.5 MB/s eta 0:00:05\n",
      "   ------------------------------ --------- 76.4/99.8 MB 5.5 MB/s eta 0:00:05\n",
      "   ------------------------------ --------- 76.6/99.8 MB 5.6 MB/s eta 0:00:05\n",
      "   ------------------------------ --------- 76.8/99.8 MB 5.6 MB/s eta 0:00:05\n",
      "   ------------------------------ --------- 77.0/99.8 MB 5.5 MB/s eta 0:00:05\n",
      "   ------------------------------- -------- 77.3/99.8 MB 5.6 MB/s eta 0:00:05\n",
      "   ------------------------------- -------- 77.6/99.8 MB 5.5 MB/s eta 0:00:05\n",
      "   ------------------------------- -------- 77.7/99.8 MB 5.5 MB/s eta 0:00:04\n",
      "   ------------------------------- -------- 78.2/99.8 MB 5.6 MB/s eta 0:00:04\n",
      "   ------------------------------- -------- 78.3/99.8 MB 5.6 MB/s eta 0:00:04\n",
      "   ------------------------------- -------- 78.6/99.8 MB 5.6 MB/s eta 0:00:04\n",
      "   ------------------------------- -------- 78.9/99.8 MB 5.7 MB/s eta 0:00:04\n",
      "   ------------------------------- -------- 79.1/99.8 MB 5.7 MB/s eta 0:00:04\n",
      "   ------------------------------- -------- 79.3/99.8 MB 5.7 MB/s eta 0:00:04\n",
      "   ------------------------------- -------- 79.6/99.8 MB 5.7 MB/s eta 0:00:04\n",
      "   ------------------------------- -------- 79.7/99.8 MB 5.7 MB/s eta 0:00:04\n",
      "   -------------------------------- ------- 79.9/99.8 MB 5.6 MB/s eta 0:00:04\n",
      "   -------------------------------- ------- 80.0/99.8 MB 5.6 MB/s eta 0:00:04\n",
      "   -------------------------------- ------- 80.2/99.8 MB 5.6 MB/s eta 0:00:04\n",
      "   -------------------------------- ------- 80.4/99.8 MB 5.5 MB/s eta 0:00:04\n",
      "   -------------------------------- ------- 80.6/99.8 MB 5.5 MB/s eta 0:00:04\n",
      "   -------------------------------- ------- 80.8/99.8 MB 5.5 MB/s eta 0:00:04\n",
      "   -------------------------------- ------- 81.0/99.8 MB 5.5 MB/s eta 0:00:04\n",
      "   -------------------------------- ------- 81.2/99.8 MB 5.5 MB/s eta 0:00:04\n",
      "   -------------------------------- ------- 81.3/99.8 MB 5.4 MB/s eta 0:00:04\n",
      "   -------------------------------- ------- 81.5/99.8 MB 5.4 MB/s eta 0:00:04\n",
      "   -------------------------------- ------- 81.7/99.8 MB 5.4 MB/s eta 0:00:04\n",
      "   -------------------------------- ------- 81.9/99.8 MB 5.4 MB/s eta 0:00:04\n",
      "   -------------------------------- ------- 82.0/99.8 MB 5.3 MB/s eta 0:00:04\n",
      "   -------------------------------- ------- 82.2/99.8 MB 5.3 MB/s eta 0:00:04\n",
      "   --------------------------------- ------ 82.4/99.8 MB 5.2 MB/s eta 0:00:04\n",
      "   --------------------------------- ------ 82.6/99.8 MB 5.3 MB/s eta 0:00:04\n",
      "   --------------------------------- ------ 82.8/99.8 MB 5.3 MB/s eta 0:00:04\n",
      "   --------------------------------- ------ 83.1/99.8 MB 5.2 MB/s eta 0:00:04\n",
      "   --------------------------------- ------ 83.3/99.8 MB 5.2 MB/s eta 0:00:04\n",
      "   --------------------------------- ------ 83.4/99.8 MB 5.2 MB/s eta 0:00:04\n",
      "   --------------------------------- ------ 83.7/99.8 MB 5.2 MB/s eta 0:00:04\n",
      "   --------------------------------- ------ 83.9/99.8 MB 5.2 MB/s eta 0:00:04\n",
      "   --------------------------------- ------ 84.2/99.8 MB 5.2 MB/s eta 0:00:03\n",
      "   --------------------------------- ------ 84.5/99.8 MB 5.2 MB/s eta 0:00:03\n",
      "   --------------------------------- ------ 84.7/99.8 MB 5.2 MB/s eta 0:00:03\n",
      "   ---------------------------------- ----- 84.9/99.8 MB 5.2 MB/s eta 0:00:03\n",
      "   ---------------------------------- ----- 85.0/99.8 MB 5.2 MB/s eta 0:00:03\n",
      "   ---------------------------------- ----- 85.2/99.8 MB 5.1 MB/s eta 0:00:03\n",
      "   ---------------------------------- ----- 85.4/99.8 MB 5.1 MB/s eta 0:00:03\n",
      "   ---------------------------------- ----- 85.5/99.8 MB 5.1 MB/s eta 0:00:03\n",
      "   ---------------------------------- ----- 85.7/99.8 MB 5.0 MB/s eta 0:00:03\n",
      "   ---------------------------------- ----- 85.8/99.8 MB 5.0 MB/s eta 0:00:03\n",
      "   ---------------------------------- ----- 86.0/99.8 MB 5.0 MB/s eta 0:00:03\n",
      "   ---------------------------------- ----- 86.3/99.8 MB 5.0 MB/s eta 0:00:03\n",
      "   ---------------------------------- ----- 86.5/99.8 MB 4.9 MB/s eta 0:00:03\n",
      "   ---------------------------------- ----- 86.7/99.8 MB 4.9 MB/s eta 0:00:03\n",
      "   ---------------------------------- ----- 86.9/99.8 MB 4.9 MB/s eta 0:00:03\n",
      "   ---------------------------------- ----- 87.1/99.8 MB 4.9 MB/s eta 0:00:03\n",
      "   ----------------------------------- ---- 87.3/99.8 MB 4.9 MB/s eta 0:00:03\n",
      "   ----------------------------------- ---- 87.4/99.8 MB 4.9 MB/s eta 0:00:03\n",
      "   ----------------------------------- ---- 87.6/99.8 MB 4.8 MB/s eta 0:00:03\n",
      "   ----------------------------------- ---- 87.8/99.8 MB 4.8 MB/s eta 0:00:03\n",
      "   ----------------------------------- ---- 88.0/99.8 MB 4.8 MB/s eta 0:00:03\n",
      "   ----------------------------------- ---- 88.2/99.8 MB 4.7 MB/s eta 0:00:03\n",
      "   ----------------------------------- ---- 88.4/99.8 MB 4.7 MB/s eta 0:00:03\n",
      "   ----------------------------------- ---- 88.6/99.8 MB 4.7 MB/s eta 0:00:03\n",
      "   ----------------------------------- ---- 88.7/99.8 MB 4.6 MB/s eta 0:00:03\n",
      "   ----------------------------------- ---- 88.9/99.8 MB 4.7 MB/s eta 0:00:03\n",
      "   ----------------------------------- ---- 89.1/99.8 MB 4.6 MB/s eta 0:00:03\n",
      "   ----------------------------------- ---- 89.3/99.8 MB 4.6 MB/s eta 0:00:03\n",
      "   ----------------------------------- ---- 89.5/99.8 MB 4.6 MB/s eta 0:00:03\n",
      "   ----------------------------------- ---- 89.5/99.8 MB 4.6 MB/s eta 0:00:03\n",
      "   ----------------------------------- ---- 89.5/99.8 MB 4.6 MB/s eta 0:00:03\n",
      "   ----------------------------------- ---- 89.5/99.8 MB 4.6 MB/s eta 0:00:03\n",
      "   ----------------------------------- ---- 89.5/99.8 MB 4.6 MB/s eta 0:00:03\n",
      "   ----------------------------------- ---- 89.5/99.8 MB 4.6 MB/s eta 0:00:03\n",
      "   ----------------------------------- ---- 89.5/99.8 MB 4.6 MB/s eta 0:00:03\n",
      "   ----------------------------------- ---- 89.5/99.8 MB 4.6 MB/s eta 0:00:03\n",
      "   ----------------------------------- ---- 89.5/99.8 MB 4.6 MB/s eta 0:00:03\n",
      "   ----------------------------------- ---- 89.5/99.8 MB 4.6 MB/s eta 0:00:03\n",
      "   ----------------------------------- ---- 89.5/99.8 MB 4.6 MB/s eta 0:00:03\n",
      "   ----------------------------------- ---- 89.5/99.8 MB 4.6 MB/s eta 0:00:03\n",
      "   ----------------------------------- ---- 89.7/99.8 MB 3.8 MB/s eta 0:00:03\n",
      "   ------------------------------------ --- 91.1/99.8 MB 4.2 MB/s eta 0:00:03\n",
      "   ------------------------------------ --- 91.1/99.8 MB 4.2 MB/s eta 0:00:03\n",
      "   ------------------------------------ --- 91.1/99.8 MB 4.2 MB/s eta 0:00:03\n",
      "   ------------------------------------ --- 91.1/99.8 MB 4.2 MB/s eta 0:00:03\n",
      "   ------------------------------------ --- 91.1/99.8 MB 4.2 MB/s eta 0:00:03\n",
      "   ------------------------------------ --- 91.2/99.8 MB 3.9 MB/s eta 0:00:03\n",
      "   ------------------------------------ --- 91.6/99.8 MB 4.0 MB/s eta 0:00:03\n",
      "   ------------------------------------ --- 92.2/99.8 MB 4.1 MB/s eta 0:00:02\n",
      "   ------------------------------------- -- 93.7/99.8 MB 4.6 MB/s eta 0:00:02\n",
      "   ------------------------------------- -- 93.9/99.8 MB 4.5 MB/s eta 0:00:02\n",
      "   ------------------------------------- -- 94.2/99.8 MB 4.6 MB/s eta 0:00:02\n",
      "   ------------------------------------- -- 94.4/99.8 MB 4.5 MB/s eta 0:00:02\n",
      "   ------------------------------------- -- 94.5/99.8 MB 4.5 MB/s eta 0:00:02\n",
      "   ------------------------------------- -- 94.6/99.8 MB 4.5 MB/s eta 0:00:02\n",
      "   ------------------------------------- -- 94.8/99.8 MB 4.4 MB/s eta 0:00:02\n",
      "   -------------------------------------- - 94.9/99.8 MB 4.4 MB/s eta 0:00:02\n",
      "   -------------------------------------- - 95.1/99.8 MB 4.4 MB/s eta 0:00:02\n",
      "   -------------------------------------- - 95.3/99.8 MB 4.4 MB/s eta 0:00:02\n",
      "   -------------------------------------- - 95.5/99.8 MB 4.4 MB/s eta 0:00:01\n",
      "   -------------------------------------- - 95.6/99.8 MB 4.4 MB/s eta 0:00:01\n",
      "   -------------------------------------- - 95.8/99.8 MB 4.3 MB/s eta 0:00:01\n",
      "   -------------------------------------- - 95.9/99.8 MB 4.3 MB/s eta 0:00:01\n",
      "   -------------------------------------- - 96.0/99.8 MB 4.3 MB/s eta 0:00:01\n",
      "   -------------------------------------- - 96.2/99.8 MB 4.3 MB/s eta 0:00:01\n",
      "   -------------------------------------- - 96.4/99.8 MB 4.3 MB/s eta 0:00:01\n",
      "   -------------------------------------- - 96.6/99.8 MB 4.4 MB/s eta 0:00:01\n",
      "   -------------------------------------- - 96.8/99.8 MB 4.3 MB/s eta 0:00:01\n",
      "   -------------------------------------- - 97.0/99.8 MB 4.3 MB/s eta 0:00:01\n",
      "   -------------------------------------- - 97.2/99.8 MB 4.3 MB/s eta 0:00:01\n",
      "   ---------------------------------------  97.3/99.8 MB 4.3 MB/s eta 0:00:01\n",
      "   ---------------------------------------  97.5/99.8 MB 4.3 MB/s eta 0:00:01\n",
      "   ---------------------------------------  97.6/99.8 MB 4.3 MB/s eta 0:00:01\n",
      "   ---------------------------------------  97.8/99.8 MB 4.3 MB/s eta 0:00:01\n",
      "   ---------------------------------------  97.9/99.8 MB 4.3 MB/s eta 0:00:01\n",
      "   ---------------------------------------  98.1/99.8 MB 4.3 MB/s eta 0:00:01\n",
      "   ---------------------------------------  98.3/99.8 MB 4.2 MB/s eta 0:00:01\n",
      "   ---------------------------------------  98.4/99.8 MB 4.2 MB/s eta 0:00:01\n",
      "   ---------------------------------------  98.5/99.8 MB 4.2 MB/s eta 0:00:01\n",
      "   ---------------------------------------  98.7/99.8 MB 4.2 MB/s eta 0:00:01\n",
      "   ---------------------------------------  98.9/99.8 MB 4.2 MB/s eta 0:00:01\n",
      "   ---------------------------------------  99.0/99.8 MB 4.2 MB/s eta 0:00:01\n",
      "   ---------------------------------------  99.2/99.8 MB 4.1 MB/s eta 0:00:01\n",
      "   ---------------------------------------  99.3/99.8 MB 4.1 MB/s eta 0:00:01\n",
      "   ---------------------------------------  99.5/99.8 MB 4.1 MB/s eta 0:00:01\n",
      "   ---------------------------------------  99.7/99.8 MB 4.1 MB/s eta 0:00:01\n",
      "   ---------------------------------------  99.7/99.8 MB 5.2 MB/s eta 0:00:01\n",
      "   ---------------------------------------  99.7/99.8 MB 5.2 MB/s eta 0:00:01\n",
      "   ---------------------------------------  99.7/99.8 MB 5.2 MB/s eta 0:00:01\n",
      "   ---------------------------------------  99.7/99.8 MB 5.2 MB/s eta 0:00:01\n",
      "   ---------------------------------------  99.7/99.8 MB 5.2 MB/s eta 0:00:01\n",
      "   ---------------------------------------  99.7/99.8 MB 5.2 MB/s eta 0:00:01\n",
      "   ---------------------------------------  99.7/99.8 MB 5.2 MB/s eta 0:00:01\n",
      "   ---------------------------------------  99.7/99.8 MB 5.2 MB/s eta 0:00:01\n",
      "   ---------------------------------------- 99.8/99.8 MB 4.2 MB/s eta 0:00:00\n",
      "Installing collected packages: xgboost\n",
      "Successfully installed xgboost-2.0.3\n"
     ]
    }
   ],
   "source": [
    "pip install xgboost"
   ]
  },
  {
   "cell_type": "code",
   "execution_count": 196,
   "id": "828d54a5",
   "metadata": {},
   "outputs": [],
   "source": [
    "import xgboost as xgb"
   ]
  },
  {
   "cell_type": "code",
   "execution_count": 197,
   "id": "fe670cf7",
   "metadata": {},
   "outputs": [],
   "source": [
    "xgb_clf = xgb.XGBClassifier(max_depth=5, n_estimators=10000, learning_rate=0.3,\n",
    "                            n_jobs=-1)"
   ]
  },
  {
   "cell_type": "code",
   "execution_count": 198,
   "id": "3aa41857",
   "metadata": {},
   "outputs": [
    {
     "data": {
      "text/html": [
       "<style>#sk-container-id-22 {color: black;}#sk-container-id-22 pre{padding: 0;}#sk-container-id-22 div.sk-toggleable {background-color: white;}#sk-container-id-22 label.sk-toggleable__label {cursor: pointer;display: block;width: 100%;margin-bottom: 0;padding: 0.3em;box-sizing: border-box;text-align: center;}#sk-container-id-22 label.sk-toggleable__label-arrow:before {content: \"▸\";float: left;margin-right: 0.25em;color: #696969;}#sk-container-id-22 label.sk-toggleable__label-arrow:hover:before {color: black;}#sk-container-id-22 div.sk-estimator:hover label.sk-toggleable__label-arrow:before {color: black;}#sk-container-id-22 div.sk-toggleable__content {max-height: 0;max-width: 0;overflow: hidden;text-align: left;background-color: #f0f8ff;}#sk-container-id-22 div.sk-toggleable__content pre {margin: 0.2em;color: black;border-radius: 0.25em;background-color: #f0f8ff;}#sk-container-id-22 input.sk-toggleable__control:checked~div.sk-toggleable__content {max-height: 200px;max-width: 100%;overflow: auto;}#sk-container-id-22 input.sk-toggleable__control:checked~label.sk-toggleable__label-arrow:before {content: \"▾\";}#sk-container-id-22 div.sk-estimator input.sk-toggleable__control:checked~label.sk-toggleable__label {background-color: #d4ebff;}#sk-container-id-22 div.sk-label input.sk-toggleable__control:checked~label.sk-toggleable__label {background-color: #d4ebff;}#sk-container-id-22 input.sk-hidden--visually {border: 0;clip: rect(1px 1px 1px 1px);clip: rect(1px, 1px, 1px, 1px);height: 1px;margin: -1px;overflow: hidden;padding: 0;position: absolute;width: 1px;}#sk-container-id-22 div.sk-estimator {font-family: monospace;background-color: #f0f8ff;border: 1px dotted black;border-radius: 0.25em;box-sizing: border-box;margin-bottom: 0.5em;}#sk-container-id-22 div.sk-estimator:hover {background-color: #d4ebff;}#sk-container-id-22 div.sk-parallel-item::after {content: \"\";width: 100%;border-bottom: 1px solid gray;flex-grow: 1;}#sk-container-id-22 div.sk-label:hover label.sk-toggleable__label {background-color: #d4ebff;}#sk-container-id-22 div.sk-serial::before {content: \"\";position: absolute;border-left: 1px solid gray;box-sizing: border-box;top: 0;bottom: 0;left: 50%;z-index: 0;}#sk-container-id-22 div.sk-serial {display: flex;flex-direction: column;align-items: center;background-color: white;padding-right: 0.2em;padding-left: 0.2em;position: relative;}#sk-container-id-22 div.sk-item {position: relative;z-index: 1;}#sk-container-id-22 div.sk-parallel {display: flex;align-items: stretch;justify-content: center;background-color: white;position: relative;}#sk-container-id-22 div.sk-item::before, #sk-container-id-22 div.sk-parallel-item::before {content: \"\";position: absolute;border-left: 1px solid gray;box-sizing: border-box;top: 0;bottom: 0;left: 50%;z-index: -1;}#sk-container-id-22 div.sk-parallel-item {display: flex;flex-direction: column;z-index: 1;position: relative;background-color: white;}#sk-container-id-22 div.sk-parallel-item:first-child::after {align-self: flex-end;width: 50%;}#sk-container-id-22 div.sk-parallel-item:last-child::after {align-self: flex-start;width: 50%;}#sk-container-id-22 div.sk-parallel-item:only-child::after {width: 0;}#sk-container-id-22 div.sk-dashed-wrapped {border: 1px dashed gray;margin: 0 0.4em 0.5em 0.4em;box-sizing: border-box;padding-bottom: 0.4em;background-color: white;}#sk-container-id-22 div.sk-label label {font-family: monospace;font-weight: bold;display: inline-block;line-height: 1.2em;}#sk-container-id-22 div.sk-label-container {text-align: center;}#sk-container-id-22 div.sk-container {/* jupyter's `normalize.less` sets `[hidden] { display: none; }` but bootstrap.min.css set `[hidden] { display: none !important; }` so we also need the `!important` here to be able to override the default hidden behavior on the sphinx rendered scikit-learn.org. See: https://github.com/scikit-learn/scikit-learn/issues/21755 */display: inline-block !important;position: relative;}#sk-container-id-22 div.sk-text-repr-fallback {display: none;}</style><div id=\"sk-container-id-22\" class=\"sk-top-container\"><div class=\"sk-text-repr-fallback\"><pre>XGBClassifier(base_score=None, booster=None, callbacks=None,\n",
       "              colsample_bylevel=None, colsample_bynode=None,\n",
       "              colsample_bytree=None, device=None, early_stopping_rounds=None,\n",
       "              enable_categorical=False, eval_metric=None, feature_types=None,\n",
       "              gamma=None, grow_policy=None, importance_type=None,\n",
       "              interaction_constraints=None, learning_rate=0.3, max_bin=None,\n",
       "              max_cat_threshold=None, max_cat_to_onehot=None,\n",
       "              max_delta_step=None, max_depth=5, max_leaves=None,\n",
       "              min_child_weight=None, missing=nan, monotone_constraints=None,\n",
       "              multi_strategy=None, n_estimators=10000, n_jobs=-1,\n",
       "              num_parallel_tree=None, random_state=None, ...)</pre><b>In a Jupyter environment, please rerun this cell to show the HTML representation or trust the notebook. <br />On GitHub, the HTML representation is unable to render, please try loading this page with nbviewer.org.</b></div><div class=\"sk-container\" hidden><div class=\"sk-item\"><div class=\"sk-estimator sk-toggleable\"><input class=\"sk-toggleable__control sk-hidden--visually\" id=\"sk-estimator-id-34\" type=\"checkbox\" checked><label for=\"sk-estimator-id-34\" class=\"sk-toggleable__label sk-toggleable__label-arrow\">XGBClassifier</label><div class=\"sk-toggleable__content\"><pre>XGBClassifier(base_score=None, booster=None, callbacks=None,\n",
       "              colsample_bylevel=None, colsample_bynode=None,\n",
       "              colsample_bytree=None, device=None, early_stopping_rounds=None,\n",
       "              enable_categorical=False, eval_metric=None, feature_types=None,\n",
       "              gamma=None, grow_policy=None, importance_type=None,\n",
       "              interaction_constraints=None, learning_rate=0.3, max_bin=None,\n",
       "              max_cat_threshold=None, max_cat_to_onehot=None,\n",
       "              max_delta_step=None, max_depth=5, max_leaves=None,\n",
       "              min_child_weight=None, missing=nan, monotone_constraints=None,\n",
       "              multi_strategy=None, n_estimators=10000, n_jobs=-1,\n",
       "              num_parallel_tree=None, random_state=None, ...)</pre></div></div></div></div></div>"
      ],
      "text/plain": [
       "XGBClassifier(base_score=None, booster=None, callbacks=None,\n",
       "              colsample_bylevel=None, colsample_bynode=None,\n",
       "              colsample_bytree=None, device=None, early_stopping_rounds=None,\n",
       "              enable_categorical=False, eval_metric=None, feature_types=None,\n",
       "              gamma=None, grow_policy=None, importance_type=None,\n",
       "              interaction_constraints=None, learning_rate=0.3, max_bin=None,\n",
       "              max_cat_threshold=None, max_cat_to_onehot=None,\n",
       "              max_delta_step=None, max_depth=5, max_leaves=None,\n",
       "              min_child_weight=None, missing=nan, monotone_constraints=None,\n",
       "              multi_strategy=None, n_estimators=10000, n_jobs=-1,\n",
       "              num_parallel_tree=None, random_state=None, ...)"
      ]
     },
     "execution_count": 198,
     "metadata": {},
     "output_type": "execute_result"
    }
   ],
   "source": [
    "xgb_clf.fit(X_train, y_train)"
   ]
  },
  {
   "cell_type": "code",
   "execution_count": 199,
   "id": "8dbda82f",
   "metadata": {},
   "outputs": [
    {
     "data": {
      "text/plain": [
       "0.7904191616766467"
      ]
     },
     "execution_count": 199,
     "metadata": {},
     "output_type": "execute_result"
    }
   ],
   "source": [
    "# Checking model performance\n",
    "accuracy_score(y_test, xgb_clf.predict(X_test))"
   ]
  },
  {
   "cell_type": "code",
   "execution_count": 200,
   "id": "074ace84",
   "metadata": {},
   "outputs": [
    {
     "data": {
      "text/plain": [
       "<Axes: title={'center': 'Feature importance'}, xlabel='F score', ylabel='Features'>"
      ]
     },
     "execution_count": 200,
     "metadata": {},
     "output_type": "execute_result"
    },
    {
     "data": {
      "image/png": "[encoded data removed]",
      "text/plain": [
       "<Figure size 640x480 with 1 Axes>"
      ]
     },
     "metadata": {},
     "output_type": "display_data"
    }
   ],
   "source": [
    "# Plotting the graph of importance\n",
    "xgb.plot_importance(xgb_clf)"
   ]
  },
  {
   "cell_type": "code",
   "execution_count": 201,
   "id": "c3f6596c",
   "metadata": {},
   "outputs": [],
   "source": [
    "xgb_clf = xgb.XGBClassifier(n_estimators=250,learning_rate=0.1, random_state=42)"
   ]
  },
  {
   "cell_type": "code",
   "execution_count": 202,
   "id": "4be4f825",
   "metadata": {},
   "outputs": [],
   "source": [
    "param_test1 = {\n",
    " 'max_depth':range(3,10,2),\n",
    "    'gamma' : [0.1,0.2,0.3],\n",
    "    'subsample':[0.8,0.9],\n",
    "    'colsample_bytree':[0.8,0.9],\n",
    "    'reg_alpha':[ 1e-2, 0.1, 1]\n",
    "}"
   ]
  },
  {
   "cell_type": "code",
   "execution_count": 203,
   "id": "2264a84c",
   "metadata": {},
   "outputs": [],
   "source": [
    "#Using Grid search to boost the performance\n",
    "grid_search = GridSearchCV(xgb_clf, param_test1,\n",
    "                           n_jobs=-1, cv=5, scoring='accuracy')"
   ]
  },
  {
   "cell_type": "code",
   "execution_count": 204,
   "id": "062ff5af",
   "metadata": {},
   "outputs": [
    {
     "data": {
      "text/html": [
       "<style>#sk-container-id-23 {color: black;}#sk-container-id-23 pre{padding: 0;}#sk-container-id-23 div.sk-toggleable {background-color: white;}#sk-container-id-23 label.sk-toggleable__label {cursor: pointer;display: block;width: 100%;margin-bottom: 0;padding: 0.3em;box-sizing: border-box;text-align: center;}#sk-container-id-23 label.sk-toggleable__label-arrow:before {content: \"▸\";float: left;margin-right: 0.25em;color: #696969;}#sk-container-id-23 label.sk-toggleable__label-arrow:hover:before {color: black;}#sk-container-id-23 div.sk-estimator:hover label.sk-toggleable__label-arrow:before {color: black;}#sk-container-id-23 div.sk-toggleable__content {max-height: 0;max-width: 0;overflow: hidden;text-align: left;background-color: #f0f8ff;}#sk-container-id-23 div.sk-toggleable__content pre {margin: 0.2em;color: black;border-radius: 0.25em;background-color: #f0f8ff;}#sk-container-id-23 input.sk-toggleable__control:checked~div.sk-toggleable__content {max-height: 200px;max-width: 100%;overflow: auto;}#sk-container-id-23 input.sk-toggleable__control:checked~label.sk-toggleable__label-arrow:before {content: \"▾\";}#sk-container-id-23 div.sk-estimator input.sk-toggleable__control:checked~label.sk-toggleable__label {background-color: #d4ebff;}#sk-container-id-23 div.sk-label input.sk-toggleable__control:checked~label.sk-toggleable__label {background-color: #d4ebff;}#sk-container-id-23 input.sk-hidden--visually {border: 0;clip: rect(1px 1px 1px 1px);clip: rect(1px, 1px, 1px, 1px);height: 1px;margin: -1px;overflow: hidden;padding: 0;position: absolute;width: 1px;}#sk-container-id-23 div.sk-estimator {font-family: monospace;background-color: #f0f8ff;border: 1px dotted black;border-radius: 0.25em;box-sizing: border-box;margin-bottom: 0.5em;}#sk-container-id-23 div.sk-estimator:hover {background-color: #d4ebff;}#sk-container-id-23 div.sk-parallel-item::after {content: \"\";width: 100%;border-bottom: 1px solid gray;flex-grow: 1;}#sk-container-id-23 div.sk-label:hover label.sk-toggleable__label {background-color: #d4ebff;}#sk-container-id-23 div.sk-serial::before {content: \"\";position: absolute;border-left: 1px solid gray;box-sizing: border-box;top: 0;bottom: 0;left: 50%;z-index: 0;}#sk-container-id-23 div.sk-serial {display: flex;flex-direction: column;align-items: center;background-color: white;padding-right: 0.2em;padding-left: 0.2em;position: relative;}#sk-container-id-23 div.sk-item {position: relative;z-index: 1;}#sk-container-id-23 div.sk-parallel {display: flex;align-items: stretch;justify-content: center;background-color: white;position: relative;}#sk-container-id-23 div.sk-item::before, #sk-container-id-23 div.sk-parallel-item::before {content: \"\";position: absolute;border-left: 1px solid gray;box-sizing: border-box;top: 0;bottom: 0;left: 50%;z-index: -1;}#sk-container-id-23 div.sk-parallel-item {display: flex;flex-direction: column;z-index: 1;position: relative;background-color: white;}#sk-container-id-23 div.sk-parallel-item:first-child::after {align-self: flex-end;width: 50%;}#sk-container-id-23 div.sk-parallel-item:last-child::after {align-self: flex-start;width: 50%;}#sk-container-id-23 div.sk-parallel-item:only-child::after {width: 0;}#sk-container-id-23 div.sk-dashed-wrapped {border: 1px dashed gray;margin: 0 0.4em 0.5em 0.4em;box-sizing: border-box;padding-bottom: 0.4em;background-color: white;}#sk-container-id-23 div.sk-label label {font-family: monospace;font-weight: bold;display: inline-block;line-height: 1.2em;}#sk-container-id-23 div.sk-label-container {text-align: center;}#sk-container-id-23 div.sk-container {/* jupyter's `normalize.less` sets `[hidden] { display: none; }` but bootstrap.min.css set `[hidden] { display: none !important; }` so we also need the `!important` here to be able to override the default hidden behavior on the sphinx rendered scikit-learn.org. See: https://github.com/scikit-learn/scikit-learn/issues/21755 */display: inline-block !important;position: relative;}#sk-container-id-23 div.sk-text-repr-fallback {display: none;}</style><div id=\"sk-container-id-23\" class=\"sk-top-container\"><div class=\"sk-text-repr-fallback\"><pre>GridSearchCV(cv=5,\n",
       "             estimator=XGBClassifier(base_score=None, booster=None,\n",
       "                                     callbacks=None, colsample_bylevel=None,\n",
       "                                     colsample_bynode=None,\n",
       "                                     colsample_bytree=None, device=None,\n",
       "                                     early_stopping_rounds=None,\n",
       "                                     enable_categorical=False, eval_metric=None,\n",
       "                                     feature_types=None, gamma=None,\n",
       "                                     grow_policy=None, importance_type=None,\n",
       "                                     interaction_constraints=None,\n",
       "                                     learning_rate=0.1, m...\n",
       "                                     max_delta_step=None, max_depth=None,\n",
       "                                     max_leaves=None, min_child_weight=None,\n",
       "                                     missing=nan, monotone_constraints=None,\n",
       "                                     multi_strategy=None, n_estimators=250,\n",
       "                                     n_jobs=None, num_parallel_tree=None,\n",
       "                                     random_state=42, ...),\n",
       "             n_jobs=-1,\n",
       "             param_grid={&#x27;colsample_bytree&#x27;: [0.8, 0.9],\n",
       "                         &#x27;gamma&#x27;: [0.1, 0.2, 0.3], &#x27;max_depth&#x27;: range(3, 10, 2),\n",
       "                         &#x27;reg_alpha&#x27;: [0.01, 0.1, 1], &#x27;subsample&#x27;: [0.8, 0.9]},\n",
       "             scoring=&#x27;accuracy&#x27;)</pre><b>In a Jupyter environment, please rerun this cell to show the HTML representation or trust the notebook. <br />On GitHub, the HTML representation is unable to render, please try loading this page with nbviewer.org.</b></div><div class=\"sk-container\" hidden><div class=\"sk-item sk-dashed-wrapped\"><div class=\"sk-label-container\"><div class=\"sk-label sk-toggleable\"><input class=\"sk-toggleable__control sk-hidden--visually\" id=\"sk-estimator-id-35\" type=\"checkbox\" ><label for=\"sk-estimator-id-35\" class=\"sk-toggleable__label sk-toggleable__label-arrow\">GridSearchCV</label><div class=\"sk-toggleable__content\"><pre>GridSearchCV(cv=5,\n",
       "             estimator=XGBClassifier(base_score=None, booster=None,\n",
       "                                     callbacks=None, colsample_bylevel=None,\n",
       "                                     colsample_bynode=None,\n",
       "                                     colsample_bytree=None, device=None,\n",
       "                                     early_stopping_rounds=None,\n",
       "                                     enable_categorical=False, eval_metric=None,\n",
       "                                     feature_types=None, gamma=None,\n",
       "                                     grow_policy=None, importance_type=None,\n",
       "                                     interaction_constraints=None,\n",
       "                                     learning_rate=0.1, m...\n",
       "                                     max_delta_step=None, max_depth=None,\n",
       "                                     max_leaves=None, min_child_weight=None,\n",
       "                                     missing=nan, monotone_constraints=None,\n",
       "                                     multi_strategy=None, n_estimators=250,\n",
       "                                     n_jobs=None, num_parallel_tree=None,\n",
       "                                     random_state=42, ...),\n",
       "             n_jobs=-1,\n",
       "             param_grid={&#x27;colsample_bytree&#x27;: [0.8, 0.9],\n",
       "                         &#x27;gamma&#x27;: [0.1, 0.2, 0.3], &#x27;max_depth&#x27;: range(3, 10, 2),\n",
       "                         &#x27;reg_alpha&#x27;: [0.01, 0.1, 1], &#x27;subsample&#x27;: [0.8, 0.9]},\n",
       "             scoring=&#x27;accuracy&#x27;)</pre></div></div></div><div class=\"sk-parallel\"><div class=\"sk-parallel-item\"><div class=\"sk-item\"><div class=\"sk-label-container\"><div class=\"sk-label sk-toggleable\"><input class=\"sk-toggleable__control sk-hidden--visually\" id=\"sk-estimator-id-36\" type=\"checkbox\" ><label for=\"sk-estimator-id-36\" class=\"sk-toggleable__label sk-toggleable__label-arrow\">estimator: XGBClassifier</label><div class=\"sk-toggleable__content\"><pre>XGBClassifier(base_score=None, booster=None, callbacks=None,\n",
       "              colsample_bylevel=None, colsample_bynode=None,\n",
       "              colsample_bytree=None, device=None, early_stopping_rounds=None,\n",
       "              enable_categorical=False, eval_metric=None, feature_types=None,\n",
       "              gamma=None, grow_policy=None, importance_type=None,\n",
       "              interaction_constraints=None, learning_rate=0.1, max_bin=None,\n",
       "              max_cat_threshold=None, max_cat_to_onehot=None,\n",
       "              max_delta_step=None, max_depth=None, max_leaves=None,\n",
       "              min_child_weight=None, missing=nan, monotone_constraints=None,\n",
       "              multi_strategy=None, n_estimators=250, n_jobs=None,\n",
       "              num_parallel_tree=None, random_state=42, ...)</pre></div></div></div><div class=\"sk-serial\"><div class=\"sk-item\"><div class=\"sk-estimator sk-toggleable\"><input class=\"sk-toggleable__control sk-hidden--visually\" id=\"sk-estimator-id-37\" type=\"checkbox\" ><label for=\"sk-estimator-id-37\" class=\"sk-toggleable__label sk-toggleable__label-arrow\">XGBClassifier</label><div class=\"sk-toggleable__content\"><pre>XGBClassifier(base_score=None, booster=None, callbacks=None,\n",
       "              colsample_bylevel=None, colsample_bynode=None,\n",
       "              colsample_bytree=None, device=None, early_stopping_rounds=None,\n",
       "              enable_categorical=False, eval_metric=None, feature_types=None,\n",
       "              gamma=None, grow_policy=None, importance_type=None,\n",
       "              interaction_constraints=None, learning_rate=0.1, max_bin=None,\n",
       "              max_cat_threshold=None, max_cat_to_onehot=None,\n",
       "              max_delta_step=None, max_depth=None, max_leaves=None,\n",
       "              min_child_weight=None, missing=nan, monotone_constraints=None,\n",
       "              multi_strategy=None, n_estimators=250, n_jobs=None,\n",
       "              num_parallel_tree=None, random_state=42, ...)</pre></div></div></div></div></div></div></div></div></div></div>"
      ],
      "text/plain": [
       "GridSearchCV(cv=5,\n",
       "             estimator=XGBClassifier(base_score=None, booster=None,\n",
       "                                     callbacks=None, colsample_bylevel=None,\n",
       "                                     colsample_bynode=None,\n",
       "                                     colsample_bytree=None, device=None,\n",
       "                                     early_stopping_rounds=None,\n",
       "                                     enable_categorical=False, eval_metric=None,\n",
       "                                     feature_types=None, gamma=None,\n",
       "                                     grow_policy=None, importance_type=None,\n",
       "                                     interaction_constraints=None,\n",
       "                                     learning_rate=0.1, m...\n",
       "                                     max_delta_step=None, max_depth=None,\n",
       "                                     max_leaves=None, min_child_weight=None,\n",
       "                                     missing=nan, monotone_constraints=None,\n",
       "                                     multi_strategy=None, n_estimators=250,\n",
       "                                     n_jobs=None, num_parallel_tree=None,\n",
       "                                     random_state=42, ...),\n",
       "             n_jobs=-1,\n",
       "             param_grid={'colsample_bytree': [0.8, 0.9],\n",
       "                         'gamma': [0.1, 0.2, 0.3], 'max_depth': range(3, 10, 2),\n",
       "                         'reg_alpha': [0.01, 0.1, 1], 'subsample': [0.8, 0.9]},\n",
       "             scoring='accuracy')"
      ]
     },
     "execution_count": 204,
     "metadata": {},
     "output_type": "execute_result"
    }
   ],
   "source": [
    "grid_search.fit(X_train, y_train)"
   ]
  },
  {
   "cell_type": "code",
   "execution_count": 208,
   "id": "c8c99a8b",
   "metadata": {},
   "outputs": [],
   "source": [
    "# Checking best estimator for the model\n",
    "cvxg_clf = grid_search.best_estimator_\n"
   ]
  },
  {
   "cell_type": "code",
   "execution_count": 206,
   "id": "9ff85f04",
   "metadata": {},
   "outputs": [
    {
     "data": {
      "text/plain": [
       "0.8338323353293413"
      ]
     },
     "execution_count": 206,
     "metadata": {},
     "output_type": "execute_result"
    }
   ],
   "source": [
    "accuracy_score(y_test, cvxg_clf.predict(X_test))"
   ]
  },
  {
   "cell_type": "markdown",
   "id": "e0f3ef55",
   "metadata": {},
   "source": [
    "Now using Grid search we have improved our model performance which we were not able to do much with xg boost .\n",
    "We got 83.38% accuracy with Gridsearch CV and 79.04% by xg boost."
   ]
  },
  {
   "cell_type": "markdown",
   "id": "e55ae046",
   "metadata": {},
   "source": [
    "# Summary of models used and their accuracy rates are as follows:\n",
    "\n",
    "1) Logistic regression - 78.96% \n",
    "2) Using LDA on it we got 81.98%\n",
    "\n",
    "3) KNN- 73.05% (with k=1)\n",
    "        79.19% (with k=3)\n",
    "    \n",
    "4) Gridsearch CV - best parameter is 30 - 82.48%\n",
    "\n",
    "5) Decision tree classifier-82.18%\n",
    "\n",
    "6) Bagging 83.53%\n",
    "\n",
    "7) Random Forest Classifier 81.73%\n",
    "\n",
    "8) Ada boost- 82.03%\n",
    "\n",
    "9) Gradient boosting - 82.78%\n",
    "   after updating parameters -83.08%\n",
    "\n",
    "10) XG boost-79.04%\n",
    "\n",
    "11) Grid search on Random forest= 83.38%"
   ]
  },
  {
   "cell_type": "markdown",
   "id": "ed9f3ac6",
   "metadata": {},
   "source": [
    "# Questions:\n",
    "    \n",
    "   1) Your views about the problem statement?\n",
    "  Ans: Here I have to create an ML model to accurately predict the rainfall. So I have studied the data and used differnt techniques and compared their accuracies. As an ML expert it is neccesary to create a model which will have more accuracy of prediction. \n",
    "    \n",
    "   2) What will be your approach to solving this task?\n",
    "  Ans:  Here as accuracy is the key point, so I will first try out various models and then compare their performances. Also I will use ensemble techniques to improve or increase or elevate my models performance.    \n",
    "    \n",
    "    \n",
    "   3) What were the available ML model options you had to perform this task?\n",
    "  Ans: This task is of classification so , we have many options.I have listed some options below.\n",
    "  Logistic Regression\n",
    "  Decision tree classifier\n",
    "  KNN classifier\n",
    "  Random forest classifier\n",
    "  Bagging\n",
    "  Gridsearch CV\n",
    "  Ensemble techniques like- XG Boost, Gradient Boost, Ada Boost etc.\n",
    "  \n",
    "  \n",
    "   4) Which model’s performance is best and what could be the possible reason for that?\n",
    "   Ans: Decision tree classifier has performed best with bagging technique used with it.\n",
    "   Decision Tree is an optimising technique used in order to make decisions on the basis\n",
    "of tree structure graphs or model by analysing possible events and hence possible chances of\n",
    "outcomes.It is a combination of mathematical & computational techniques in ml, so its sciences to automatically extract patterns from complex and high dimensional data leads to more accuracy.\n",
    "   \n",
    "   \n",
    "   5) What steps can you take to improve this selected model’s performance even further?\n",
    "   \n",
    "   Ans: Trying to use other ensemble techinques like Ada boost, Gradient boost, XG Boost with decision tree classifier will surely increase the performance even further of bagging technique.\n",
    "\n"
   ]
  }
 ],
 "metadata": {
  "kernelspec": {
   "display_name": "Python 3 (ipykernel)",
   "language": "python",
   "name": "python3"
  },
  "language_info": {
   "codemirror_mode": {
    "name": "ipython",
    "version": 3
   },
   "file_extension": ".py",
   "mimetype": "text/x-python",
   "name": "python",
   "nbconvert_exporter": "python",
   "pygments_lexer": "ipython3",
   "version": "3.11.5"
  }
 },
 "nbformat": 4,
 "nbformat_minor": 5
}
